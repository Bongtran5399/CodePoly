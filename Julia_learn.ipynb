{
 "cells": [
  {
   "cell_type": "markdown",
   "metadata": {},
   "source": [
    "Getting started with Julia, and compare to Python\n",
    "Print statements:"
   ]
  },
  {
   "cell_type": "code",
   "execution_count": 1,
   "metadata": {},
   "outputs": [
    {
     "name": "stdout",
     "output_type": "stream",
     "text": [
      "Hello Julia!\n"
     ]
    }
   ],
   "source": [
    "println(\"Hello Julia!\")"
   ]
  },
  {
   "cell_type": "code",
   "execution_count": 2,
   "metadata": {},
   "outputs": [
    {
     "data": {
      "text/plain": [
       "456"
      ]
     },
     "metadata": {},
     "output_type": "display_data"
    }
   ],
   "source": [
    "#suppressing output by ; like matlab:\n",
    "123 \n",
    "456\n"
   ]
  },
  {
   "cell_type": "markdown",
   "metadata": {},
   "source": [
    "How to assign values: typeof ~ type (in Python), type: Int64 ~ integer, Float64~float, and string."
   ]
  },
  {
   "cell_type": "code",
   "execution_count": 4,
   "metadata": {},
   "outputs": [
    {
     "data": {
      "text/plain": [
       "String"
      ]
     },
     "metadata": {},
     "output_type": "display_data"
    }
   ],
   "source": [
    "\n",
    "my_answer = 42\n",
    "typeof(my_answer)\n",
    "my_pi = 3.14159\n",
    "typeof(my_pi)\n",
    "my_name = \"Tran Hoang Anh\"\n",
    "typeof(my_name)"
   ]
  },
  {
   "cell_type": "code",
   "execution_count": 5,
   "metadata": {},
   "outputs": [
    {
     "data": {
      "text/plain": [
       "\"Tran Hoang Anh\""
      ]
     },
     "metadata": {},
     "output_type": "display_data"
    }
   ],
   "source": [
    "#Reassigning:\n",
    "my_answer = my_name "
   ]
  },
  {
   "cell_type": "markdown",
   "metadata": {},
   "source": [
    "Comments: # for simple and #= Comments =# for long comment "
   ]
  },
  {
   "cell_type": "markdown",
   "metadata": {},
   "source": [
    "Syntax for Math: power ^ ~ **, module %"
   ]
  },
  {
   "cell_type": "markdown",
   "metadata": {},
   "source": [
    "String: Similar to python"
   ]
  },
  {
   "cell_type": "code",
   "execution_count": 6,
   "metadata": {},
   "outputs": [
    {
     "data": {
      "text/plain": [
       "\"string\""
      ]
     },
     "metadata": {},
     "output_type": "display_data"
    }
   ],
   "source": [
    "s1 = \"string\""
   ]
  },
  {
   "cell_type": "code",
   "execution_count": 15,
   "metadata": {},
   "outputs": [
    {
     "name": "stdout",
     "output_type": "stream",
     "text": [
      "I am Tran Hoang Anh, and 24 years old\n"
     ]
    }
   ],
   "source": [
    "#String interpolation: We use the $ sign to insert existing varialbes inoto a string\n",
    "name = \"Tran Hoang Anh\"\n",
    "age =25\n",
    "println(\"I am $name, and $(age-1) years old\")"
   ]
  },
  {
   "cell_type": "code",
   "execution_count": 22,
   "metadata": {},
   "outputs": [
    {
     "name": "stdout",
     "output_type": "stream",
     "text": [
      "ABCDEF\n",
      "Tran Hoang Anh25\n",
      "Tran Hoang Anh25\n"
     ]
    }
   ],
   "source": [
    "#String concatenation: string() also convert format of variables.\n",
    "println(string(\"ABC\",\"DEF\"))\n",
    "println(\"$name$age\")\n",
    "println(name*string(age))\n"
   ]
  },
  {
   "cell_type": "markdown",
   "metadata": {},
   "source": [
    "Data structures: Dictionaries, Tuples, and arrays\n"
   ]
  },
  {
   "cell_type": "code",
   "execution_count": 30,
   "metadata": {},
   "outputs": [
    {
     "name": "stdout",
     "output_type": "stream",
     "text": [
      "Dict{String, Any}(\"name\" => \"Tran Hoang Anh\", \"age\" => 25)\n",
      "Dict{String, Any}(\"name\" => \"Tran Hoang Anh\", \"major\" => \"Optimization\", \"age\" => 25)\n",
      "Dict{String, Any}(\"name\" => \"Hoang Anh\", \"major\" => \"Optimization\", \"age\" => 25)\n"
     ]
    },
    {
     "name": "stdout",
     "output_type": "stream",
     "text": [
      "Dict{String, Any}(\"major\" => \"Optimization\", \"age\" => 25)\n"
     ]
    }
   ],
   "source": [
    " #Dictionaries consist of key and value, and is written in the form of key => value. Dictionaries are not ordered.\n",
    " x =Dict(\"name\"=> \"Tran Hoang Anh\", \"age\"=> 25)\n",
    " println(x)\n",
    " x[\"major\"] = \"Optimization\"\n",
    " println(x)\n",
    " x[\"name\"]= \"Hoang Anh\"\n",
    "println(x)\n",
    "pop!(x,\"name\") #Delete key and value\n",
    "println(x)\n"
   ]
  },
  {
   "cell_type": "code",
   "execution_count": 31,
   "metadata": {},
   "outputs": [
    {
     "name": "stdout",
     "output_type": "stream",
     "text": [
      "algebra\n"
     ]
    }
   ],
   "source": [
    "#Tuples are ordered, immutable ( cannot be updated)\n",
    "y = (\"algebra\",\"analysis\",\"optimization\")\n",
    "println(y[1])"
   ]
  },
  {
   "cell_type": "code",
   "execution_count": 56,
   "metadata": {},
   "outputs": [
    {
     "name": "stdout",
     "output_type": "stream",
     "text": [
      "[1, 1, 2, 2, 3, 4, 4]\n",
      "[\"Tran\", \"Hoang\", \"Anh\"]\n",
      "[\"TRAN\", \"Hoang\", \"Anh\"]\n",
      "[\"TRAN\", \"Hoang\", \"Anh\"]\n",
      "[1, 1, 2, 2, 3, 4, 4, 23]\n",
      "Any[1, \"Tran Hoang Anh\"]\n",
      "Any[\"Trang\", \"Tran Hoang Anh\"]\n",
      "Tran Hoang Anh"
     ]
    },
    {
     "name": "stdout",
     "output_type": "stream",
     "text": [
      "\n",
      "[[1, 2], [4, 5, 6]]\n"
     ]
    },
    {
     "data": {
      "text/plain": [
       "4×2×3 Array{Float64, 3}:\n",
       "[:, :, 1] =\n",
       " 0.898646  0.292791\n",
       " 0.100537  0.617529\n",
       " 0.747742  0.253206\n",
       " 0.889251  0.407741\n",
       "\n",
       "[:, :, 2] =\n",
       " 0.988174  0.699838\n",
       " 0.826658  0.592723\n",
       " 0.228323  0.557998\n",
       " 0.723903  0.117906\n",
       "\n",
       "[:, :, 3] =\n",
       " 0.303619  0.552187\n",
       " 0.514848  0.694422\n",
       " 0.488786  0.770296\n",
       " 0.186925  0.887206"
      ]
     },
     "metadata": {},
     "output_type": "display_data"
    }
   ],
   "source": [
    "#array is mutable and ordered\n",
    "z = [1,1,2,2,3,4,4]\n",
    "println(z)\n",
    "t = [\"Tran\",\"Hoang\",\"Anh\"]\n",
    "println(t)\n",
    "t[1] = \"TRAN\"\n",
    "println(t)\n",
    "#t[1] =1 #must convert the same type of variables\n",
    "println(t)\n",
    "println(push!(z,23))#add element to the end of the array\n",
    "mix = [1,\"Tran Hoang Anh\"]\n",
    "println(mix)\n",
    "mix[1] = \"Trang\"\n",
    "println(mix)\n",
    "println(pop!(mix))#Remove the last element.\n",
    "#Multi-dimensional array\n",
    "println([[1,2],[4,5,6]])\n",
    "numbers = rand(4,2,3)\n",
    "\n",
    "\n"
   ]
  },
  {
   "cell_type": "markdown",
   "metadata": {},
   "source": [
    "Loops: while loop and for loops"
   ]
  },
  {
   "cell_type": "code",
   "execution_count": 58,
   "metadata": {},
   "outputs": [
    {
     "name": "stdout",
     "output_type": "stream",
     "text": [
      "1\n",
      "2\n",
      "3\n",
      "4\n",
      "5\n",
      "6\n",
      "7\n",
      "8\n",
      "9\n",
      "10\n"
     ]
    }
   ],
   "source": [
    "#While loop: while ... end\n",
    "n =0\n",
    "while n < 10\n",
    "    n+=1\n",
    "    println(n)\n",
    "end\n"
   ]
  },
  {
   "cell_type": "code",
   "execution_count": 79,
   "metadata": {},
   "outputs": [
    {
     "data": {
      "text/plain": [
       "2×2 Matrix{Int64}:\n",
       " 2  3\n",
       " 3  4"
      ]
     },
     "metadata": {},
     "output_type": "display_data"
    },
    {
     "name": "stdout",
     "output_type": "stream",
     "text": [
      "1\n",
      "2\n",
      "3\n",
      "4\n",
      "5\n",
      "6\n",
      "7\n",
      "8\n",
      "9\n",
      "10\n",
      "1\n",
      "2\n",
      "3\n",
      "4\n",
      "5\n",
      "[2.0 3.0 4.0; 3.0 4.0 5.0; 4.0 5.0 6.0]\n"
     ]
    }
   ],
   "source": [
    "#For loop: For ... end\n",
    "for n in range(1,10)\n",
    "    println(n)\n",
    "end\n",
    "for n = 1:5\n",
    "    println(n)\n",
    "end\n",
    "A = zeros(3,3)\n",
    "for i in 1:3\n",
    "    for j in 1:3\n",
    "        A[i,j] = i+j\n",
    "    end\n",
    "end\n",
    "println(A)\n",
    "#Array complehension\n",
    "c = [i + j for i in 1:2, j in 1:2]\n",
    "display(c)"
   ]
  },
  {
   "cell_type": "markdown",
   "metadata": {},
   "source": [
    "Conditional: ef/elseif/end similar to Matlab.\n",
    "\n"
   ]
  },
  {
   "cell_type": "code",
   "execution_count": 87,
   "metadata": {},
   "outputs": [
    {
     "name": "stdout",
     "output_type": "stream",
     "text": [
      "3"
     ]
    },
    {
     "name": "stdout",
     "output_type": "stream",
     "text": [
      "\n",
      "a\n"
     ]
    }
   ],
   "source": [
    "#Remarks on julia conditional flow: a ? b:c means b is execited if a is true and c is execited otherwise, and = &&\n",
    "println(( 1 < 2 ) ? 3 : 4)\n",
    "(1<2) && println('a')\n",
    "\n"
   ]
  },
  {
   "cell_type": "markdown",
   "metadata": {},
   "source": [
    "Functions:"
   ]
  },
  {
   "cell_type": "code",
   "execution_count": 98,
   "metadata": {},
   "outputs": [
    {
     "name": "stdout",
     "output_type": "stream",
     "text": [
      "Hi Tran Hoang Anh, it's great to see you!\n",
      "Hi Tran Hoang Anh, it is great to see you\n",
      "Hi Tran, its is nice meeting you!\n"
     ]
    },
    {
     "data": {
      "text/plain": [
       "4"
      ]
     },
     "metadata": {},
     "output_type": "display_data"
    }
   ],
   "source": [
    "#Function declarations:\n",
    "function sayhi(name)\n",
    "    println(\"Hi $name, it's great to see you!\")\n",
    "end\n",
    "sayhi(\"Tran Hoang Anh\")\n",
    "sayhi2(name) = println(\"Hi $name, it is great to see you\")\n",
    "sayhi2(\"Tran Hoang Anh\")\n",
    "sayhi3 = name -> println(\"Hi $name, its is nice meeting you!\")\n",
    "sayhi3(\"Tran\")\n",
    "function f1(x)\n",
    "    x^2\n",
    "end\n",
    "f1(2)\n",
    "f2(x) = x^2\n",
    "f2(2)\n",
    "f3 = x -> x^2\n",
    "f3(2)"
   ]
  },
  {
   "cell_type": "code",
   "execution_count": 99,
   "metadata": {},
   "outputs": [
    {
     "data": {
      "text/plain": [
       "3×3 Matrix{Float64}:\n",
       " 0.758227  0.732546  1.68039\n",
       " 0.77441   0.8022    0.864008\n",
       " 0.156728  0.331833  0.944042"
      ]
     },
     "metadata": {},
     "output_type": "display_data"
    }
   ],
   "source": [
    "#Duck typing in Julia: If it quacks like a duck, then it is a duck.\n",
    "A = rand(3,3)\n",
    "f1(A)\n"
   ]
  },
  {
   "cell_type": "code",
   "execution_count": 103,
   "metadata": {},
   "outputs": [
    {
     "name": "stdout",
     "output_type": "stream",
     "text": [
      "[1, 2, 3]\n",
      "[2, 1, 3]\n",
      "[1, 2, 3]\n"
     ]
    }
   ],
   "source": [
    "#Mutating vs non-mutating functions: By convention, functions followed by ! alter their contents and functions lacking ! do not\n",
    "v = [2,1,3]\n",
    "println(sort(v))\n",
    "println(v)\n",
    "println(sort!(v))\n",
    "\n"
   ]
  },
  {
   "cell_type": "code",
   "execution_count": 105,
   "metadata": {},
   "outputs": [
    {
     "data": {
      "text/plain": [
       "3-element Vector{Int64}:\n",
       " 1\n",
       " 4\n",
       " 9"
      ]
     },
     "metadata": {},
     "output_type": "display_data"
    }
   ],
   "source": [
    "#broadcasting: By placing a . between any function name and its arguement list, ie, f.() instead of f, makes the function run entri-wise like in matlab.\n",
    "f1.(v)"
   ]
  },
  {
   "cell_type": "code",
   "execution_count": 116,
   "metadata": {},
   "outputs": [
    {
     "name": "stderr",
     "output_type": "stream",
     "text": [
      "\u001b[32m\u001b[1m   Resolving\u001b[22m\u001b[39m package versions...\n"
     ]
    },
    {
     "name": "stderr",
     "output_type": "stream",
     "text": [
      "\u001b[32m\u001b[1m  No Changes\u001b[22m\u001b[39m to `C:\\Users\\ADMIN\\.julia\\environments\\v1.9\\Project.toml`\n",
      "\u001b[32m\u001b[1m  No Changes\u001b[22m\u001b[39m to `C:\\Users\\ADMIN\\.julia\\environments\\v1.9\\Manifest.toml`\n"
     ]
    }
   ],
   "source": [
    "#Pakages: julia has 1686 registered packages, making packages a huge part of the Julia ecosystem. http://pkg.juialang.org/\n",
    "#Pkg.add(\"Example\") to use package\n",
    "# using Example to lauch it\n",
    "Pkg.add(\"Example\")\n",
    "using Example\n",
    "#or using import\n",
    "import Colors\n",
    "using Example\n"
   ]
  },
  {
   "cell_type": "markdown",
   "metadata": {},
   "source": [
    "Plotting: calling Pylot\n"
   ]
  },
  {
   "cell_type": "code",
   "execution_count": 115,
   "metadata": {},
   "outputs": [
    {
     "name": "stderr",
     "output_type": "stream",
     "text": [
      "\u001b[32m\u001b[1m   Resolving\u001b[22m\u001b[39m package versions..."
     ]
    },
    {
     "name": "stderr",
     "output_type": "stream",
     "text": [
      "\n"
     ]
    },
    {
     "name": "stderr",
     "output_type": "stream",
     "text": [
      "\u001b[32m\u001b[1m   Installed\u001b[22m\u001b[39m Libmount_jll ───────────────── v2.35.0+0\n",
      "\u001b[32m\u001b[1m   Installed\u001b[22m\u001b[39m JpegTurbo_jll ──────────────── v2.1.91+0\n"
     ]
    },
    {
     "name": "stderr",
     "output_type": "stream",
     "text": [
      "\u001b[32m\u001b[1m   Installed\u001b[22m\u001b[39m x265_jll ───────────────────── v3.5.0+0\n",
      "\u001b[32m\u001b[1m   Installed\u001b[22m\u001b[39m libfdk_aac_jll ─────────────── v2.0.2+0\n",
      "\u001b[32m\u001b[1m   Installed\u001b[22m\u001b[39m GR_jll ─────────────────────── v0.72.10+0\n",
      "\u001b[32m\u001b[1m   Installed\u001b[22m\u001b[39m LERC_jll ───────────────────── v3.0.0+1\n",
      "\u001b[32m\u001b[1m   Installed\u001b[22m\u001b[39m Opus_jll ───────────────────── v1.3.2+0\n",
      "\u001b[32m\u001b[1m   Installed\u001b[22m\u001b[39m LoggingExtras ──────────────── v1.0.3\n"
     ]
    },
    {
     "name": "stderr",
     "output_type": "stream",
     "text": [
      "\u001b[32m\u001b[1m   Installed\u001b[22m\u001b[39m Measures ───────────────────── v0.3.2\n"
     ]
    },
    {
     "name": "stderr",
     "output_type": "stream",
     "text": [
      "\u001b[32m\u001b[1m   Installed\u001b[22m\u001b[39m RelocatableFolders ─────────── v1.0.1\n",
      "\u001b[32m\u001b[1m   Installed\u001b[22m\u001b[39m Xorg_xkbcomp_jll ───────────── v1.4.6+0\n"
     ]
    },
    {
     "name": "stderr",
     "output_type": "stream",
     "text": [
      "\u001b[32m\u001b[1m   Installed\u001b[22m\u001b[39m Unitful ────────────────────── v1.17.0\n",
      "\u001b[32m\u001b[1m   Installed\u001b[22m\u001b[39m ConcurrentUtilities ────────── v2.2.1\n"
     ]
    },
    {
     "name": "stderr",
     "output_type": "stream",
     "text": [
      "\u001b[32m\u001b[1m   Installed\u001b[22m\u001b[39m Grisu ──────────────────────── v1.0.2\n",
      "\u001b[32m\u001b[1m   Installed\u001b[22m\u001b[39m Contour ────────────────────── v0.6.2\n"
     ]
    },
    {
     "name": "stderr",
     "output_type": "stream",
     "text": [
      "\u001b[32m\u001b[1m   Installed\u001b[22m\u001b[39m Xorg_xcb_util_wm_jll ───────── v0.4.1+1\n",
      "\u001b[32m\u001b[1m   Installed\u001b[22m\u001b[39m Xorg_xcb_util_image_jll ────── v0.4.0+1\n"
     ]
    },
    {
     "name": "stderr",
     "output_type": "stream",
     "text": [
      "\u001b[32m\u001b[1m   Installed\u001b[22m\u001b[39m Formatting ─────────────────── v0.4.2\n",
      "\u001b[32m\u001b[1m   Installed\u001b[22m\u001b[39m PlotUtils ──────────────────── v1.3.5\n"
     ]
    },
    {
     "name": "stderr",
     "output_type": "stream",
     "text": [
      "\u001b[32m\u001b[1m   Installed\u001b[22m\u001b[39m RecipesPipeline ────────────── v0.6.12\n",
      "\u001b[32m\u001b[1m   Installed\u001b[22m\u001b[39m OpenSSL ────────────────────── v1.4.1\n",
      "\u001b[32m\u001b[1m   Installed\u001b[22m\u001b[39m Xorg_libpthread_stubs_jll ──── v0.1.1+0\n"
     ]
    },
    {
     "name": "stderr",
     "output_type": "stream",
     "text": [
      "\u001b[32m\u001b[1m   Installed\u001b[22m\u001b[39m Xorg_libSM_jll ─────────────── v1.2.3+0\n",
      "\u001b[32m\u001b[1m   Installed\u001b[22m\u001b[39m DelimitedFiles ─────────────── v1.9.1\n"
     ]
    },
    {
     "name": "stderr",
     "output_type": "stream",
     "text": [
      "\u001b[32m\u001b[1m   Installed\u001b[22m\u001b[39m Cairo_jll ──────────────────── v1.16.1+1\n",
      "\u001b[32m\u001b[1m   Installed\u001b[22m\u001b[39m Xorg_xcb_util_jll ──────────── v0.4.0+1\n",
      "\u001b[32m\u001b[1m   Installed\u001b[22m\u001b[39m Libgpg_error_jll ───────────── v1.42.0+0\n",
      "\u001b[32m\u001b[1m   Installed\u001b[22m\u001b[39m Fontconfig_jll ─────────────── v2.13.93+0\n",
      "\u001b[32m\u001b[1m   Installed\u001b[22m\u001b[39m Xorg_libxkbfile_jll ────────── v1.1.2+0\n"
     ]
    },
    {
     "name": "stderr",
     "output_type": "stream",
     "text": [
      "\u001b[32m\u001b[1m   Installed\u001b[22m\u001b[39m HTTP ───────────────────────── v1.10.0\n"
     ]
    },
    {
     "name": "stderr",
     "output_type": "stream",
     "text": [
      "\u001b[32m\u001b[1m   Installed\u001b[22m\u001b[39m EpollShim_jll ──────────────── v0.0.20230411+0\n",
      "\u001b[32m\u001b[1m   Installed\u001b[22m\u001b[39m Xorg_libXau_jll ────────────── v1.0.11+0\n",
      "\u001b[32m\u001b[1m   Installed\u001b[22m\u001b[39m Missings ───────────────────── v1.1.0\n"
     ]
    },
    {
     "name": "stderr",
     "output_type": "stream",
     "text": [
      "\u001b[32m\u001b[1m   Installed\u001b[22m\u001b[39m Xorg_libXinerama_jll ───────── v1.1.4+4\n",
      "\u001b[32m\u001b[1m   Installed\u001b[22m\u001b[39m FFMPEG ─────────────────────── v0.4.1\n",
      "\u001b[32m\u001b[1m   Installed\u001b[22m\u001b[39m IrrationalConstants ────────── v0.2.2\n",
      "\u001b[32m\u001b[1m   Installed\u001b[22m\u001b[39m ColorSchemes ───────────────── v3.24.0\n"
     ]
    },
    {
     "name": "stderr",
     "output_type": "stream",
     "text": [
      "\u001b[32m\u001b[1m   Installed\u001b[22m\u001b[39m Bzip2_jll ──────────────────── v1.0.8+0\n",
      "\u001b[32m\u001b[1m   Installed\u001b[22m\u001b[39m Xorg_xcb_util_keysyms_jll ──── v0.4.0+1\n",
      "\u001b[32m\u001b[1m   Installed\u001b[22m\u001b[39m xkbcommon_jll ──────────────── v1.4.1+1\n",
      "\u001b[32m\u001b[1m   Installed\u001b[22m\u001b[39m SimpleBufferStream ─────────── v1.1.0\n",
      "\u001b[32m\u001b[1m   Installed\u001b[22m\u001b[39m Pipe ───────────────────────── v1.3.0\n",
      "\u001b[32m\u001b[1m   Installed\u001b[22m\u001b[39m Showoff ────────────────────── v1.0.3\n"
     ]
    },
    {
     "name": "stderr",
     "output_type": "stream",
     "text": [
      "\u001b[32m\u001b[1m   Installed\u001b[22m\u001b[39m XZ_jll ─────────────────────── v5.4.4+0\n",
      "\u001b[32m\u001b[1m   Installed\u001b[22m\u001b[39m HarfBuzz_jll ───────────────── v2.8.1+1\n",
      "\u001b[32m\u001b[1m   Installed\u001b[22m\u001b[39m PlotThemes ─────────────────── v3.1.0\n",
      "\u001b[32m\u001b[1m   Installed\u001b[22m\u001b[39m NaNMath ────────────────────── v1.0.2\n"
     ]
    },
    {
     "name": "stderr",
     "output_type": "stream",
     "text": [
      "\u001b[32m\u001b[1m   Installed\u001b[22m\u001b[39m LZO_jll ────────────────────── v2.10.1+0\n",
      "\u001b[32m\u001b[1m   Installed\u001b[22m\u001b[39m fzf_jll ────────────────────── v0.35.1+0\n",
      "\u001b[32m\u001b[1m   Installed\u001b[22m\u001b[39m TranscodingStreams ─────────── v0.10.1\n"
     ]
    },
    {
     "name": "stderr",
     "output_type": "stream",
     "text": [
      "\u001b[32m\u001b[1m   Installed\u001b[22m\u001b[39m FriBidi_jll ────────────────── v1.0.10+0\n"
     ]
    },
    {
     "name": "stderr",
     "output_type": "stream",
     "text": [
      "\u001b[32m\u001b[1m   Installed\u001b[22m\u001b[39m GLFW_jll ───────────────────── v3.3.8+0\n",
      "\u001b[32m\u001b[1m   Installed\u001b[22m\u001b[39m FreeType2_jll ──────────────── v2.13.1+0\n",
      "\u001b[32m\u001b[1m   Installed\u001b[22m\u001b[39m x264_jll ───────────────────── v2021.5.5+0\n",
      "\u001b[32m\u001b[1m   Installed\u001b[22m\u001b[39m UnicodeFun ─────────────────── v0.4.1\n"
     ]
    },
    {
     "name": "stderr",
     "output_type": "stream",
     "text": [
      "\u001b[32m\u001b[1m   Installed\u001b[22m\u001b[39m StatsAPI ───────────────────── v1.7.0\n",
      "\u001b[32m\u001b[1m   Installed\u001b[22m\u001b[39m JLFzf ──────────────────────── v0.1.6\n",
      "\u001b[32m\u001b[1m   Installed\u001b[22m\u001b[39m MbedTLS ────────────────────── v1.1.7\n"
     ]
    },
    {
     "name": "stderr",
     "output_type": "stream",
     "text": [
      "\u001b[32m\u001b[1m   Installed\u001b[22m\u001b[39m CodecZlib ──────────────────── v0.7.3\n",
      "\u001b[32m\u001b[1m   Installed\u001b[22m\u001b[39m Xorg_libxcb_jll ────────────── v1.15.0+0\n",
      "\u001b[32m\u001b[1m   Installed\u001b[22m\u001b[39m libpng_jll ─────────────────── v1.6.38+0\n"
     ]
    },
    {
     "name": "stderr",
     "output_type": "stream",
     "text": [
      "\u001b[32m\u001b[1m   Installed\u001b[22m\u001b[39m mtdev_jll ──────────────────── v1.1.6+0\n",
      "\u001b[32m\u001b[1m   Installed\u001b[22m\u001b[39m libaom_jll ─────────────────── v3.4.0+0\n"
     ]
    },
    {
     "name": "stderr",
     "output_type": "stream",
     "text": [
      "\u001b[32m\u001b[1m   Installed\u001b[22m\u001b[39m ExceptionUnwrapping ────────── v0.1.9\n",
      "\u001b[32m\u001b[1m   Installed\u001b[22m\u001b[39m Scratch ────────────────────── v1.2.0\n"
     ]
    },
    {
     "name": "stderr",
     "output_type": "stream",
     "text": [
      "\u001b[32m\u001b[1m   Installed\u001b[22m\u001b[39m StatsBase ──────────────────── v0.34.2\n",
      "\u001b[32m\u001b[1m   Installed\u001b[22m\u001b[39m gperf_jll ──────────────────── v3.1.1+0\n"
     ]
    },
    {
     "name": "stderr",
     "output_type": "stream",
     "text": [
      "\u001b[32m\u001b[1m   Installed\u001b[22m\u001b[39m Xorg_libXext_jll ───────────── v1.3.4+4\n"
     ]
    },
    {
     "name": "stderr",
     "output_type": "stream",
     "text": [
      "\u001b[32m\u001b[1m   Installed\u001b[22m\u001b[39m eudev_jll ──────────────────── v3.2.9+0\n"
     ]
    },
    {
     "name": "stderr",
     "output_type": "stream",
     "text": [
      "\u001b[32m\u001b[1m   Installed\u001b[22m\u001b[39m TensorCore ─────────────────── v0.1.1\n"
     ]
    },
    {
     "name": "stderr",
     "output_type": "stream",
     "text": [
      "\u001b[32m\u001b[1m   Installed\u001b[22m\u001b[39m Zstd_jll ───────────────────── v1.5.5+0\n",
      "\u001b[32m\u001b[1m   Installed\u001b[22m\u001b[39m Plots ──────────────────────── v1.39.0\n",
      "\u001b[32m\u001b[1m   Installed\u001b[22m\u001b[39m Expat_jll ──────────────────── v2.5.0+0\n",
      "\u001b[32m\u001b[1m   Installed\u001b[22m\u001b[39m Xorg_xcb_util_cursor_jll ───── v0.1.4+0\n"
     ]
    },
    {
     "name": "stderr",
     "output_type": "stream",
     "text": [
      "\u001b[32m\u001b[1m   Installed\u001b[22m\u001b[39m GR ─────────────────────────── v0.72.10\n",
      "\u001b[32m\u001b[1m   Installed\u001b[22m\u001b[39m Libtiff_jll ────────────────── v4.5.1+1\n",
      "\u001b[32m\u001b[1m   Installed\u001b[22m\u001b[39m JLLWrappers ────────────────── v1.5.0\n"
     ]
    },
    {
     "name": "stderr",
     "output_type": "stream",
     "text": [
      "\u001b[32m\u001b[1m   Installed\u001b[22m\u001b[39m Libffi_jll ─────────────────── v3.2.2+1\n",
      "\u001b[32m\u001b[1m   Installed\u001b[22m\u001b[39m Xorg_libXrender_jll ────────── v0.9.10+4\n"
     ]
    },
    {
     "name": "stderr",
     "output_type": "stream",
     "text": [
      "\u001b[32m\u001b[1m   Installed\u001b[22m\u001b[39m libevdev_jll ───────────────── v1.11.0+0\n",
      "\u001b[32m\u001b[1m   Installed\u001b[22m\u001b[39m libinput_jll ───────────────── v1.18.0+0\n",
      "\u001b[32m\u001b[1m   Installed\u001b[22m\u001b[39m ColorVectorSpace ───────────── v0.10.0\n"
     ]
    },
    {
     "name": "stderr",
     "output_type": "stream",
     "text": [
      "\u001b[32m\u001b[1m   Installed\u001b[22m\u001b[39m Ogg_jll ────────────────────── v1.3.5+1\n",
      "\u001b[32m\u001b[1m   Installed\u001b[22m\u001b[39m Vulkan_Loader_jll ──────────── v1.3.243+0\n",
      "\u001b[32m\u001b[1m   Installed\u001b[22m\u001b[39m Xorg_libXi_jll ─────────────── v1.7.10+4\n"
     ]
    },
    {
     "name": "stderr",
     "output_type": "stream",
     "text": [
      "\u001b[32m\u001b[1m   Installed\u001b[22m\u001b[39m XSLT_jll ───────────────────── v1.1.34+0\n",
      "\u001b[32m\u001b[1m   Installed\u001b[22m\u001b[39m Xorg_libXcursor_jll ────────── v1.2.0+4\n",
      "\u001b[32m\u001b[1m   Installed\u001b[22m\u001b[39m Libuuid_jll ────────────────── v2.36.0+0\n",
      "\u001b[32m\u001b[1m   Installed\u001b[22m\u001b[39m Xorg_xcb_util_renderutil_jll ─ v0.3.9+1\n",
      "\u001b[32m\u001b[1m   Installed\u001b[22m\u001b[39m Wayland_protocols_jll ──────── v1.25.0+0\n",
      "\u001b[32m\u001b[1m   Installed\u001b[22m\u001b[39m LogExpFunctions ────────────── v0.3.26\n",
      "\u001b[32m\u001b[1m   Installed\u001b[22m\u001b[39m MacroTools ─────────────────── v0.5.11\n"
     ]
    },
    {
     "name": "stderr",
     "output_type": "stream",
     "text": [
      "\u001b[32m\u001b[1m   Installed\u001b[22m\u001b[39m DocStringExtensions ────────── v0.9.3\n"
     ]
    },
    {
     "name": "stderr",
     "output_type": "stream",
     "text": [
      "\u001b[32m\u001b[1m   Installed\u001b[22m\u001b[39m Xorg_libICE_jll ────────────── v1.0.10+1\n",
      "\u001b[32m\u001b[1m   Installed\u001b[22m\u001b[39m XML2_jll ───────────────────── v2.11.5+0\n",
      "\u001b[32m\u001b[1m   Installed\u001b[22m\u001b[39m libass_jll ─────────────────── v0.15.1+0\n",
      "\u001b[32m\u001b[1m   Installed\u001b[22m\u001b[39m Pixman_jll ─────────────────── v0.42.2+0\n",
      "\u001b[32m\u001b[1m   Installed\u001b[22m\u001b[39m Graphite2_jll ──────────────── v1.3.14+0\n",
      "\u001b[32m\u001b[1m   Installed\u001b[22m\u001b[39m Gettext_jll ────────────────── v0.21.0+0\n",
      "\u001b[32m\u001b[1m   Installed\u001b[22m\u001b[39m Wayland_jll ────────────────── v1.21.0+1\n"
     ]
    },
    {
     "name": "stderr",
     "output_type": "stream",
     "text": [
      "\u001b[32m\u001b[1m   Installed\u001b[22m\u001b[39m Latexify ───────────────────── v0.16.1\n"
     ]
    },
    {
     "name": "stderr",
     "output_type": "stream",
     "text": [
      "\u001b[32m\u001b[1m   Installed\u001b[22m\u001b[39m Xorg_xtrans_jll ────────────── v1.5.0+0\n"
     ]
    },
    {
     "name": "stderr",
     "output_type": "stream",
     "text": [
      "\u001b[32m\u001b[1m   Installed\u001b[22m\u001b[39m OpenSSL_jll ────────────────── v1.1.23+0\n",
      "\u001b[32m\u001b[1m   Installed\u001b[22m\u001b[39m FFMPEG_jll ─────────────────── v4.4.2+2\n",
      "\u001b[32m\u001b[1m   Installed\u001b[22m\u001b[39m Libgcrypt_jll ──────────────── v1.8.7+0\n"
     ]
    },
    {
     "name": "stderr",
     "output_type": "stream",
     "text": [
      "\u001b[32m\u001b[1m   Installed\u001b[22m\u001b[39m Xorg_xkeyboard_config_jll ──── v2.39.0+0\n",
      "\u001b[32m\u001b[1m   Installed\u001b[22m\u001b[39m BitFlags ───────────────────── v0.1.7\n",
      "\u001b[32m\u001b[1m   Installed\u001b[22m\u001b[39m DataAPI ────────────────────── v1.15.0\n",
      "\u001b[32m\u001b[1m   Installed\u001b[22m\u001b[39m LLVMOpenMP_jll ─────────────── v15.0.4+0\n",
      "\u001b[32m\u001b[1m   Installed\u001b[22m\u001b[39m Xorg_libXrandr_jll ─────────── v1.5.2+4\n"
     ]
    },
    {
     "name": "stderr",
     "output_type": "stream",
     "text": [
      "\u001b[32m\u001b[1m   Installed\u001b[22m\u001b[39m RecipesBase ────────────────── v1.3.4\n",
      "\u001b[32m\u001b[1m   Installed\u001b[22m\u001b[39m LAME_jll ───────────────────── v3.100.1+0\n",
      "\u001b[32m\u001b[1m   Installed\u001b[22m\u001b[39m Libiconv_jll ───────────────── v1.17.0+0\n",
      "\u001b[32m\u001b[1m   Installed\u001b[22m\u001b[39m Qt6Base_jll ────────────────── v6.5.2+2\n",
      "\u001b[32m\u001b[1m   Installed\u001b[22m\u001b[39m Xorg_libXfixes_jll ─────────── v5.0.3+4\n",
      "\u001b[32m\u001b[1m   Installed\u001b[22m\u001b[39m LaTeXStrings ───────────────── v1.3.0\n",
      "\u001b[32m\u001b[1m   Installed\u001b[22m\u001b[39m Glib_jll ───────────────────── v2.76.5+0\n",
      "\u001b[32m\u001b[1m   Installed\u001b[22m\u001b[39m libvorbis_jll ──────────────── v1.3.7+1\n"
     ]
    },
    {
     "name": "stderr",
     "output_type": "stream",
     "text": [
      "\u001b[32m\u001b[1m   Installed\u001b[22m\u001b[39m Libglvnd_jll ───────────────── v1.6.0+0\n",
      "\u001b[32m\u001b[1m   Installed\u001b[22m\u001b[39m Xorg_libX11_jll ────────────── v1.8.6+0\n",
      "\u001b[32m\u001b[1m   Installed\u001b[22m\u001b[39m Requires ───────────────────── v1.3.0\n",
      "\u001b[32m\u001b[1m   Installed\u001b[22m\u001b[39m Unzip ──────────────────────── v0.2.0\n",
      "\u001b[32m\u001b[1m   Installed\u001b[22m\u001b[39m Xorg_libXdmcp_jll ──────────── v1.1.4+0\n"
     ]
    },
    {
     "name": "stderr",
     "output_type": "stream",
     "text": [
      "\u001b[32m\u001b[1m   Installed\u001b[22m\u001b[39m UnitfulLatexify ────────────── v1.6.3\n"
     ]
    },
    {
     "name": "stderr",
     "output_type": "stream",
     "text": [
      "\u001b[32m\u001b[1m   Installed\u001b[22m\u001b[39m SortingAlgorithms ──────────── v1.2.0\n"
     ]
    },
    {
     "name": "stderr",
     "output_type": "stream",
     "text": [
      "\u001b[32m\u001b[1m    Updating\u001b[22m\u001b[39m `C:\\Users\\ADMIN\\.julia\\environments\\v1.9\\Project.toml`\n",
      "  \u001b[90m[91a5bcdd] \u001b[39m\u001b[92m+ Plots v1.39.0\u001b[39m\n",
      "\u001b[32m\u001b[1m    Updating\u001b[22m\u001b[39m `C:\\Users\\ADMIN\\.julia\\environments\\v1.9\\Manifest.toml`\n"
     ]
    },
    {
     "name": "stderr",
     "output_type": "stream",
     "text": [
      "  \u001b[90m[d1d4a3ce] \u001b[39m\u001b[92m+ BitFlags v0.1.7\u001b[39m\n",
      "  \u001b[90m[944b1d66] \u001b[39m\u001b[92m+ CodecZlib v0.7.3\u001b[39m\n",
      "  \u001b[90m[35d6a980] \u001b[39m\u001b[92m+ ColorSchemes v3.24.0\u001b[39m\n",
      "  \u001b[90m[c3611d14] \u001b[39m\u001b[92m+ ColorVectorSpace v0.10.0\u001b[39m\n",
      "  \u001b[90m[f0e56b4a] \u001b[39m\u001b[92m+ ConcurrentUtilities v2.2.1\u001b[39m\n",
      "  \u001b[90m[d38c429a] \u001b[39m\u001b[92m+ Contour v0.6.2\u001b[39m\n",
      "  \u001b[90m[9a962f9c] \u001b[39m\u001b[92m+ DataAPI v1.15.0\u001b[39m\n",
      "  \u001b[90m[8bb1440f] \u001b[39m\u001b[92m+ DelimitedFiles v1.9.1\u001b[39m\n",
      "  \u001b[90m[ffbed154] \u001b[39m\u001b[92m+ DocStringExtensions v0.9.3\u001b[39m\n",
      "  \u001b[90m[460bff9d] \u001b[39m\u001b[92m+ ExceptionUnwrapping v0.1.9\u001b[39m\n",
      "  \u001b[90m[c87230d0] \u001b[39m\u001b[92m+ FFMPEG v0.4.1\u001b[39m\n",
      "  \u001b[90m[59287772] \u001b[39m\u001b[92m+ Formatting v0.4.2\u001b[39m\n",
      "  \u001b[90m[28b8d3ca] \u001b[39m\u001b[92m+ GR v0.72.10\u001b[39m\n",
      "  \u001b[90m[42e2da0e] \u001b[39m\u001b[92m+ Grisu v1.0.2\u001b[39m\n",
      "  \u001b[90m[cd3eb016] \u001b[39m\u001b[92m+ HTTP v1.10.0\u001b[39m\n",
      "  \u001b[90m[92d709cd] \u001b[39m\u001b[92m+ IrrationalConstants v0.2.2\u001b[39m\n",
      "  \u001b[90m[1019f520] \u001b[39m\u001b[92m+ JLFzf v0.1.6\u001b[39m\n",
      "  \u001b[90m[692b3bcd] \u001b[39m\u001b[92m+ JLLWrappers v1.5.0\u001b[39m\n",
      "  \u001b[90m[b964fa9f] \u001b[39m\u001b[92m+ LaTeXStrings v1.3.0\u001b[39m\n",
      "  \u001b[90m[23fbe1c1] \u001b[39m\u001b[92m+ Latexify v0.16.1\u001b[39m\n",
      "  \u001b[90m[2ab3a3ac] \u001b[39m\u001b[92m+ LogExpFunctions v0.3.26\u001b[39m\n",
      "  \u001b[90m[e6f89c97] \u001b[39m\u001b[92m+ LoggingExtras v1.0.3\u001b[39m\n",
      "  \u001b[90m[1914dd2f] \u001b[39m\u001b[92m+ MacroTools v0.5.11\u001b[39m\n",
      "  \u001b[90m[739be429] \u001b[39m\u001b[92m+ MbedTLS v1.1.7\u001b[39m\n",
      "  \u001b[90m[442fdcdd] \u001b[39m\u001b[92m+ Measures v0.3.2\u001b[39m\n",
      "  \u001b[90m[e1d29d7a] \u001b[39m\u001b[92m+ Missings v1.1.0\u001b[39m\n",
      "  \u001b[90m[77ba4419] \u001b[39m\u001b[92m+ NaNMath v1.0.2\u001b[39m\n",
      "  \u001b[90m[4d8831e6] \u001b[39m\u001b[92m+ OpenSSL v1.4.1\u001b[39m\n",
      "  \u001b[90m[b98c9c47] \u001b[39m\u001b[92m+ Pipe v1.3.0\u001b[39m\n",
      "  \u001b[90m[ccf2f8ad] \u001b[39m\u001b[92m+ PlotThemes v3.1.0\u001b[39m\n",
      "  \u001b[90m[995b91a9] \u001b[39m\u001b[92m+ PlotUtils v1.3.5\u001b[39m\n",
      "  \u001b[90m[91a5bcdd] \u001b[39m\u001b[92m+ Plots v1.39.0\u001b[39m\n",
      "  \u001b[90m[3cdcf5f2] \u001b[39m\u001b[92m+ RecipesBase v1.3.4\u001b[39m\n",
      "  \u001b[90m[01d81517] \u001b[39m\u001b[92m+ RecipesPipeline v0.6.12\u001b[39m\n",
      "  \u001b[90m[05181044] \u001b[39m\u001b[92m+ RelocatableFolders v1.0.1\u001b[39m\n",
      "  \u001b[90m[ae029012] \u001b[39m\u001b[92m+ Requires v1.3.0\u001b[39m\n",
      "  \u001b[90m[6c6a2e73] \u001b[39m\u001b[92m+ Scratch v1.2.0\u001b[39m\n",
      "  \u001b[90m[992d4aef] \u001b[39m\u001b[92m+ Showoff v1.0.3\u001b[39m\n",
      "  \u001b[90m[777ac1f9] \u001b[39m\u001b[92m+ SimpleBufferStream v1.1.0\u001b[39m\n",
      "  \u001b[90m[a2af1166] \u001b[39m\u001b[92m+ SortingAlgorithms v1.2.0\u001b[39m\n",
      "  \u001b[90m[82ae8749] \u001b[39m\u001b[92m+ StatsAPI v1.7.0\u001b[39m\n",
      "  \u001b[90m[2913bbd2] \u001b[39m\u001b[92m+ StatsBase v0.34.2\u001b[39m\n",
      "  \u001b[90m[62fd8b95] \u001b[39m\u001b[92m+ TensorCore v0.1.1\u001b[39m\n",
      "  \u001b[90m[3bb67fe8] \u001b[39m\u001b[92m+ TranscodingStreams v0.10.1\u001b[39m\n",
      "  \u001b[90m[1cfade01] \u001b[39m\u001b[92m+ UnicodeFun v0.4.1\u001b[39m\n",
      "  \u001b[90m[1986cc42] \u001b[39m\u001b[92m+ Unitful v1.17.0\u001b[39m\n",
      "  \u001b[90m[45397f5d] \u001b[39m\u001b[92m+ UnitfulLatexify v1.6.3\u001b[39m\n",
      "  \u001b[90m[41fe7b60] \u001b[39m\u001b[92m+ Unzip v0.2.0\u001b[39m\n",
      "  \u001b[90m[6e34b625] \u001b[39m\u001b[92m+ Bzip2_jll v1.0.8+0\u001b[39m\n",
      "  \u001b[90m[83423d85] \u001b[39m\u001b[92m+ Cairo_jll v1.16.1+1\u001b[39m\n",
      "  \u001b[90m[2702e6a9] \u001b[39m\u001b[92m+ EpollShim_jll v0.0.20230411+0\u001b[39m\n",
      "  \u001b[90m[2e619515] \u001b[39m\u001b[92m+ Expat_jll v2.5.0+0\u001b[39m\n",
      "\u001b[32m⌃\u001b[39m \u001b[90m[b22a6f82] \u001b[39m\u001b[92m+ FFMPEG_jll v4.4.2+2\u001b[39m\n",
      "  \u001b[90m[a3f928ae] \u001b[39m\u001b[92m+ Fontconfig_jll v2.13.93+0\u001b[39m\n",
      "  \u001b[90m[d7e528f0] \u001b[39m\u001b[92m+ FreeType2_jll v2.13.1+0\u001b[39m\n",
      "  \u001b[90m[559328eb] \u001b[39m\u001b[92m+ FriBidi_jll v1.0.10+0\u001b[39m\n",
      "  \u001b[90m[0656b61e] \u001b[39m\u001b[92m+ GLFW_jll v3.3.8+0\u001b[39m\n",
      "  \u001b[90m[d2c73de3] \u001b[39m\u001b[92m+ GR_jll v0.72.10+0\u001b[39m\n",
      "  \u001b[90m[78b55507] \u001b[39m\u001b[92m+ Gettext_jll v0.21.0+0\u001b[39m\n",
      "  \u001b[90m[7746bdde] \u001b[39m\u001b[92m+ Glib_jll v2.76.5+0\u001b[39m\n",
      "  \u001b[90m[3b182d85] \u001b[39m\u001b[92m+ Graphite2_jll v1.3.14+0\u001b[39m\n",
      "  \u001b[90m[2e76f6c2] \u001b[39m\u001b[92m+ HarfBuzz_jll v2.8.1+1\u001b[39m\n",
      "  \u001b[90m[aacddb02] \u001b[39m\u001b[92m+ JpegTurbo_jll v2.1.91+0\u001b[39m\n",
      "  \u001b[90m[c1c5ebd0] \u001b[39m\u001b[92m+ LAME_jll v3.100.1+0\u001b[39m\n",
      "  \u001b[90m[88015f11] \u001b[39m\u001b[92m+ LERC_jll v3.0.0+1\u001b[39m\n",
      "  \u001b[90m[1d63c593] \u001b[39m\u001b[92m+ LLVMOpenMP_jll v15.0.4+0\u001b[39m\n",
      "  \u001b[90m[dd4b983a] \u001b[39m\u001b[92m+ LZO_jll v2.10.1+0\u001b[39m\n",
      "\u001b[33m⌅\u001b[39m \u001b[90m[e9f186c6] \u001b[39m\u001b[92m+ Libffi_jll v3.2.2+1\u001b[39m\n",
      "  \u001b[90m[d4300ac3] \u001b[39m\u001b[92m+ Libgcrypt_jll v1.8.7+0\u001b[39m\n",
      "  \u001b[90m[7e76a0d4] \u001b[39m\u001b[92m+ Libglvnd_jll v1.6.0+0\u001b[39m\n",
      "  \u001b[90m[7add5ba3] \u001b[39m\u001b[92m+ Libgpg_error_jll v1.42.0+0\u001b[39m\n",
      "  \u001b[90m[94ce4f54] \u001b[39m\u001b[92m+ Libiconv_jll v1.17.0+0\u001b[39m\n",
      "  \u001b[90m[4b2f31a3] \u001b[39m\u001b[92m+ Libmount_jll v2.35.0+0\u001b[39m\n",
      "  \u001b[90m[89763e89] \u001b[39m\u001b[92m+ Libtiff_jll v4.5.1+1\u001b[39m\n",
      "  \u001b[90m[38a345b3] \u001b[39m\u001b[92m+ Libuuid_jll v2.36.0+0\u001b[39m\n",
      "  \u001b[90m[e7412a2a] \u001b[39m\u001b[92m+ Ogg_jll v1.3.5+1\u001b[39m\n",
      "\u001b[33m⌅\u001b[39m \u001b[90m[458c3c95] \u001b[39m\u001b[92m+ OpenSSL_jll v1.1.23+0\u001b[39m\n",
      "  \u001b[90m[91d4177d] \u001b[39m\u001b[92m+ Opus_jll v1.3.2+0\u001b[39m\n",
      "  \u001b[90m[30392449] \u001b[39m\u001b[92m+ Pixman_jll v0.42.2+0\u001b[39m\n",
      "  \u001b[90m[c0090381] \u001b[39m\u001b[92m+ Qt6Base_jll v6.5.2+2\u001b[39m\n",
      "  \u001b[90m[a44049a8] \u001b[39m\u001b[92m+ Vulkan_Loader_jll v1.3.243+0\u001b[39m\n",
      "  \u001b[90m[a2964d1f] \u001b[39m\u001b[92m+ Wayland_jll v1.21.0+1\u001b[39m\n",
      "  \u001b[90m[2381bf8a] \u001b[39m\u001b[92m+ Wayland_protocols_jll v1.25.0+0\u001b[39m\n",
      "  \u001b[90m[02c8fc9c] \u001b[39m\u001b[92m+ XML2_jll v2.11.5+0\u001b[39m\n",
      "  \u001b[90m[aed1982a] \u001b[39m\u001b[92m+ XSLT_jll v1.1.34+0\u001b[39m\n",
      "  \u001b[90m[ffd25f8a] \u001b[39m\u001b[92m+ XZ_jll v5.4.4+0\u001b[39m\n",
      "  \u001b[90m[f67eecfb] \u001b[39m\u001b[92m+ Xorg_libICE_jll v1.0.10+1\u001b[39m\n",
      "  \u001b[90m[c834827a] \u001b[39m\u001b[92m+ Xorg_libSM_jll v1.2.3+0\u001b[39m\n",
      "  \u001b[90m[4f6342f7] \u001b[39m\u001b[92m+ Xorg_libX11_jll v1.8.6+0\u001b[39m\n",
      "  \u001b[90m[0c0b7dd1] \u001b[39m\u001b[92m+ Xorg_libXau_jll v1.0.11+0\u001b[39m\n",
      "  \u001b[90m[935fb764] \u001b[39m\u001b[92m+ Xorg_libXcursor_jll v1.2.0+4\u001b[39m\n",
      "  \u001b[90m[a3789734] \u001b[39m\u001b[92m+ Xorg_libXdmcp_jll v1.1.4+0\u001b[39m\n",
      "  \u001b[90m[1082639a] \u001b[39m\u001b[92m+ Xorg_libXext_jll v1.3.4+4\u001b[39m\n",
      "  \u001b[90m[d091e8ba] \u001b[39m\u001b[92m+ Xorg_libXfixes_jll v5.0.3+4\u001b[39m\n",
      "  \u001b[90m[a51aa0fd] \u001b[39m\u001b[92m+ Xorg_libXi_jll v1.7.10+4\u001b[39m\n",
      "  \u001b[90m[d1454406] \u001b[39m\u001b[92m+ Xorg_libXinerama_jll v1.1.4+4\u001b[39m\n",
      "  \u001b[90m[ec84b674] \u001b[39m\u001b[92m+ Xorg_libXrandr_jll v1.5.2+4\u001b[39m\n",
      "  \u001b[90m[ea2f1a96] \u001b[39m\u001b[92m+ Xorg_libXrender_jll v0.9.10+4\u001b[39m\n",
      "  \u001b[90m[14d82f49] \u001b[39m\u001b[92m+ Xorg_libpthread_stubs_jll v0.1.1+0\u001b[39m\n",
      "  \u001b[90m[c7cfdc94] \u001b[39m\u001b[92m+ Xorg_libxcb_jll v1.15.0+0\u001b[39m\n",
      "  \u001b[90m[cc61e674] \u001b[39m\u001b[92m+ Xorg_libxkbfile_jll v1.1.2+0\u001b[39m\n",
      "  \u001b[90m[e920d4aa] \u001b[39m\u001b[92m+ Xorg_xcb_util_cursor_jll v0.1.4+0\u001b[39m\n",
      "  \u001b[90m[12413925] \u001b[39m\u001b[92m+ Xorg_xcb_util_image_jll v0.4.0+1\u001b[39m\n",
      "  \u001b[90m[2def613f] \u001b[39m\u001b[92m+ Xorg_xcb_util_jll v0.4.0+1\u001b[39m\n",
      "  \u001b[90m[975044d2] \u001b[39m\u001b[92m+ Xorg_xcb_util_keysyms_jll v0.4.0+1\u001b[39m\n",
      "  \u001b[90m[0d47668e] \u001b[39m\u001b[92m+ Xorg_xcb_util_renderutil_jll v0.3.9+1\u001b[39m\n",
      "  \u001b[90m[c22f9ab0] \u001b[39m\u001b[92m+ Xorg_xcb_util_wm_jll v0.4.1+1\u001b[39m\n",
      "  \u001b[90m[35661453] \u001b[39m\u001b[92m+ Xorg_xkbcomp_jll v1.4.6+0\u001b[39m\n",
      "  \u001b[90m[33bec58e] \u001b[39m\u001b[92m+ Xorg_xkeyboard_config_jll v2.39.0+0\u001b[39m\n",
      "  \u001b[90m[c5fb5394] \u001b[39m\u001b[92m+ Xorg_xtrans_jll v1.5.0+0\u001b[39m\n",
      "  \u001b[90m[3161d3a3] \u001b[39m\u001b[92m+ Zstd_jll v1.5.5+0\u001b[39m\n",
      "  \u001b[90m[35ca27e7] \u001b[39m\u001b[92m+ eudev_jll v3.2.9+0\u001b[39m\n",
      "  \u001b[90m[214eeab7] \u001b[39m\u001b[92m+ fzf_jll v0.35.1+0\u001b[39m\n",
      "  \u001b[90m[1a1c6b14] \u001b[39m\u001b[92m+ gperf_jll v3.1.1+0\u001b[39m\n",
      "  \u001b[90m[a4ae2306] \u001b[39m\u001b[92m+ libaom_jll v3.4.0+0\u001b[39m\n",
      "  \u001b[90m[0ac62f75] \u001b[39m\u001b[92m+ libass_jll v0.15.1+0\u001b[39m\n",
      "  \u001b[90m[2db6ffa8] \u001b[39m\u001b[92m+ libevdev_jll v1.11.0+0\u001b[39m\n",
      "  \u001b[90m[f638f0a6] \u001b[39m\u001b[92m+ libfdk_aac_jll v2.0.2+0\u001b[39m\n",
      "  \u001b[90m[36db933b] \u001b[39m\u001b[92m+ libinput_jll v1.18.0+0\u001b[39m\n",
      "  \u001b[90m[b53b4c65] \u001b[39m\u001b[92m+ libpng_jll v1.6.38+0\u001b[39m\n",
      "  \u001b[90m[f27f6e37] \u001b[39m\u001b[92m+ libvorbis_jll v1.3.7+1\u001b[39m\n",
      "  \u001b[90m[009596ad] \u001b[39m\u001b[92m+ mtdev_jll v1.1.6+0\u001b[39m\n",
      "  \u001b[90m[1270edf5] \u001b[39m\u001b[92m+ x264_jll v2021.5.5+0\u001b[39m\n",
      "  \u001b[90m[dfaa095f] \u001b[39m\u001b[92m+ x265_jll v3.5.0+0\u001b[39m\n",
      "  \u001b[90m[d8fb68d0] \u001b[39m\u001b[92m+ xkbcommon_jll v1.4.1+1\u001b[39m\n",
      "  \u001b[90m[8dfed614] \u001b[39m\u001b[92m+ Test\u001b[39m\n",
      "  \u001b[90m[05823500] \u001b[39m\u001b[92m+ OpenLibm_jll v0.8.1+0\u001b[39m\n",
      "  \u001b[90m[efcefdf7] \u001b[39m\u001b[92m+ PCRE2_jll v10.42.0+0\u001b[39m\n",
      "\u001b[36m\u001b[1m        Info\u001b[22m\u001b[39m Packages marked with \u001b[32m⌃\u001b[39m and \u001b[33m⌅\u001b[39m have new versions available, but those with \u001b[33m⌅\u001b[39m are restricted by compatibility constraints from upgrading. To see why use `status --outdated -m`"
     ]
    },
    {
     "name": "stderr",
     "output_type": "stream",
     "text": [
      "\n",
      "\u001b[32m\u001b[1mPrecompiling\u001b[22m\u001b[39m project..."
     ]
    },
    {
     "name": "stderr",
     "output_type": "stream",
     "text": [
      "\n"
     ]
    },
    {
     "name": "stderr",
     "output_type": "stream",
     "text": [
      "\u001b[32m  ✓ \u001b[39m\u001b[90mPipe\u001b[39m\n"
     ]
    },
    {
     "name": "stderr",
     "output_type": "stream",
     "text": [
      "\u001b[32m  ✓ \u001b[39m\u001b[90mTensorCore\u001b[39m\n",
      "\u001b[32m  ✓ \u001b[39m\u001b[90mStatsAPI\u001b[39m\n",
      "\u001b[32m  ✓ \u001b[39m\u001b[90mLaTeXStrings\u001b[39m\n"
     ]
    },
    {
     "name": "stderr",
     "output_type": "stream",
     "text": [
      "\u001b[32m  ✓ \u001b[39m\u001b[90mContour\u001b[39m\n",
      "\u001b[32m  ✓ \u001b[39m\u001b[90mMeasures\u001b[39m\n"
     ]
    },
    {
     "name": "stderr",
     "output_type": "stream",
     "text": [
      "\u001b[32m  ✓ \u001b[39m\u001b[90mConcurrentUtilities\u001b[39m\n"
     ]
    },
    {
     "name": "stderr",
     "output_type": "stream",
     "text": [
      "\u001b[32m  ✓ \u001b[39m\u001b[90mSimpleBufferStream\u001b[39m\n"
     ]
    },
    {
     "name": "stderr",
     "output_type": "stream",
     "text": [
      "\u001b[32m  ✓ \u001b[39m\u001b[90mUnzip\u001b[39m\n",
      "\u001b[32m  ✓ \u001b[39m\u001b[90mDocStringExtensions\u001b[39m\n"
     ]
    },
    {
     "name": "stderr",
     "output_type": "stream",
     "text": [
      "\u001b[32m  ✓ \u001b[39m\u001b[90mFormatting\u001b[39m\n",
      "\u001b[32m  ✓ \u001b[39m\u001b[90mGrisu\u001b[39m\n"
     ]
    },
    {
     "name": "stderr",
     "output_type": "stream",
     "text": [
      "\u001b[32m  ✓ \u001b[39m\u001b[90mExceptionUnwrapping\u001b[39m\n"
     ]
    },
    {
     "name": "stderr",
     "output_type": "stream",
     "text": [
      "\u001b[32m  ✓ \u001b[39m\u001b[90mXorg_libICE_jll\u001b[39m\n"
     ]
    },
    {
     "name": "stderr",
     "output_type": "stream",
     "text": [
      "\u001b[32m  ✓ \u001b[39m\u001b[90mRequires\u001b[39m\n",
      "\u001b[32m  ✓ \u001b[39m\u001b[90mNaNMath\u001b[39m\n"
     ]
    },
    {
     "name": "stderr",
     "output_type": "stream",
     "text": [
      "\u001b[32m  ✓ \u001b[39m\u001b[90mDelimitedFiles\u001b[39m\n"
     ]
    },
    {
     "name": "stderr",
     "output_type": "stream",
     "text": [
      "\u001b[32m  ✓ \u001b[39m\u001b[90mIrrationalConstants\u001b[39m\n"
     ]
    },
    {
     "name": "stderr",
     "output_type": "stream",
     "text": [
      "\u001b[32m  ✓ \u001b[39m\u001b[90mTranscodingStreams\u001b[39m\n",
      "\u001b[32m  ✓ \u001b[39m\u001b[90mDataAPI\u001b[39m\n"
     ]
    },
    {
     "name": "stderr",
     "output_type": "stream",
     "text": [
      "\u001b[32m  ✓ \u001b[39m\u001b[90mBitFlags\u001b[39m\n"
     ]
    },
    {
     "name": "stderr",
     "output_type": "stream",
     "text": [
      "\u001b[32m  ✓ \u001b[39m\u001b[90mScratch\u001b[39m\n"
     ]
    },
    {
     "name": "stderr",
     "output_type": "stream",
     "text": [
      "\u001b[32m  ✓ \u001b[39m\u001b[90mLoggingExtras\u001b[39m\n"
     ]
    },
    {
     "name": "stderr",
     "output_type": "stream",
     "text": [
      "\u001b[32m  ✓ \u001b[39m\u001b[90mShowoff\u001b[39m\n"
     ]
    },
    {
     "name": "stderr",
     "output_type": "stream",
     "text": [
      "\u001b[32m  ✓ \u001b[39m\u001b[90mSortingAlgorithms\u001b[39m\n"
     ]
    },
    {
     "name": "stderr",
     "output_type": "stream",
     "text": [
      "\u001b[32m  ✓ \u001b[39m\u001b[90mJLLWrappers\u001b[39m\n"
     ]
    },
    {
     "name": "stderr",
     "output_type": "stream",
     "text": [
      "\u001b[32m  ✓ \u001b[39m\u001b[90mUnicodeFun\u001b[39m\n"
     ]
    },
    {
     "name": "stderr",
     "output_type": "stream",
     "text": [
      "\u001b[32m  ✓ \u001b[39m\u001b[90mMacroTools\u001b[39m\n"
     ]
    },
    {
     "name": "stderr",
     "output_type": "stream",
     "text": [
      "\u001b[32m  ✓ \u001b[39m\u001b[90mMbedTLS\u001b[39m\n"
     ]
    },
    {
     "name": "stderr",
     "output_type": "stream",
     "text": [
      "\u001b[32m  ✓ \u001b[39m\u001b[90mLogExpFunctions\u001b[39m\n"
     ]
    },
    {
     "name": "stderr",
     "output_type": "stream",
     "text": [
      "\u001b[32m  ✓ \u001b[39m\u001b[90mMissings\u001b[39m\n"
     ]
    },
    {
     "name": "stderr",
     "output_type": "stream",
     "text": [
      "\u001b[32m  ✓ \u001b[39m\u001b[90mXorg_libSM_jll\u001b[39m\n"
     ]
    },
    {
     "name": "stderr",
     "output_type": "stream",
     "text": [
      "\u001b[32m  ✓ \u001b[39m\u001b[90mTranscodingStreams → TestExt\u001b[39m\n",
      "\u001b[32m  ✓ \u001b[39m\u001b[90mRelocatableFolders\u001b[39m\n"
     ]
    },
    {
     "name": "stderr",
     "output_type": "stream",
     "text": [
      "\u001b[32m  ✓ \u001b[39m\u001b[90mRecipesBase\u001b[39m\n"
     ]
    },
    {
     "name": "stderr",
     "output_type": "stream",
     "text": [
      "\u001b[32m  ✓ \u001b[39m\u001b[90mOpenSSL_jll\u001b[39m\n"
     ]
    },
    {
     "name": "stderr",
     "output_type": "stream",
     "text": [
      "\u001b[32m  ✓ \u001b[39m\u001b[90mGraphite2_jll\u001b[39m\n"
     ]
    },
    {
     "name": "stderr",
     "output_type": "stream",
     "text": [
      "\u001b[32m  ✓ \u001b[39m\u001b[90mLibmount_jll\u001b[39m\n"
     ]
    },
    {
     "name": "stderr",
     "output_type": "stream",
     "text": [
      "\u001b[32m  ✓ \u001b[39m\u001b[90mLLVMOpenMP_jll\u001b[39m\n"
     ]
    },
    {
     "name": "stderr",
     "output_type": "stream",
     "text": [
      "\u001b[32m  ✓ \u001b[39m\u001b[90mEpollShim_jll\u001b[39m\n"
     ]
    },
    {
     "name": "stderr",
     "output_type": "stream",
     "text": [
      "\u001b[32m  ✓ \u001b[39m\u001b[90mCodecZlib\u001b[39m\n"
     ]
    },
    {
     "name": "stderr",
     "output_type": "stream",
     "text": [
      "\u001b[32m  ✓ \u001b[39m\u001b[90mBzip2_jll\u001b[39m\n"
     ]
    },
    {
     "name": "stderr",
     "output_type": "stream",
     "text": [
      "\u001b[32m  ✓ \u001b[39m\u001b[90mXorg_libXau_jll\u001b[39m\n"
     ]
    },
    {
     "name": "stderr",
     "output_type": "stream",
     "text": [
      "\u001b[32m  ✓ \u001b[39m\u001b[90mlibpng_jll\u001b[39m\n"
     ]
    },
    {
     "name": "stderr",
     "output_type": "stream",
     "text": [
      "\u001b[32m  ✓ \u001b[39m\u001b[90mlibfdk_aac_jll\u001b[39m\n"
     ]
    },
    {
     "name": "stderr",
     "output_type": "stream",
     "text": [
      "\u001b[32m  ✓ \u001b[39m\u001b[90mLAME_jll\u001b[39m\n"
     ]
    },
    {
     "name": "stderr",
     "output_type": "stream",
     "text": [
      "\u001b[32m  ✓ \u001b[39m\u001b[90mLERC_jll\u001b[39m\n"
     ]
    },
    {
     "name": "stderr",
     "output_type": "stream",
     "text": [
      "\u001b[32m  ✓ \u001b[39m\u001b[90mfzf_jll\u001b[39m\n"
     ]
    },
    {
     "name": "stderr",
     "output_type": "stream",
     "text": [
      "\u001b[32m  ✓ \u001b[39m\u001b[90mColorVectorSpace\u001b[39m\n"
     ]
    },
    {
     "name": "stderr",
     "output_type": "stream",
     "text": [
      "\u001b[32m  ✓ \u001b[39m\u001b[90mJpegTurbo_jll\u001b[39m\n"
     ]
    },
    {
     "name": "stderr",
     "output_type": "stream",
     "text": [
      "\u001b[32m  ✓ \u001b[39m\u001b[90mXZ_jll\u001b[39m\n"
     ]
    },
    {
     "name": "stderr",
     "output_type": "stream",
     "text": [
      "\u001b[32m  ✓ \u001b[39m\u001b[90mOgg_jll\u001b[39m\n"
     ]
    },
    {
     "name": "stderr",
     "output_type": "stream",
     "text": [
      "\u001b[32m  ✓ \u001b[39m\u001b[90mmtdev_jll\u001b[39m\n"
     ]
    },
    {
     "name": "stderr",
     "output_type": "stream",
     "text": [
      "\u001b[32m  ✓ \u001b[39m\u001b[90mgperf_jll\u001b[39m\n"
     ]
    },
    {
     "name": "stderr",
     "output_type": "stream",
     "text": [
      "\u001b[32m  ✓ \u001b[39m\u001b[90mXorg_libXdmcp_jll\u001b[39m\n"
     ]
    },
    {
     "name": "stderr",
     "output_type": "stream",
     "text": [
      "\u001b[32m  ✓ \u001b[39m\u001b[90mx265_jll\u001b[39m\n"
     ]
    },
    {
     "name": "stderr",
     "output_type": "stream",
     "text": [
      "\u001b[32m  ✓ \u001b[39m\u001b[90mx264_jll\u001b[39m\n",
      "\u001b[32m  ✓ \u001b[39m\u001b[90mlibaom_jll\u001b[39m\n"
     ]
    },
    {
     "name": "stderr",
     "output_type": "stream",
     "text": [
      "\u001b[32m  ✓ \u001b[39m\u001b[90mZstd_jll\u001b[39m\n"
     ]
    },
    {
     "name": "stderr",
     "output_type": "stream",
     "text": [
      "\u001b[32m  ✓ \u001b[39m\u001b[90mExpat_jll\u001b[39m\n"
     ]
    },
    {
     "name": "stderr",
     "output_type": "stream",
     "text": [
      "\u001b[32m  ✓ \u001b[39m\u001b[90mOpus_jll\u001b[39m\n"
     ]
    },
    {
     "name": "stderr",
     "output_type": "stream",
     "text": [
      "\u001b[32m  ✓ \u001b[39m\u001b[90mLZO_jll\u001b[39m\n"
     ]
    },
    {
     "name": "stderr",
     "output_type": "stream",
     "text": [
      "\u001b[32m  ✓ \u001b[39m\u001b[90mXorg_xtrans_jll\u001b[39m\n"
     ]
    },
    {
     "name": "stderr",
     "output_type": "stream",
     "text": [
      "\u001b[32m  ✓ \u001b[39m\u001b[90mlibevdev_jll\u001b[39m\n"
     ]
    },
    {
     "name": "stderr",
     "output_type": "stream",
     "text": [
      "\u001b[32m  ✓ \u001b[39m\u001b[90mLibiconv_jll\u001b[39m\n",
      "\u001b[32m  ✓ \u001b[39m\u001b[90mLibffi_jll\u001b[39m\n"
     ]
    },
    {
     "name": "stderr",
     "output_type": "stream",
     "text": [
      "\u001b[32m  ✓ \u001b[39m\u001b[90mLibgpg_error_jll\u001b[39m\n"
     ]
    },
    {
     "name": "stderr",
     "output_type": "stream",
     "text": [
      "\u001b[32m  ✓ \u001b[39m\u001b[90mWayland_protocols_jll\u001b[39m\n"
     ]
    },
    {
     "name": "stderr",
     "output_type": "stream",
     "text": [
      "\u001b[32m  ✓ \u001b[39m\u001b[90mXorg_libpthread_stubs_jll\u001b[39m\n",
      "\u001b[32m  ✓ \u001b[39m\u001b[90mLibuuid_jll\u001b[39m\n"
     ]
    },
    {
     "name": "stderr",
     "output_type": "stream",
     "text": [
      "\u001b[32m  ✓ \u001b[39m\u001b[90mFriBidi_jll\u001b[39m\n"
     ]
    },
    {
     "name": "stderr",
     "output_type": "stream",
     "text": [
      "\u001b[32m  ✓ \u001b[39m\u001b[90mPixman_jll\u001b[39m\n"
     ]
    },
    {
     "name": "stderr",
     "output_type": "stream",
     "text": [
      "\u001b[32m  ✓ \u001b[39m\u001b[90mFreeType2_jll\u001b[39m\n"
     ]
    },
    {
     "name": "stderr",
     "output_type": "stream",
     "text": [
      "\u001b[32m  ✓ \u001b[39m\u001b[90mJLFzf\u001b[39m\n"
     ]
    },
    {
     "name": "stderr",
     "output_type": "stream",
     "text": [
      "\u001b[32m  ✓ \u001b[39m\u001b[90mlibvorbis_jll\u001b[39m\n"
     ]
    },
    {
     "name": "stderr",
     "output_type": "stream",
     "text": [
      "\u001b[32m  ✓ \u001b[39m\u001b[90meudev_jll\u001b[39m\n"
     ]
    },
    {
     "name": "stderr",
     "output_type": "stream",
     "text": [
      "\u001b[32m  ✓ \u001b[39m\u001b[90mStatsBase\u001b[39m\n"
     ]
    },
    {
     "name": "stderr",
     "output_type": "stream",
     "text": [
      "\u001b[32m  ✓ \u001b[39m\u001b[90mLibtiff_jll\u001b[39m\n"
     ]
    },
    {
     "name": "stderr",
     "output_type": "stream",
     "text": [
      "\u001b[32m  ✓ \u001b[39m\u001b[90mOpenSSL\u001b[39m\n"
     ]
    },
    {
     "name": "stderr",
     "output_type": "stream",
     "text": [
      "\u001b[32m  ✓ \u001b[39m\u001b[90mXML2_jll\u001b[39m\n",
      "\u001b[32m  ✓ \u001b[39m\u001b[90mLibgcrypt_jll\u001b[39m\n"
     ]
    },
    {
     "name": "stderr",
     "output_type": "stream",
     "text": [
      "\u001b[32m  ✓ \u001b[39m\u001b[90mLatexify\u001b[39m\n"
     ]
    },
    {
     "name": "stderr",
     "output_type": "stream",
     "text": [
      "\u001b[32m  ✓ \u001b[39m\u001b[90mlibinput_jll\u001b[39m\n"
     ]
    },
    {
     "name": "stderr",
     "output_type": "stream",
     "text": [
      "\u001b[32m  ✓ \u001b[39m\u001b[90mFontconfig_jll\u001b[39m\n"
     ]
    },
    {
     "name": "stderr",
     "output_type": "stream",
     "text": [
      "\u001b[32m  ✓ \u001b[39m\u001b[90mWayland_jll\u001b[39m\n"
     ]
    },
    {
     "name": "stderr",
     "output_type": "stream",
     "text": [
      "\u001b[32m  ✓ \u001b[39m\u001b[90mGettext_jll\u001b[39m\n"
     ]
    },
    {
     "name": "stderr",
     "output_type": "stream",
     "text": [
      "\u001b[32m  ✓ \u001b[39m\u001b[90mXSLT_jll\u001b[39m\n"
     ]
    },
    {
     "name": "stderr",
     "output_type": "stream",
     "text": [
      "\u001b[32m  ✓ \u001b[39m\u001b[90mGlib_jll\u001b[39m\n"
     ]
    },
    {
     "name": "stderr",
     "output_type": "stream",
     "text": [
      "\u001b[32m  ✓ \u001b[39m\u001b[90mXorg_libxcb_jll\u001b[39m\n"
     ]
    },
    {
     "name": "stderr",
     "output_type": "stream",
     "text": [
      "\u001b[32m  ✓ \u001b[39m\u001b[90mXorg_libX11_jll\u001b[39m\n",
      "\u001b[32m  ✓ \u001b[39m\u001b[90mXorg_xcb_util_jll\u001b[39m\n"
     ]
    },
    {
     "name": "stderr",
     "output_type": "stream",
     "text": [
      "\u001b[32m  ✓ \u001b[39m\u001b[90mHTTP\u001b[39m\n"
     ]
    },
    {
     "name": "stderr",
     "output_type": "stream",
     "text": [
      "\u001b[32m  ✓ \u001b[39m\u001b[90mColorSchemes\u001b[39m\n"
     ]
    },
    {
     "name": "stderr",
     "output_type": "stream",
     "text": [
      "\u001b[32m  ✓ \u001b[39m\u001b[90mXorg_libXfixes_jll\u001b[39m"
     ]
    },
    {
     "name": "stderr",
     "output_type": "stream",
     "text": [
      "\n",
      "\u001b[32m  ✓ \u001b[39m\u001b[90mXorg_libXext_jll\u001b[39m\n",
      "\u001b[32m  ✓ \u001b[39m\u001b[90mXorg_libxkbfile_jll\u001b[39m\n",
      "\u001b[32m  ✓ \u001b[39m\u001b[90mXorg_xcb_util_image_jll\u001b[39m\n",
      "\u001b[32m  ✓ \u001b[39m\u001b[90mXorg_libXrender_jll\u001b[39m\n",
      "\u001b[32m  ✓ \u001b[39m\u001b[90mXorg_xcb_util_keysyms_jll\u001b[39m\n"
     ]
    },
    {
     "name": "stderr",
     "output_type": "stream",
     "text": [
      "\u001b[32m  ✓ \u001b[39m\u001b[90mXorg_xcb_util_renderutil_jll\u001b[39m\n"
     ]
    },
    {
     "name": "stderr",
     "output_type": "stream",
     "text": [
      "\u001b[32m  ✓ \u001b[39m\u001b[90mXorg_xcb_util_wm_jll\u001b[39m\n"
     ]
    },
    {
     "name": "stderr",
     "output_type": "stream",
     "text": [
      "\u001b[32m  ✓ \u001b[39m\u001b[90mXorg_xkbcomp_jll\u001b[39m\n",
      "\u001b[32m  ✓ \u001b[39m\u001b[90mXorg_libXi_jll\u001b[39m\n"
     ]
    },
    {
     "name": "stderr",
     "output_type": "stream",
     "text": [
      "\u001b[32m  ✓ \u001b[39m\u001b[90mXorg_libXinerama_jll\u001b[39m\n",
      "\u001b[32m  ✓ \u001b[39m\u001b[90mLibglvnd_jll\u001b[39m\n"
     ]
    },
    {
     "name": "stderr",
     "output_type": "stream",
     "text": [
      "\u001b[32m  ✓ \u001b[39m\u001b[90mCairo_jll\u001b[39m\n"
     ]
    },
    {
     "name": "stderr",
     "output_type": "stream",
     "text": [
      "\u001b[32m  ✓ \u001b[39m\u001b[90mXorg_libXcursor_jll\u001b[39m\n"
     ]
    },
    {
     "name": "stderr",
     "output_type": "stream",
     "text": [
      "\u001b[32m  ✓ \u001b[39m\u001b[90mXorg_libXrandr_jll\u001b[39m\n"
     ]
    },
    {
     "name": "stderr",
     "output_type": "stream",
     "text": [
      "\u001b[32m  ✓ \u001b[39m\u001b[90mXorg_xcb_util_cursor_jll\u001b[39m\n"
     ]
    },
    {
     "name": "stderr",
     "output_type": "stream",
     "text": [
      "\u001b[32m  ✓ \u001b[39m\u001b[90mXorg_xkeyboard_config_jll\u001b[39m\n"
     ]
    },
    {
     "name": "stderr",
     "output_type": "stream",
     "text": [
      "\u001b[32m  ✓ \u001b[39m\u001b[90mHarfBuzz_jll\u001b[39m\n"
     ]
    },
    {
     "name": "stderr",
     "output_type": "stream",
     "text": [
      "\u001b[32m  ✓ \u001b[39m\u001b[90mGLFW_jll\u001b[39m\n"
     ]
    },
    {
     "name": "stderr",
     "output_type": "stream",
     "text": [
      "\u001b[32m  ✓ \u001b[39m\u001b[90mxkbcommon_jll\u001b[39m\n"
     ]
    },
    {
     "name": "stderr",
     "output_type": "stream",
     "text": [
      "\u001b[32m  ✓ \u001b[39m\u001b[90mlibass_jll\u001b[39m\n"
     ]
    },
    {
     "name": "stderr",
     "output_type": "stream",
     "text": [
      "\u001b[32m  ✓ \u001b[39m\u001b[90mVulkan_Loader_jll\u001b[39m\n"
     ]
    },
    {
     "name": "stderr",
     "output_type": "stream",
     "text": [
      "\u001b[32m  ✓ \u001b[39m\u001b[90mFFMPEG_jll\u001b[39m\n"
     ]
    },
    {
     "name": "stderr",
     "output_type": "stream",
     "text": [
      "\u001b[32m  ✓ \u001b[39m\u001b[90mQt6Base_jll\u001b[39m\n"
     ]
    },
    {
     "name": "stderr",
     "output_type": "stream",
     "text": [
      "\u001b[32m  ✓ \u001b[39m\u001b[90mFFMPEG\u001b[39m\n"
     ]
    },
    {
     "name": "stderr",
     "output_type": "stream",
     "text": [
      "\u001b[32m  ✓ \u001b[39m\u001b[90mGR_jll\u001b[39m\n"
     ]
    },
    {
     "name": "stderr",
     "output_type": "stream",
     "text": [
      "\u001b[32m  ✓ \u001b[39m\u001b[90mGR\u001b[39m\n"
     ]
    },
    {
     "name": "stderr",
     "output_type": "stream",
     "text": [
      "\u001b[32m  ✓ \u001b[39m\u001b[90mPlotUtils\u001b[39m\n"
     ]
    },
    {
     "name": "stderr",
     "output_type": "stream",
     "text": [
      "\u001b[32m  ✓ \u001b[39m\u001b[90mPlotThemes\u001b[39m\n"
     ]
    },
    {
     "name": "stderr",
     "output_type": "stream",
     "text": [
      "\u001b[32m  ✓ \u001b[39m\u001b[90mRecipesPipeline\u001b[39m\n"
     ]
    },
    {
     "name": "stderr",
     "output_type": "stream",
     "text": [
      "\u001b[32m  ✓ \u001b[39m\u001b[90mUnitful\u001b[39m\n"
     ]
    },
    {
     "name": "stderr",
     "output_type": "stream",
     "text": [
      "\u001b[32m  ✓ \u001b[39m\u001b[90mUnitfulLatexify\u001b[39m\n"
     ]
    },
    {
     "name": "stderr",
     "output_type": "stream",
     "text": [
      "\u001b[32m  ✓ \u001b[39mPlots\n"
     ]
    },
    {
     "name": "stderr",
     "output_type": "stream",
     "text": [
      "\u001b[32m  ✓ \u001b[39m\u001b[90mPlots → UnitfulExt\u001b[39m\n",
      "  127 dependencies successfully precompiled in 118 seconds. 28 already precompiled."
     ]
    },
    {
     "name": "stderr",
     "output_type": "stream",
     "text": [
      "\n"
     ]
    }
   ],
   "source": [
    "Pkg.add(\"Plots\")\n",
    "using Plots\n"
   ]
  },
  {
   "cell_type": "code",
   "execution_count": 134,
   "metadata": {},
   "outputs": [
    {
     "data": {
      "image/png": "[encoded data removed]",
      "image/svg+xml": [
       "<?xml version=\"1.0\" encoding=\"utf-8\"?>\n",
       "<svg xmlns=\"http://www.w3.org/2000/svg\" xmlns:xlink=\"http://www.w3.org/1999/xlink\" width=\"600\" height=\"400\" viewBox=\"0 0 2400 1600\">\n",
       "<defs>\n",
       "  <clipPath id=\"clip280\">\n",
       "    <rect x=\"0\" y=\"0\" width=\"2400\" height=\"1600\"/>\n",
       "  </clipPath>\n",
       "</defs>\n",
       "<path clip-path=\"url(#clip280)\" d=\"M0 1600 L2400 1600 L2400 0 L0 0  Z\" fill=\"#ffffff\" fill-rule=\"evenodd\" fill-opacity=\"1\"/>\n",
       "<defs>\n",
       "  <clipPath id=\"clip281\">\n",
       "    <rect x=\"480\" y=\"0\" width=\"1681\" height=\"1600\"/>\n",
       "  </clipPath>\n",
       "</defs>\n",
       "<path clip-path=\"url(#clip280)\" d=\"M148.057 1486.45 L2352.76 1486.45 L2352.76 47.2441 L148.057 47.2441  Z\" fill=\"#ffffff\" fill-rule=\"evenodd\" fill-opacity=\"1\"/>\n",
       "<defs>\n",
       "  <clipPath id=\"clip282\">\n",
       "    <rect x=\"148\" y=\"47\" width=\"2206\" height=\"1440\"/>\n",
       "  </clipPath>\n",
       "</defs>\n",
       "<polyline clip-path=\"url(#clip282)\" style=\"stroke:#000000; stroke-linecap:round; stroke-linejoin:round; stroke-width:2; stroke-opacity:0.1; fill:none\" points=\"210.454,1486.45 210.454,47.2441 \"/>\n",
       "<polyline clip-path=\"url(#clip282)\" style=\"stroke:#000000; stroke-linecap:round; stroke-linejoin:round; stroke-width:2; stroke-opacity:0.1; fill:none\" points=\"557.105,1486.45 557.105,47.2441 \"/>\n",
       "<polyline clip-path=\"url(#clip282)\" style=\"stroke:#000000; stroke-linecap:round; stroke-linejoin:round; stroke-width:2; stroke-opacity:0.1; fill:none\" points=\"903.755,1486.45 903.755,47.2441 \"/>\n",
       "<polyline clip-path=\"url(#clip282)\" style=\"stroke:#000000; stroke-linecap:round; stroke-linejoin:round; stroke-width:2; stroke-opacity:0.1; fill:none\" points=\"1250.41,1486.45 1250.41,47.2441 \"/>\n",
       "<polyline clip-path=\"url(#clip282)\" style=\"stroke:#000000; stroke-linecap:round; stroke-linejoin:round; stroke-width:2; stroke-opacity:0.1; fill:none\" points=\"1597.06,1486.45 1597.06,47.2441 \"/>\n",
       "<polyline clip-path=\"url(#clip282)\" style=\"stroke:#000000; stroke-linecap:round; stroke-linejoin:round; stroke-width:2; stroke-opacity:0.1; fill:none\" points=\"1943.71,1486.45 1943.71,47.2441 \"/>\n",
       "<polyline clip-path=\"url(#clip282)\" style=\"stroke:#000000; stroke-linecap:round; stroke-linejoin:round; stroke-width:2; stroke-opacity:0.1; fill:none\" points=\"2290.36,1486.45 2290.36,47.2441 \"/>\n",
       "<polyline clip-path=\"url(#clip280)\" style=\"stroke:#000000; stroke-linecap:round; stroke-linejoin:round; stroke-width:4; stroke-opacity:1; fill:none\" points=\"148.057,1486.45 2352.76,1486.45 \"/>\n",
       "<polyline clip-path=\"url(#clip280)\" style=\"stroke:#000000; stroke-linecap:round; stroke-linejoin:round; stroke-width:4; stroke-opacity:1; fill:none\" points=\"210.454,1486.45 210.454,1467.55 \"/>\n",
       "<polyline clip-path=\"url(#clip280)\" style=\"stroke:#000000; stroke-linecap:round; stroke-linejoin:round; stroke-width:4; stroke-opacity:1; fill:none\" points=\"557.105,1486.45 557.105,1467.55 \"/>\n",
       "<polyline clip-path=\"url(#clip280)\" style=\"stroke:#000000; stroke-linecap:round; stroke-linejoin:round; stroke-width:4; stroke-opacity:1; fill:none\" points=\"903.755,1486.45 903.755,1467.55 \"/>\n",
       "<polyline clip-path=\"url(#clip280)\" style=\"stroke:#000000; stroke-linecap:round; stroke-linejoin:round; stroke-width:4; stroke-opacity:1; fill:none\" points=\"1250.41,1486.45 1250.41,1467.55 \"/>\n",
       "<polyline clip-path=\"url(#clip280)\" style=\"stroke:#000000; stroke-linecap:round; stroke-linejoin:round; stroke-width:4; stroke-opacity:1; fill:none\" points=\"1597.06,1486.45 1597.06,1467.55 \"/>\n",
       "<polyline clip-path=\"url(#clip280)\" style=\"stroke:#000000; stroke-linecap:round; stroke-linejoin:round; stroke-width:4; stroke-opacity:1; fill:none\" points=\"1943.71,1486.45 1943.71,1467.55 \"/>\n",
       "<polyline clip-path=\"url(#clip280)\" style=\"stroke:#000000; stroke-linecap:round; stroke-linejoin:round; stroke-width:4; stroke-opacity:1; fill:none\" points=\"2290.36,1486.45 2290.36,1467.55 \"/>\n",
       "<path clip-path=\"url(#clip280)\" d=\"M179.922 1532.02 L209.597 1532.02 L209.597 1535.95 L179.922 1535.95 L179.922 1532.02 Z\" fill=\"#000000\" fill-rule=\"nonzero\" fill-opacity=\"1\" /><path clip-path=\"url(#clip280)\" d=\"M233.856 1530.21 Q237.213 1530.93 239.088 1533.2 Q240.986 1535.47 240.986 1538.8 Q240.986 1543.92 237.468 1546.72 Q233.949 1549.52 227.468 1549.52 Q225.292 1549.52 222.977 1549.08 Q220.685 1548.66 218.231 1547.81 L218.231 1543.29 Q220.176 1544.43 222.491 1545.01 Q224.806 1545.58 227.329 1545.58 Q231.727 1545.58 234.018 1543.85 Q236.333 1542.11 236.333 1538.8 Q236.333 1535.75 234.18 1534.03 Q232.051 1532.3 228.231 1532.3 L224.204 1532.3 L224.204 1528.45 L228.417 1528.45 Q231.866 1528.45 233.694 1527.09 Q235.523 1525.7 235.523 1523.11 Q235.523 1520.45 233.625 1519.03 Q231.75 1517.6 228.231 1517.6 Q226.31 1517.6 224.111 1518.01 Q221.912 1518.43 219.273 1519.31 L219.273 1515.14 Q221.935 1514.4 224.25 1514.03 Q226.588 1513.66 228.648 1513.66 Q233.972 1513.66 237.074 1516.09 Q240.176 1518.5 240.176 1522.62 Q240.176 1525.49 238.532 1527.48 Q236.889 1529.45 233.856 1530.21 Z\" fill=\"#000000\" fill-rule=\"nonzero\" fill-opacity=\"1\" /><path clip-path=\"url(#clip280)\" d=\"M527.047 1532.02 L556.723 1532.02 L556.723 1535.95 L527.047 1535.95 L527.047 1532.02 Z\" fill=\"#000000\" fill-rule=\"nonzero\" fill-opacity=\"1\" /><path clip-path=\"url(#clip280)\" d=\"M570.843 1544.91 L587.162 1544.91 L587.162 1548.85 L565.218 1548.85 L565.218 1544.91 Q567.88 1542.16 572.463 1537.53 Q577.07 1532.88 578.25 1531.53 Q580.496 1529.01 581.375 1527.27 Q582.278 1525.51 582.278 1523.82 Q582.278 1521.07 580.334 1519.33 Q578.412 1517.6 575.311 1517.6 Q573.111 1517.6 570.658 1518.36 Q568.227 1519.13 565.449 1520.68 L565.449 1515.95 Q568.274 1514.82 570.727 1514.24 Q573.181 1513.66 575.218 1513.66 Q580.588 1513.66 583.783 1516.35 Q586.977 1519.03 586.977 1523.52 Q586.977 1525.65 586.167 1527.57 Q585.38 1529.47 583.273 1532.07 Q582.695 1532.74 579.593 1535.95 Q576.491 1539.15 570.843 1544.91 Z\" fill=\"#000000\" fill-rule=\"nonzero\" fill-opacity=\"1\" /><path clip-path=\"url(#clip280)\" d=\"M873.513 1532.02 L903.188 1532.02 L903.188 1535.95 L873.513 1535.95 L873.513 1532.02 Z\" fill=\"#000000\" fill-rule=\"nonzero\" fill-opacity=\"1\" /><path clip-path=\"url(#clip280)\" d=\"M914.091 1544.91 L921.73 1544.91 L921.73 1518.55 L913.42 1520.21 L913.42 1515.95 L921.684 1514.29 L926.359 1514.29 L926.359 1544.91 L933.998 1544.91 L933.998 1548.85 L914.091 1548.85 L914.091 1544.91 Z\" fill=\"#000000\" fill-rule=\"nonzero\" fill-opacity=\"1\" /><path clip-path=\"url(#clip280)\" d=\"M1250.41 1517.37 Q1246.8 1517.37 1244.97 1520.93 Q1243.16 1524.47 1243.16 1531.6 Q1243.16 1538.71 1244.97 1542.27 Q1246.8 1545.82 1250.41 1545.82 Q1254.04 1545.82 1255.85 1542.27 Q1257.67 1538.71 1257.67 1531.6 Q1257.67 1524.47 1255.85 1520.93 Q1254.04 1517.37 1250.41 1517.37 M1250.41 1513.66 Q1256.22 1513.66 1259.27 1518.27 Q1262.35 1522.85 1262.35 1531.6 Q1262.35 1540.33 1259.27 1544.94 Q1256.22 1549.52 1250.41 1549.52 Q1244.6 1549.52 1241.52 1544.94 Q1238.46 1540.33 1238.46 1531.6 Q1238.46 1522.85 1241.52 1518.27 Q1244.6 1513.66 1250.41 1513.66 Z\" fill=\"#000000\" fill-rule=\"nonzero\" fill-opacity=\"1\" /><path clip-path=\"url(#clip280)\" d=\"M1587.44 1544.91 L1595.08 1544.91 L1595.08 1518.55 L1586.77 1520.21 L1586.77 1515.95 L1595.03 1514.29 L1599.71 1514.29 L1599.71 1544.91 L1607.35 1544.91 L1607.35 1548.85 L1587.44 1548.85 L1587.44 1544.91 Z\" fill=\"#000000\" fill-rule=\"nonzero\" fill-opacity=\"1\" /><path clip-path=\"url(#clip280)\" d=\"M1938.36 1544.91 L1954.68 1544.91 L1954.68 1548.85 L1932.74 1548.85 L1932.74 1544.91 Q1935.4 1542.16 1939.98 1537.53 Q1944.59 1532.88 1945.77 1531.53 Q1948.01 1529.01 1948.89 1527.27 Q1949.8 1525.51 1949.8 1523.82 Q1949.8 1521.07 1947.85 1519.33 Q1945.93 1517.6 1942.83 1517.6 Q1940.63 1517.6 1938.18 1518.36 Q1935.75 1519.13 1932.97 1520.68 L1932.97 1515.95 Q1935.79 1514.82 1938.24 1514.24 Q1940.7 1513.66 1942.74 1513.66 Q1948.11 1513.66 1951.3 1516.35 Q1954.49 1519.03 1954.49 1523.52 Q1954.49 1525.65 1953.68 1527.57 Q1952.9 1529.47 1950.79 1532.07 Q1950.21 1532.74 1947.11 1535.95 Q1944.01 1539.15 1938.36 1544.91 Z\" fill=\"#000000\" fill-rule=\"nonzero\" fill-opacity=\"1\" /><path clip-path=\"url(#clip280)\" d=\"M2294.61 1530.21 Q2297.96 1530.93 2299.84 1533.2 Q2301.74 1535.47 2301.74 1538.8 Q2301.74 1543.92 2298.22 1546.72 Q2294.7 1549.52 2288.22 1549.52 Q2286.04 1549.52 2283.73 1549.08 Q2281.44 1548.66 2278.98 1547.81 L2278.98 1543.29 Q2280.93 1544.43 2283.24 1545.01 Q2285.56 1545.58 2288.08 1545.58 Q2292.48 1545.58 2294.77 1543.85 Q2297.08 1542.11 2297.08 1538.8 Q2297.08 1535.75 2294.93 1534.03 Q2292.8 1532.3 2288.98 1532.3 L2284.95 1532.3 L2284.95 1528.45 L2289.17 1528.45 Q2292.62 1528.45 2294.44 1527.09 Q2296.27 1525.7 2296.27 1523.11 Q2296.27 1520.45 2294.37 1519.03 Q2292.5 1517.6 2288.98 1517.6 Q2287.06 1517.6 2284.86 1518.01 Q2282.66 1518.43 2280.02 1519.31 L2280.02 1515.14 Q2282.69 1514.4 2285 1514.03 Q2287.34 1513.66 2289.4 1513.66 Q2294.72 1513.66 2297.82 1516.09 Q2300.93 1518.5 2300.93 1522.62 Q2300.93 1525.49 2299.28 1527.48 Q2297.64 1529.45 2294.61 1530.21 Z\" fill=\"#000000\" fill-rule=\"nonzero\" fill-opacity=\"1\" /><polyline clip-path=\"url(#clip282)\" style=\"stroke:#000000; stroke-linecap:round; stroke-linejoin:round; stroke-width:2; stroke-opacity:0.1; fill:none\" points=\"148.057,1445.72 2352.76,1445.72 \"/>\n",
       "<polyline clip-path=\"url(#clip282)\" style=\"stroke:#000000; stroke-linecap:round; stroke-linejoin:round; stroke-width:2; stroke-opacity:0.1; fill:none\" points=\"148.057,1219.43 2352.76,1219.43 \"/>\n",
       "<polyline clip-path=\"url(#clip282)\" style=\"stroke:#000000; stroke-linecap:round; stroke-linejoin:round; stroke-width:2; stroke-opacity:0.1; fill:none\" points=\"148.057,993.136 2352.76,993.136 \"/>\n",
       "<polyline clip-path=\"url(#clip282)\" style=\"stroke:#000000; stroke-linecap:round; stroke-linejoin:round; stroke-width:2; stroke-opacity:0.1; fill:none\" points=\"148.057,766.846 2352.76,766.846 \"/>\n",
       "<polyline clip-path=\"url(#clip282)\" style=\"stroke:#000000; stroke-linecap:round; stroke-linejoin:round; stroke-width:2; stroke-opacity:0.1; fill:none\" points=\"148.057,540.556 2352.76,540.556 \"/>\n",
       "<polyline clip-path=\"url(#clip282)\" style=\"stroke:#000000; stroke-linecap:round; stroke-linejoin:round; stroke-width:2; stroke-opacity:0.1; fill:none\" points=\"148.057,314.266 2352.76,314.266 \"/>\n",
       "<polyline clip-path=\"url(#clip282)\" style=\"stroke:#000000; stroke-linecap:round; stroke-linejoin:round; stroke-width:2; stroke-opacity:0.1; fill:none\" points=\"148.057,87.9763 2352.76,87.9763 \"/>\n",
       "<polyline clip-path=\"url(#clip280)\" style=\"stroke:#000000; stroke-linecap:round; stroke-linejoin:round; stroke-width:4; stroke-opacity:1; fill:none\" points=\"148.057,1486.45 148.057,47.2441 \"/>\n",
       "<polyline clip-path=\"url(#clip280)\" style=\"stroke:#000000; stroke-linecap:round; stroke-linejoin:round; stroke-width:4; stroke-opacity:1; fill:none\" points=\"148.057,1445.72 166.954,1445.72 \"/>\n",
       "<polyline clip-path=\"url(#clip280)\" style=\"stroke:#000000; stroke-linecap:round; stroke-linejoin:round; stroke-width:4; stroke-opacity:1; fill:none\" points=\"148.057,1219.43 166.954,1219.43 \"/>\n",
       "<polyline clip-path=\"url(#clip280)\" style=\"stroke:#000000; stroke-linecap:round; stroke-linejoin:round; stroke-width:4; stroke-opacity:1; fill:none\" points=\"148.057,993.136 166.954,993.136 \"/>\n",
       "<polyline clip-path=\"url(#clip280)\" style=\"stroke:#000000; stroke-linecap:round; stroke-linejoin:round; stroke-width:4; stroke-opacity:1; fill:none\" points=\"148.057,766.846 166.954,766.846 \"/>\n",
       "<polyline clip-path=\"url(#clip280)\" style=\"stroke:#000000; stroke-linecap:round; stroke-linejoin:round; stroke-width:4; stroke-opacity:1; fill:none\" points=\"148.057,540.556 166.954,540.556 \"/>\n",
       "<polyline clip-path=\"url(#clip280)\" style=\"stroke:#000000; stroke-linecap:round; stroke-linejoin:round; stroke-width:4; stroke-opacity:1; fill:none\" points=\"148.057,314.266 166.954,314.266 \"/>\n",
       "<polyline clip-path=\"url(#clip280)\" style=\"stroke:#000000; stroke-linecap:round; stroke-linejoin:round; stroke-width:4; stroke-opacity:1; fill:none\" points=\"148.057,87.9763 166.954,87.9763 \"/>\n",
       "<path clip-path=\"url(#clip280)\" d=\"M50.9921 1446.17 L80.6679 1446.17 L80.6679 1450.1 L50.9921 1450.1 L50.9921 1446.17 Z\" fill=\"#000000\" fill-rule=\"nonzero\" fill-opacity=\"1\" /><path clip-path=\"url(#clip280)\" d=\"M104.927 1444.36 Q108.283 1445.08 110.158 1447.35 Q112.057 1449.62 112.057 1452.95 Q112.057 1458.07 108.538 1460.87 Q105.02 1463.67 98.5382 1463.67 Q96.3623 1463.67 94.0475 1463.23 Q91.7558 1462.81 89.3021 1461.95 L89.3021 1457.44 Q91.2465 1458.57 93.5613 1459.15 Q95.8761 1459.73 98.3993 1459.73 Q102.797 1459.73 105.089 1458 Q107.404 1456.26 107.404 1452.95 Q107.404 1449.89 105.251 1448.18 Q103.121 1446.44 99.3021 1446.44 L95.2743 1446.44 L95.2743 1442.6 L99.4872 1442.6 Q102.936 1442.6 104.765 1441.24 Q106.594 1439.85 106.594 1437.26 Q106.594 1434.59 104.696 1433.18 Q102.821 1431.75 99.3021 1431.75 Q97.3808 1431.75 95.1817 1432.16 Q92.9826 1432.58 90.3438 1433.46 L90.3438 1429.29 Q93.0058 1428.55 95.3206 1428.18 Q97.6585 1427.81 99.7187 1427.81 Q105.043 1427.81 108.145 1430.24 Q111.246 1432.65 111.246 1436.77 Q111.246 1439.64 109.603 1441.63 Q107.959 1443.6 104.927 1444.36 Z\" fill=\"#000000\" fill-rule=\"nonzero\" fill-opacity=\"1\" /><path clip-path=\"url(#clip280)\" d=\"M51.9412 1219.88 L81.617 1219.88 L81.617 1223.81 L51.9412 1223.81 L51.9412 1219.88 Z\" fill=\"#000000\" fill-rule=\"nonzero\" fill-opacity=\"1\" /><path clip-path=\"url(#clip280)\" d=\"M95.7373 1232.77 L112.057 1232.77 L112.057 1236.71 L90.1123 1236.71 L90.1123 1232.77 Q92.7743 1230.02 97.3576 1225.39 Q101.964 1220.73 103.145 1219.39 Q105.39 1216.87 106.27 1215.13 Q107.172 1213.37 107.172 1211.68 Q107.172 1208.93 105.228 1207.19 Q103.307 1205.46 100.205 1205.46 Q98.0058 1205.46 95.5521 1206.22 Q93.1215 1206.98 90.3438 1208.53 L90.3438 1203.81 Q93.1678 1202.68 95.6215 1202.1 Q98.0752 1201.52 100.112 1201.52 Q105.483 1201.52 108.677 1204.21 Q111.871 1206.89 111.871 1211.38 Q111.871 1213.51 111.061 1215.43 Q110.274 1217.33 108.168 1219.92 Q107.589 1220.59 104.487 1223.81 Q101.385 1227.01 95.7373 1232.77 Z\" fill=\"#000000\" fill-rule=\"nonzero\" fill-opacity=\"1\" /><path clip-path=\"url(#clip280)\" d=\"M51.5708 993.587 L81.2466 993.587 L81.2466 997.522 L51.5708 997.522 L51.5708 993.587 Z\" fill=\"#000000\" fill-rule=\"nonzero\" fill-opacity=\"1\" /><path clip-path=\"url(#clip280)\" d=\"M92.1493 1006.48 L99.7882 1006.48 L99.7882 980.115 L91.478 981.782 L91.478 977.523 L99.7419 975.856 L104.418 975.856 L104.418 1006.48 L112.057 1006.48 L112.057 1010.42 L92.1493 1010.42 L92.1493 1006.48 Z\" fill=\"#000000\" fill-rule=\"nonzero\" fill-opacity=\"1\" /><path clip-path=\"url(#clip280)\" d=\"M100.112 752.645 Q96.5011 752.645 94.6724 756.209 Q92.8669 759.751 92.8669 766.881 Q92.8669 773.987 94.6724 777.552 Q96.5011 781.094 100.112 781.094 Q103.746 781.094 105.552 777.552 Q107.381 773.987 107.381 766.881 Q107.381 759.751 105.552 756.209 Q103.746 752.645 100.112 752.645 M100.112 748.941 Q105.922 748.941 108.978 753.547 Q112.057 758.131 112.057 766.881 Q112.057 775.608 108.978 780.214 Q105.922 784.797 100.112 784.797 Q94.3021 784.797 91.2234 780.214 Q88.1679 775.608 88.1679 766.881 Q88.1679 758.131 91.2234 753.547 Q94.3021 748.941 100.112 748.941 Z\" fill=\"#000000\" fill-rule=\"nonzero\" fill-opacity=\"1\" /><path clip-path=\"url(#clip280)\" d=\"M92.1493 553.901 L99.7882 553.901 L99.7882 527.535 L91.478 529.202 L91.478 524.943 L99.7419 523.276 L104.418 523.276 L104.418 553.901 L112.057 553.901 L112.057 557.836 L92.1493 557.836 L92.1493 553.901 Z\" fill=\"#000000\" fill-rule=\"nonzero\" fill-opacity=\"1\" /><path clip-path=\"url(#clip280)\" d=\"M95.7373 327.611 L112.057 327.611 L112.057 331.546 L90.1123 331.546 L90.1123 327.611 Q92.7743 324.856 97.3576 320.227 Q101.964 315.574 103.145 314.231 Q105.39 311.708 106.27 309.972 Q107.172 308.213 107.172 306.523 Q107.172 303.769 105.228 302.032 Q103.307 300.296 100.205 300.296 Q98.0058 300.296 95.5521 301.06 Q93.1215 301.824 90.3438 303.375 L90.3438 298.653 Q93.1678 297.519 95.6215 296.94 Q98.0752 296.361 100.112 296.361 Q105.483 296.361 108.677 299.046 Q111.871 301.732 111.871 306.222 Q111.871 308.352 111.061 310.273 Q110.274 312.171 108.168 314.764 Q107.589 315.435 104.487 318.653 Q101.385 321.847 95.7373 327.611 Z\" fill=\"#000000\" fill-rule=\"nonzero\" fill-opacity=\"1\" /><path clip-path=\"url(#clip280)\" d=\"M104.927 86.6221 Q108.283 87.3397 110.158 89.6082 Q112.057 91.8767 112.057 95.21 Q112.057 100.326 108.538 103.127 Q105.02 105.928 98.5382 105.928 Q96.3623 105.928 94.0475 105.488 Q91.7558 105.071 89.3021 104.215 L89.3021 99.7008 Q91.2465 100.835 93.5613 101.414 Q95.8761 101.992 98.3993 101.992 Q102.797 101.992 105.089 100.256 Q107.404 98.5202 107.404 95.21 Q107.404 92.1545 105.251 90.4415 Q103.121 88.7054 99.3021 88.7054 L95.2743 88.7054 L95.2743 84.8629 L99.4872 84.8629 Q102.936 84.8629 104.765 83.4971 Q106.594 82.1083 106.594 79.5157 Q106.594 76.8537 104.696 75.4416 Q102.821 74.0064 99.3021 74.0064 Q97.3808 74.0064 95.1817 74.4231 Q92.9826 74.8398 90.3438 75.7194 L90.3438 71.5528 Q93.0058 70.812 95.3206 70.4416 Q97.6585 70.0713 99.7187 70.0713 Q105.043 70.0713 108.145 72.5018 Q111.246 74.9092 111.246 79.0296 Q111.246 81.8999 109.603 83.8907 Q107.959 85.8582 104.927 86.6221 Z\" fill=\"#000000\" fill-rule=\"nonzero\" fill-opacity=\"1\" /><polyline clip-path=\"url(#clip282)\" style=\"stroke:#009af9; stroke-linecap:round; stroke-linejoin:round; stroke-width:4; stroke-opacity:1; fill:none\" points=\"210.454,1445.72 245.119,1423.09 279.784,1400.46 314.449,1377.83 349.114,1355.2 383.779,1332.57 418.444,1309.94 453.109,1287.31 487.774,1264.68 522.44,1242.05 557.105,1219.43 591.77,1196.8 626.435,1174.17 661.1,1151.54 695.765,1128.91 730.43,1106.28 765.095,1083.65 799.76,1061.02 834.425,1038.39 869.09,1015.76 903.755,993.136 938.421,970.507 973.086,947.878 1007.75,925.249 1042.42,902.62 1077.08,879.991 1111.75,857.362 1146.41,834.733 1181.08,812.104 1215.74,789.475 1250.41,766.846 1285.07,744.217 1319.74,721.588 1354.4,698.959 1389.07,676.33 1423.73,653.701 1458.4,631.072 1493.06,608.443 1527.73,585.814 1562.39,563.185 1597.06,540.556 1631.72,517.927 1666.39,495.298 1701.05,472.669 1735.72,450.04 1770.38,427.411 1805.05,404.782 1839.71,382.153 1874.38,359.524 1909.04,336.895 1943.71,314.266 1978.37,291.637 2013.04,269.008 2047.7,246.379 2082.37,223.75 2117.03,201.121 2151.7,178.492 2186.36,155.863 2221.03,133.234 2255.69,110.605 2290.36,87.9763 \"/>\n",
       "<path clip-path=\"url(#clip280)\" d=\"M221.547 198.898 L494.447 198.898 L494.447 95.2176 L221.547 95.2176  Z\" fill=\"#ffffff\" fill-rule=\"evenodd\" fill-opacity=\"1\"/>\n",
       "<polyline clip-path=\"url(#clip280)\" style=\"stroke:#000000; stroke-linecap:round; stroke-linejoin:round; stroke-width:4; stroke-opacity:1; fill:none\" points=\"221.547,198.898 494.447,198.898 494.447,95.2176 221.547,95.2176 221.547,198.898 \"/>\n",
       "<polyline clip-path=\"url(#clip280)\" style=\"stroke:#009af9; stroke-linecap:round; stroke-linejoin:round; stroke-width:4; stroke-opacity:1; fill:none\" points=\"246.043,147.058 393.023,147.058 \"/>\n",
       "<path clip-path=\"url(#clip280)\" d=\"M431.362 166.745 Q429.557 171.375 427.844 172.787 Q426.131 174.199 423.261 174.199 L419.858 174.199 L419.858 170.634 L422.358 170.634 Q424.117 170.634 425.089 169.8 Q426.061 168.967 427.242 165.865 L428.006 163.921 L417.52 138.412 L422.034 138.412 L430.136 158.689 L438.237 138.412 L442.751 138.412 L431.362 166.745 Z\" fill=\"#000000\" fill-rule=\"nonzero\" fill-opacity=\"1\" /><path clip-path=\"url(#clip280)\" d=\"M450.043 160.402 L457.682 160.402 L457.682 134.037 L449.372 135.703 L449.372 131.444 L457.635 129.778 L462.311 129.778 L462.311 160.402 L469.95 160.402 L469.95 164.338 L450.043 164.338 L450.043 160.402 Z\" fill=\"#000000\" fill-rule=\"nonzero\" fill-opacity=\"1\" /></svg>\n"
      ],
      "text/html": [
       "<?xml version=\"1.0\" encoding=\"utf-8\"?>\n",
       "<svg xmlns=\"http://www.w3.org/2000/svg\" xmlns:xlink=\"http://www.w3.org/1999/xlink\" width=\"600\" height=\"400\" viewBox=\"0 0 2400 1600\">\n",
       "<defs>\n",
       "  <clipPath id=\"clip330\">\n",
       "    <rect x=\"0\" y=\"0\" width=\"2400\" height=\"1600\"/>\n",
       "  </clipPath>\n",
       "</defs>\n",
       "<path clip-path=\"url(#clip330)\" d=\"M0 1600 L2400 1600 L2400 0 L0 0  Z\" fill=\"#ffffff\" fill-rule=\"evenodd\" fill-opacity=\"1\"/>\n",
       "<defs>\n",
       "  <clipPath id=\"clip331\">\n",
       "    <rect x=\"480\" y=\"0\" width=\"1681\" height=\"1600\"/>\n",
       "  </clipPath>\n",
       "</defs>\n",
       "<path clip-path=\"url(#clip330)\" d=\"M148.057 1486.45 L2352.76 1486.45 L2352.76 47.2441 L148.057 47.2441  Z\" fill=\"#ffffff\" fill-rule=\"evenodd\" fill-opacity=\"1\"/>\n",
       "<defs>\n",
       "  <clipPath id=\"clip332\">\n",
       "    <rect x=\"148\" y=\"47\" width=\"2206\" height=\"1440\"/>\n",
       "  </clipPath>\n",
       "</defs>\n",
       "<polyline clip-path=\"url(#clip332)\" style=\"stroke:#000000; stroke-linecap:round; stroke-linejoin:round; stroke-width:2; stroke-opacity:0.1; fill:none\" points=\"210.454,1486.45 210.454,47.2441 \"/>\n",
       "<polyline clip-path=\"url(#clip332)\" style=\"stroke:#000000; stroke-linecap:round; stroke-linejoin:round; stroke-width:2; stroke-opacity:0.1; fill:none\" points=\"557.105,1486.45 557.105,47.2441 \"/>\n",
       "<polyline clip-path=\"url(#clip332)\" style=\"stroke:#000000; stroke-linecap:round; stroke-linejoin:round; stroke-width:2; stroke-opacity:0.1; fill:none\" points=\"903.755,1486.45 903.755,47.2441 \"/>\n",
       "<polyline clip-path=\"url(#clip332)\" style=\"stroke:#000000; stroke-linecap:round; stroke-linejoin:round; stroke-width:2; stroke-opacity:0.1; fill:none\" points=\"1250.41,1486.45 1250.41,47.2441 \"/>\n",
       "<polyline clip-path=\"url(#clip332)\" style=\"stroke:#000000; stroke-linecap:round; stroke-linejoin:round; stroke-width:2; stroke-opacity:0.1; fill:none\" points=\"1597.06,1486.45 1597.06,47.2441 \"/>\n",
       "<polyline clip-path=\"url(#clip332)\" style=\"stroke:#000000; stroke-linecap:round; stroke-linejoin:round; stroke-width:2; stroke-opacity:0.1; fill:none\" points=\"1943.71,1486.45 1943.71,47.2441 \"/>\n",
       "<polyline clip-path=\"url(#clip332)\" style=\"stroke:#000000; stroke-linecap:round; stroke-linejoin:round; stroke-width:2; stroke-opacity:0.1; fill:none\" points=\"2290.36,1486.45 2290.36,47.2441 \"/>\n",
       "<polyline clip-path=\"url(#clip330)\" style=\"stroke:#000000; stroke-linecap:round; stroke-linejoin:round; stroke-width:4; stroke-opacity:1; fill:none\" points=\"148.057,1486.45 2352.76,1486.45 \"/>\n",
       "<polyline clip-path=\"url(#clip330)\" style=\"stroke:#000000; stroke-linecap:round; stroke-linejoin:round; stroke-width:4; stroke-opacity:1; fill:none\" points=\"210.454,1486.45 210.454,1467.55 \"/>\n",
       "<polyline clip-path=\"url(#clip330)\" style=\"stroke:#000000; stroke-linecap:round; stroke-linejoin:round; stroke-width:4; stroke-opacity:1; fill:none\" points=\"557.105,1486.45 557.105,1467.55 \"/>\n",
       "<polyline clip-path=\"url(#clip330)\" style=\"stroke:#000000; stroke-linecap:round; stroke-linejoin:round; stroke-width:4; stroke-opacity:1; fill:none\" points=\"903.755,1486.45 903.755,1467.55 \"/>\n",
       "<polyline clip-path=\"url(#clip330)\" style=\"stroke:#000000; stroke-linecap:round; stroke-linejoin:round; stroke-width:4; stroke-opacity:1; fill:none\" points=\"1250.41,1486.45 1250.41,1467.55 \"/>\n",
       "<polyline clip-path=\"url(#clip330)\" style=\"stroke:#000000; stroke-linecap:round; stroke-linejoin:round; stroke-width:4; stroke-opacity:1; fill:none\" points=\"1597.06,1486.45 1597.06,1467.55 \"/>\n",
       "<polyline clip-path=\"url(#clip330)\" style=\"stroke:#000000; stroke-linecap:round; stroke-linejoin:round; stroke-width:4; stroke-opacity:1; fill:none\" points=\"1943.71,1486.45 1943.71,1467.55 \"/>\n",
       "<polyline clip-path=\"url(#clip330)\" style=\"stroke:#000000; stroke-linecap:round; stroke-linejoin:round; stroke-width:4; stroke-opacity:1; fill:none\" points=\"2290.36,1486.45 2290.36,1467.55 \"/>\n",
       "<path clip-path=\"url(#clip330)\" d=\"M179.922 1532.02 L209.597 1532.02 L209.597 1535.95 L179.922 1535.95 L179.922 1532.02 Z\" fill=\"#000000\" fill-rule=\"nonzero\" fill-opacity=\"1\" /><path clip-path=\"url(#clip330)\" d=\"M233.856 1530.21 Q237.213 1530.93 239.088 1533.2 Q240.986 1535.47 240.986 1538.8 Q240.986 1543.92 237.468 1546.72 Q233.949 1549.52 227.468 1549.52 Q225.292 1549.52 222.977 1549.08 Q220.685 1548.66 218.231 1547.81 L218.231 1543.29 Q220.176 1544.43 222.491 1545.01 Q224.806 1545.58 227.329 1545.58 Q231.727 1545.58 234.018 1543.85 Q236.333 1542.11 236.333 1538.8 Q236.333 1535.75 234.18 1534.03 Q232.051 1532.3 228.231 1532.3 L224.204 1532.3 L224.204 1528.45 L228.417 1528.45 Q231.866 1528.45 233.694 1527.09 Q235.523 1525.7 235.523 1523.11 Q235.523 1520.45 233.625 1519.03 Q231.75 1517.6 228.231 1517.6 Q226.31 1517.6 224.111 1518.01 Q221.912 1518.43 219.273 1519.31 L219.273 1515.14 Q221.935 1514.4 224.25 1514.03 Q226.588 1513.66 228.648 1513.66 Q233.972 1513.66 237.074 1516.09 Q240.176 1518.5 240.176 1522.62 Q240.176 1525.49 238.532 1527.48 Q236.889 1529.45 233.856 1530.21 Z\" fill=\"#000000\" fill-rule=\"nonzero\" fill-opacity=\"1\" /><path clip-path=\"url(#clip330)\" d=\"M527.047 1532.02 L556.723 1532.02 L556.723 1535.95 L527.047 1535.95 L527.047 1532.02 Z\" fill=\"#000000\" fill-rule=\"nonzero\" fill-opacity=\"1\" /><path clip-path=\"url(#clip330)\" d=\"M570.843 1544.91 L587.162 1544.91 L587.162 1548.85 L565.218 1548.85 L565.218 1544.91 Q567.88 1542.16 572.463 1537.53 Q577.07 1532.88 578.25 1531.53 Q580.496 1529.01 581.375 1527.27 Q582.278 1525.51 582.278 1523.82 Q582.278 1521.07 580.334 1519.33 Q578.412 1517.6 575.311 1517.6 Q573.111 1517.6 570.658 1518.36 Q568.227 1519.13 565.449 1520.68 L565.449 1515.95 Q568.274 1514.82 570.727 1514.24 Q573.181 1513.66 575.218 1513.66 Q580.588 1513.66 583.783 1516.35 Q586.977 1519.03 586.977 1523.52 Q586.977 1525.65 586.167 1527.57 Q585.38 1529.47 583.273 1532.07 Q582.695 1532.74 579.593 1535.95 Q576.491 1539.15 570.843 1544.91 Z\" fill=\"#000000\" fill-rule=\"nonzero\" fill-opacity=\"1\" /><path clip-path=\"url(#clip330)\" d=\"M873.513 1532.02 L903.188 1532.02 L903.188 1535.95 L873.513 1535.95 L873.513 1532.02 Z\" fill=\"#000000\" fill-rule=\"nonzero\" fill-opacity=\"1\" /><path clip-path=\"url(#clip330)\" d=\"M914.091 1544.91 L921.73 1544.91 L921.73 1518.55 L913.42 1520.21 L913.42 1515.95 L921.684 1514.29 L926.359 1514.29 L926.359 1544.91 L933.998 1544.91 L933.998 1548.85 L914.091 1548.85 L914.091 1544.91 Z\" fill=\"#000000\" fill-rule=\"nonzero\" fill-opacity=\"1\" /><path clip-path=\"url(#clip330)\" d=\"M1250.41 1517.37 Q1246.8 1517.37 1244.97 1520.93 Q1243.16 1524.47 1243.16 1531.6 Q1243.16 1538.71 1244.97 1542.27 Q1246.8 1545.82 1250.41 1545.82 Q1254.04 1545.82 1255.85 1542.27 Q1257.67 1538.71 1257.67 1531.6 Q1257.67 1524.47 1255.85 1520.93 Q1254.04 1517.37 1250.41 1517.37 M1250.41 1513.66 Q1256.22 1513.66 1259.27 1518.27 Q1262.35 1522.85 1262.35 1531.6 Q1262.35 1540.33 1259.27 1544.94 Q1256.22 1549.52 1250.41 1549.52 Q1244.6 1549.52 1241.52 1544.94 Q1238.46 1540.33 1238.46 1531.6 Q1238.46 1522.85 1241.52 1518.27 Q1244.6 1513.66 1250.41 1513.66 Z\" fill=\"#000000\" fill-rule=\"nonzero\" fill-opacity=\"1\" /><path clip-path=\"url(#clip330)\" d=\"M1587.44 1544.91 L1595.08 1544.91 L1595.08 1518.55 L1586.77 1520.21 L1586.77 1515.95 L1595.03 1514.29 L1599.71 1514.29 L1599.71 1544.91 L1607.35 1544.91 L1607.35 1548.85 L1587.44 1548.85 L1587.44 1544.91 Z\" fill=\"#000000\" fill-rule=\"nonzero\" fill-opacity=\"1\" /><path clip-path=\"url(#clip330)\" d=\"M1938.36 1544.91 L1954.68 1544.91 L1954.68 1548.85 L1932.74 1548.85 L1932.74 1544.91 Q1935.4 1542.16 1939.98 1537.53 Q1944.59 1532.88 1945.77 1531.53 Q1948.01 1529.01 1948.89 1527.27 Q1949.8 1525.51 1949.8 1523.82 Q1949.8 1521.07 1947.85 1519.33 Q1945.93 1517.6 1942.83 1517.6 Q1940.63 1517.6 1938.18 1518.36 Q1935.75 1519.13 1932.97 1520.68 L1932.97 1515.95 Q1935.79 1514.82 1938.24 1514.24 Q1940.7 1513.66 1942.74 1513.66 Q1948.11 1513.66 1951.3 1516.35 Q1954.49 1519.03 1954.49 1523.52 Q1954.49 1525.65 1953.68 1527.57 Q1952.9 1529.47 1950.79 1532.07 Q1950.21 1532.74 1947.11 1535.95 Q1944.01 1539.15 1938.36 1544.91 Z\" fill=\"#000000\" fill-rule=\"nonzero\" fill-opacity=\"1\" /><path clip-path=\"url(#clip330)\" d=\"M2294.61 1530.21 Q2297.96 1530.93 2299.84 1533.2 Q2301.74 1535.47 2301.74 1538.8 Q2301.74 1543.92 2298.22 1546.72 Q2294.7 1549.52 2288.22 1549.52 Q2286.04 1549.52 2283.73 1549.08 Q2281.44 1548.66 2278.98 1547.81 L2278.98 1543.29 Q2280.93 1544.43 2283.24 1545.01 Q2285.56 1545.58 2288.08 1545.58 Q2292.48 1545.58 2294.77 1543.85 Q2297.08 1542.11 2297.08 1538.8 Q2297.08 1535.75 2294.93 1534.03 Q2292.8 1532.3 2288.98 1532.3 L2284.95 1532.3 L2284.95 1528.45 L2289.17 1528.45 Q2292.62 1528.45 2294.44 1527.09 Q2296.27 1525.7 2296.27 1523.11 Q2296.27 1520.45 2294.37 1519.03 Q2292.5 1517.6 2288.98 1517.6 Q2287.06 1517.6 2284.86 1518.01 Q2282.66 1518.43 2280.02 1519.31 L2280.02 1515.14 Q2282.69 1514.4 2285 1514.03 Q2287.34 1513.66 2289.4 1513.66 Q2294.72 1513.66 2297.82 1516.09 Q2300.93 1518.5 2300.93 1522.62 Q2300.93 1525.49 2299.28 1527.48 Q2297.64 1529.45 2294.61 1530.21 Z\" fill=\"#000000\" fill-rule=\"nonzero\" fill-opacity=\"1\" /><polyline clip-path=\"url(#clip332)\" style=\"stroke:#000000; stroke-linecap:round; stroke-linejoin:round; stroke-width:2; stroke-opacity:0.1; fill:none\" points=\"148.057,1445.72 2352.76,1445.72 \"/>\n",
       "<polyline clip-path=\"url(#clip332)\" style=\"stroke:#000000; stroke-linecap:round; stroke-linejoin:round; stroke-width:2; stroke-opacity:0.1; fill:none\" points=\"148.057,1219.43 2352.76,1219.43 \"/>\n",
       "<polyline clip-path=\"url(#clip332)\" style=\"stroke:#000000; stroke-linecap:round; stroke-linejoin:round; stroke-width:2; stroke-opacity:0.1; fill:none\" points=\"148.057,993.136 2352.76,993.136 \"/>\n",
       "<polyline clip-path=\"url(#clip332)\" style=\"stroke:#000000; stroke-linecap:round; stroke-linejoin:round; stroke-width:2; stroke-opacity:0.1; fill:none\" points=\"148.057,766.846 2352.76,766.846 \"/>\n",
       "<polyline clip-path=\"url(#clip332)\" style=\"stroke:#000000; stroke-linecap:round; stroke-linejoin:round; stroke-width:2; stroke-opacity:0.1; fill:none\" points=\"148.057,540.556 2352.76,540.556 \"/>\n",
       "<polyline clip-path=\"url(#clip332)\" style=\"stroke:#000000; stroke-linecap:round; stroke-linejoin:round; stroke-width:2; stroke-opacity:0.1; fill:none\" points=\"148.057,314.266 2352.76,314.266 \"/>\n",
       "<polyline clip-path=\"url(#clip332)\" style=\"stroke:#000000; stroke-linecap:round; stroke-linejoin:round; stroke-width:2; stroke-opacity:0.1; fill:none\" points=\"148.057,87.9763 2352.76,87.9763 \"/>\n",
       "<polyline clip-path=\"url(#clip330)\" style=\"stroke:#000000; stroke-linecap:round; stroke-linejoin:round; stroke-width:4; stroke-opacity:1; fill:none\" points=\"148.057,1486.45 148.057,47.2441 \"/>\n",
       "<polyline clip-path=\"url(#clip330)\" style=\"stroke:#000000; stroke-linecap:round; stroke-linejoin:round; stroke-width:4; stroke-opacity:1; fill:none\" points=\"148.057,1445.72 166.954,1445.72 \"/>\n",
       "<polyline clip-path=\"url(#clip330)\" style=\"stroke:#000000; stroke-linecap:round; stroke-linejoin:round; stroke-width:4; stroke-opacity:1; fill:none\" points=\"148.057,1219.43 166.954,1219.43 \"/>\n",
       "<polyline clip-path=\"url(#clip330)\" style=\"stroke:#000000; stroke-linecap:round; stroke-linejoin:round; stroke-width:4; stroke-opacity:1; fill:none\" points=\"148.057,993.136 166.954,993.136 \"/>\n",
       "<polyline clip-path=\"url(#clip330)\" style=\"stroke:#000000; stroke-linecap:round; stroke-linejoin:round; stroke-width:4; stroke-opacity:1; fill:none\" points=\"148.057,766.846 166.954,766.846 \"/>\n",
       "<polyline clip-path=\"url(#clip330)\" style=\"stroke:#000000; stroke-linecap:round; stroke-linejoin:round; stroke-width:4; stroke-opacity:1; fill:none\" points=\"148.057,540.556 166.954,540.556 \"/>\n",
       "<polyline clip-path=\"url(#clip330)\" style=\"stroke:#000000; stroke-linecap:round; stroke-linejoin:round; stroke-width:4; stroke-opacity:1; fill:none\" points=\"148.057,314.266 166.954,314.266 \"/>\n",
       "<polyline clip-path=\"url(#clip330)\" style=\"stroke:#000000; stroke-linecap:round; stroke-linejoin:round; stroke-width:4; stroke-opacity:1; fill:none\" points=\"148.057,87.9763 166.954,87.9763 \"/>\n",
       "<path clip-path=\"url(#clip330)\" d=\"M50.9921 1446.17 L80.6679 1446.17 L80.6679 1450.1 L50.9921 1450.1 L50.9921 1446.17 Z\" fill=\"#000000\" fill-rule=\"nonzero\" fill-opacity=\"1\" /><path clip-path=\"url(#clip330)\" d=\"M104.927 1444.36 Q108.283 1445.08 110.158 1447.35 Q112.057 1449.62 112.057 1452.95 Q112.057 1458.07 108.538 1460.87 Q105.02 1463.67 98.5382 1463.67 Q96.3623 1463.67 94.0475 1463.23 Q91.7558 1462.81 89.3021 1461.95 L89.3021 1457.44 Q91.2465 1458.57 93.5613 1459.15 Q95.8761 1459.73 98.3993 1459.73 Q102.797 1459.73 105.089 1458 Q107.404 1456.26 107.404 1452.95 Q107.404 1449.89 105.251 1448.18 Q103.121 1446.44 99.3021 1446.44 L95.2743 1446.44 L95.2743 1442.6 L99.4872 1442.6 Q102.936 1442.6 104.765 1441.24 Q106.594 1439.85 106.594 1437.26 Q106.594 1434.59 104.696 1433.18 Q102.821 1431.75 99.3021 1431.75 Q97.3808 1431.75 95.1817 1432.16 Q92.9826 1432.58 90.3438 1433.46 L90.3438 1429.29 Q93.0058 1428.55 95.3206 1428.18 Q97.6585 1427.81 99.7187 1427.81 Q105.043 1427.81 108.145 1430.24 Q111.246 1432.65 111.246 1436.77 Q111.246 1439.64 109.603 1441.63 Q107.959 1443.6 104.927 1444.36 Z\" fill=\"#000000\" fill-rule=\"nonzero\" fill-opacity=\"1\" /><path clip-path=\"url(#clip330)\" d=\"M51.9412 1219.88 L81.617 1219.88 L81.617 1223.81 L51.9412 1223.81 L51.9412 1219.88 Z\" fill=\"#000000\" fill-rule=\"nonzero\" fill-opacity=\"1\" /><path clip-path=\"url(#clip330)\" d=\"M95.7373 1232.77 L112.057 1232.77 L112.057 1236.71 L90.1123 1236.71 L90.1123 1232.77 Q92.7743 1230.02 97.3576 1225.39 Q101.964 1220.73 103.145 1219.39 Q105.39 1216.87 106.27 1215.13 Q107.172 1213.37 107.172 1211.68 Q107.172 1208.93 105.228 1207.19 Q103.307 1205.46 100.205 1205.46 Q98.0058 1205.46 95.5521 1206.22 Q93.1215 1206.98 90.3438 1208.53 L90.3438 1203.81 Q93.1678 1202.68 95.6215 1202.1 Q98.0752 1201.52 100.112 1201.52 Q105.483 1201.52 108.677 1204.21 Q111.871 1206.89 111.871 1211.38 Q111.871 1213.51 111.061 1215.43 Q110.274 1217.33 108.168 1219.92 Q107.589 1220.59 104.487 1223.81 Q101.385 1227.01 95.7373 1232.77 Z\" fill=\"#000000\" fill-rule=\"nonzero\" fill-opacity=\"1\" /><path clip-path=\"url(#clip330)\" d=\"M51.5708 993.587 L81.2466 993.587 L81.2466 997.522 L51.5708 997.522 L51.5708 993.587 Z\" fill=\"#000000\" fill-rule=\"nonzero\" fill-opacity=\"1\" /><path clip-path=\"url(#clip330)\" d=\"M92.1493 1006.48 L99.7882 1006.48 L99.7882 980.115 L91.478 981.782 L91.478 977.523 L99.7419 975.856 L104.418 975.856 L104.418 1006.48 L112.057 1006.48 L112.057 1010.42 L92.1493 1010.42 L92.1493 1006.48 Z\" fill=\"#000000\" fill-rule=\"nonzero\" fill-opacity=\"1\" /><path clip-path=\"url(#clip330)\" d=\"M100.112 752.645 Q96.5011 752.645 94.6724 756.209 Q92.8669 759.751 92.8669 766.881 Q92.8669 773.987 94.6724 777.552 Q96.5011 781.094 100.112 781.094 Q103.746 781.094 105.552 777.552 Q107.381 773.987 107.381 766.881 Q107.381 759.751 105.552 756.209 Q103.746 752.645 100.112 752.645 M100.112 748.941 Q105.922 748.941 108.978 753.547 Q112.057 758.131 112.057 766.881 Q112.057 775.608 108.978 780.214 Q105.922 784.797 100.112 784.797 Q94.3021 784.797 91.2234 780.214 Q88.1679 775.608 88.1679 766.881 Q88.1679 758.131 91.2234 753.547 Q94.3021 748.941 100.112 748.941 Z\" fill=\"#000000\" fill-rule=\"nonzero\" fill-opacity=\"1\" /><path clip-path=\"url(#clip330)\" d=\"M92.1493 553.901 L99.7882 553.901 L99.7882 527.535 L91.478 529.202 L91.478 524.943 L99.7419 523.276 L104.418 523.276 L104.418 553.901 L112.057 553.901 L112.057 557.836 L92.1493 557.836 L92.1493 553.901 Z\" fill=\"#000000\" fill-rule=\"nonzero\" fill-opacity=\"1\" /><path clip-path=\"url(#clip330)\" d=\"M95.7373 327.611 L112.057 327.611 L112.057 331.546 L90.1123 331.546 L90.1123 327.611 Q92.7743 324.856 97.3576 320.227 Q101.964 315.574 103.145 314.231 Q105.39 311.708 106.27 309.972 Q107.172 308.213 107.172 306.523 Q107.172 303.769 105.228 302.032 Q103.307 300.296 100.205 300.296 Q98.0058 300.296 95.5521 301.06 Q93.1215 301.824 90.3438 303.375 L90.3438 298.653 Q93.1678 297.519 95.6215 296.94 Q98.0752 296.361 100.112 296.361 Q105.483 296.361 108.677 299.046 Q111.871 301.732 111.871 306.222 Q111.871 308.352 111.061 310.273 Q110.274 312.171 108.168 314.764 Q107.589 315.435 104.487 318.653 Q101.385 321.847 95.7373 327.611 Z\" fill=\"#000000\" fill-rule=\"nonzero\" fill-opacity=\"1\" /><path clip-path=\"url(#clip330)\" d=\"M104.927 86.6221 Q108.283 87.3397 110.158 89.6082 Q112.057 91.8767 112.057 95.21 Q112.057 100.326 108.538 103.127 Q105.02 105.928 98.5382 105.928 Q96.3623 105.928 94.0475 105.488 Q91.7558 105.071 89.3021 104.215 L89.3021 99.7008 Q91.2465 100.835 93.5613 101.414 Q95.8761 101.992 98.3993 101.992 Q102.797 101.992 105.089 100.256 Q107.404 98.5202 107.404 95.21 Q107.404 92.1545 105.251 90.4415 Q103.121 88.7054 99.3021 88.7054 L95.2743 88.7054 L95.2743 84.8629 L99.4872 84.8629 Q102.936 84.8629 104.765 83.4971 Q106.594 82.1083 106.594 79.5157 Q106.594 76.8537 104.696 75.4416 Q102.821 74.0064 99.3021 74.0064 Q97.3808 74.0064 95.1817 74.4231 Q92.9826 74.8398 90.3438 75.7194 L90.3438 71.5528 Q93.0058 70.812 95.3206 70.4416 Q97.6585 70.0713 99.7187 70.0713 Q105.043 70.0713 108.145 72.5018 Q111.246 74.9092 111.246 79.0296 Q111.246 81.8999 109.603 83.8907 Q107.959 85.8582 104.927 86.6221 Z\" fill=\"#000000\" fill-rule=\"nonzero\" fill-opacity=\"1\" /><polyline clip-path=\"url(#clip332)\" style=\"stroke:#009af9; stroke-linecap:round; stroke-linejoin:round; stroke-width:4; stroke-opacity:1; fill:none\" points=\"210.454,1445.72 245.119,1423.09 279.784,1400.46 314.449,1377.83 349.114,1355.2 383.779,1332.57 418.444,1309.94 453.109,1287.31 487.774,1264.68 522.44,1242.05 557.105,1219.43 591.77,1196.8 626.435,1174.17 661.1,1151.54 695.765,1128.91 730.43,1106.28 765.095,1083.65 799.76,1061.02 834.425,1038.39 869.09,1015.76 903.755,993.136 938.421,970.507 973.086,947.878 1007.75,925.249 1042.42,902.62 1077.08,879.991 1111.75,857.362 1146.41,834.733 1181.08,812.104 1215.74,789.475 1250.41,766.846 1285.07,744.217 1319.74,721.588 1354.4,698.959 1389.07,676.33 1423.73,653.701 1458.4,631.072 1493.06,608.443 1527.73,585.814 1562.39,563.185 1597.06,540.556 1631.72,517.927 1666.39,495.298 1701.05,472.669 1735.72,450.04 1770.38,427.411 1805.05,404.782 1839.71,382.153 1874.38,359.524 1909.04,336.895 1943.71,314.266 1978.37,291.637 2013.04,269.008 2047.7,246.379 2082.37,223.75 2117.03,201.121 2151.7,178.492 2186.36,155.863 2221.03,133.234 2255.69,110.605 2290.36,87.9763 \"/>\n",
       "<path clip-path=\"url(#clip330)\" d=\"M221.547 198.898 L494.447 198.898 L494.447 95.2176 L221.547 95.2176  Z\" fill=\"#ffffff\" fill-rule=\"evenodd\" fill-opacity=\"1\"/>\n",
       "<polyline clip-path=\"url(#clip330)\" style=\"stroke:#000000; stroke-linecap:round; stroke-linejoin:round; stroke-width:4; stroke-opacity:1; fill:none\" points=\"221.547,198.898 494.447,198.898 494.447,95.2176 221.547,95.2176 221.547,198.898 \"/>\n",
       "<polyline clip-path=\"url(#clip330)\" style=\"stroke:#009af9; stroke-linecap:round; stroke-linejoin:round; stroke-width:4; stroke-opacity:1; fill:none\" points=\"246.043,147.058 393.023,147.058 \"/>\n",
       "<path clip-path=\"url(#clip330)\" d=\"M431.362 166.745 Q429.557 171.375 427.844 172.787 Q426.131 174.199 423.261 174.199 L419.858 174.199 L419.858 170.634 L422.358 170.634 Q424.117 170.634 425.089 169.8 Q426.061 168.967 427.242 165.865 L428.006 163.921 L417.52 138.412 L422.034 138.412 L430.136 158.689 L438.237 138.412 L442.751 138.412 L431.362 166.745 Z\" fill=\"#000000\" fill-rule=\"nonzero\" fill-opacity=\"1\" /><path clip-path=\"url(#clip330)\" d=\"M450.043 160.402 L457.682 160.402 L457.682 134.037 L449.372 135.703 L449.372 131.444 L457.635 129.778 L462.311 129.778 L462.311 160.402 L469.95 160.402 L469.95 164.338 L450.043 164.338 L450.043 160.402 Z\" fill=\"#000000\" fill-rule=\"nonzero\" fill-opacity=\"1\" /></svg>\n"
      ]
     },
     "metadata": {},
     "output_type": "display_data"
    }
   ],
   "source": [
    "x = -3:0.1:3\n",
    "f(x) = x^2 \n",
    "\n",
    "y= f.(x);\n",
    "gr() #GR backend, grid background.\n",
    "plot(x,y,label = \"line\")\n",
    "scatter!(x,y, label=\"points\")\n",
    "plot(x,y,label = \"line\")\n",
    "scatter!(x,y, label=\"points\")\n",
    "xflip!()#flip the axises\n",
    "xlabel!(\"X\")\n",
    "ylabel!(\"Y\")\n",
    "title!(\"ABC\")\n",
    "p1 = plot(x, x)\n",
    "\n",
    "\n",
    "\n",
    "\n",
    "\n",
    "\n"
   ]
  },
  {
   "cell_type": "markdown",
   "metadata": {},
   "source": [
    "Multiple dispath: makes software fast, extensible, programmable, and fun to play with since Julia has many function of the same name.\n"
   ]
  },
  {
   "cell_type": "code",
   "execution_count": 136,
   "metadata": {},
   "outputs": [
    {
     "data": {
      "text/html": [
       "# 228 methods for generic function <b>+</b> from \u001b[90mBase\u001b[39m:<ul><li> +(x::<b>T</b>, y::<b>T</b>)<i> where T<:Union{Int128, Int16, Int32, Int64, Int8, UInt128, UInt16, UInt32, UInt64, UInt8}</i> in Base at <a href=\"https://github.com/JuliaLang/julia/tree/bed2cd540a11544ed4be381d471bbf590f0b745e/base/int.jl#L87\" target=\"_blank\">int.jl:87</a></li> <li> +(x::<b>T</b>, y::<b>T</b>)<i> where T<:Union{Float16, Float32, Float64}</i> in Base at <a href=\"https://github.com/JuliaLang/julia/tree/bed2cd540a11544ed4be381d471bbf590f0b745e/base/float.jl#L408\" target=\"_blank\">float.jl:408</a></li> <li> +(c::<b>Union{UInt16, UInt32, UInt8}</b>, x::<b>BigInt</b>) in Base.GMP at <a href=\"https://github.com/JuliaLang/julia/tree/bed2cd540a11544ed4be381d471bbf590f0b745e/base/gmp.jl#L539\" target=\"_blank\">gmp.jl:539</a></li> <li> +(c::<b>Union{Int16, Int32, Int8}</b>, x::<b>BigInt</b>) in Base.GMP at <a href=\"https://github.com/JuliaLang/julia/tree/bed2cd540a11544ed4be381d471bbf590f0b745e/base/gmp.jl#L545\" target=\"_blank\">gmp.jl:545</a></li> <li> +(c::<b>Union{UInt16, UInt32, UInt8}</b>, x::<b>BigFloat</b>) in Base.MPFR at <a href=\"https://github.com/JuliaLang/julia/tree/bed2cd540a11544ed4be381d471bbf590f0b745e/base/mpfr.jl#L407\" target=\"_blank\">mpfr.jl:407</a></li> <li> +(c::<b>Union{Int16, Int32, Int8}</b>, x::<b>BigFloat</b>) in Base.MPFR at <a href=\"https://github.com/JuliaLang/julia/tree/bed2cd540a11544ed4be381d471bbf590f0b745e/base/mpfr.jl#L415\" target=\"_blank\">mpfr.jl:415</a></li> <li> +(c::<b>Union{Float16, Float32, Float64}</b>, x::<b>BigFloat</b>) in Base.MPFR at <a href=\"https://github.com/JuliaLang/julia/tree/bed2cd540a11544ed4be381d471bbf590f0b745e/base/mpfr.jl#L423\" target=\"_blank\">mpfr.jl:423</a></li> <li> +(x::<b>Union{Dates.CompoundPeriod, Dates.Period}</b>) in Dates at <a href=\"file://C:/workdir/usr/share/julia/stdlib/v1.9/Dates/src/periods.jl\" target=\"_blank\">D:\\Programs\\Julia\\Julia-1.9.3\\share\\julia\\stdlib\\v1.9\\Dates\\src\\periods.jl:342</a></li> <li> +(a::<b>Union{LMS, XYZ}</b>, b::<b>Union{LMS, XYZ}</b>) in Colors at <a href=\"file://C:/Users/ADMIN/.julia/packages/Colors/mIuXl/src/algorithms.jl\" target=\"_blank\">C:\\Users\\ADMIN\\.julia\\packages\\Colors\\mIuXl\\src\\algorithms.jl:4</a></li> <li> +(J::<b>LinearAlgebra.UniformScaling</b>) in LinearAlgebra at <a href=\"file://C:/workdir/usr/share/julia/stdlib/v1.9/LinearAlgebra/src/uniformscaling.jl\" target=\"_blank\">D:\\Programs\\Julia\\Julia-1.9.3\\share\\julia\\stdlib\\v1.9\\LinearAlgebra\\src\\uniformscaling.jl:149</a></li> <li> +(J::<b>LinearAlgebra.UniformScaling</b>, x::<b>Number</b>) in LinearAlgebra at <a href=\"file://C:/workdir/usr/share/julia/stdlib/v1.9/LinearAlgebra/src/uniformscaling.jl\" target=\"_blank\">D:\\Programs\\Julia\\Julia-1.9.3\\share\\julia\\stdlib\\v1.9\\LinearAlgebra\\src\\uniformscaling.jl:144</a></li> <li> +(J1::<b>LinearAlgebra.UniformScaling</b>, J2::<b>LinearAlgebra.UniformScaling</b>) in LinearAlgebra at <a href=\"file://C:/workdir/usr/share/julia/stdlib/v1.9/LinearAlgebra/src/uniformscaling.jl\" target=\"_blank\">D:\\Programs\\Julia\\Julia-1.9.3\\share\\julia\\stdlib\\v1.9\\LinearAlgebra\\src\\uniformscaling.jl:150</a></li> <li> +(J::<b>LinearAlgebra.UniformScaling</b>, B::<b>BitMatrix</b>) in LinearAlgebra at <a href=\"file://C:/workdir/usr/share/julia/stdlib/v1.9/LinearAlgebra/src/uniformscaling.jl\" target=\"_blank\">D:\\Programs\\Julia\\Julia-1.9.3\\share\\julia\\stdlib\\v1.9\\LinearAlgebra\\src\\uniformscaling.jl:152</a></li> <li> +(x::<b>LinearAlgebra.UniformScaling</b>, H::<b>LinearAlgebra.UpperHessenberg</b>) in LinearAlgebra at <a href=\"file://C:/workdir/usr/share/julia/stdlib/v1.9/LinearAlgebra/src/hessenberg.jl\" target=\"_blank\">D:\\Programs\\Julia\\Julia-1.9.3\\share\\julia\\stdlib\\v1.9\\LinearAlgebra\\src\\hessenberg.jl:112</a></li> <li> +(J::<b>LinearAlgebra.UniformScaling</b>, F::<b>LinearAlgebra.Hessenberg</b>) in LinearAlgebra at <a href=\"file://C:/workdir/usr/share/julia/stdlib/v1.9/LinearAlgebra/src/hessenberg.jl\" target=\"_blank\">D:\\Programs\\Julia\\Julia-1.9.3\\share\\julia\\stdlib\\v1.9\\LinearAlgebra\\src\\hessenberg.jl:648</a></li> <li> +(A::<b>LinearAlgebra.UniformScaling</b>, B::<b>LinearAlgebra.Tridiagonal{var\"#s972\", V} where {var\"#s972\"<:Number, V<:AbstractVector{var\"#s972\"}}</b>) in LinearAlgebra at <a href=\"file://C:/workdir/usr/share/julia/stdlib/v1.9/LinearAlgebra/src/special.jl\" target=\"_blank\">D:\\Programs\\Julia\\Julia-1.9.3\\share\\julia\\stdlib\\v1.9\\LinearAlgebra\\src\\special.jl:250</a></li> <li> +(A::<b>LinearAlgebra.UniformScaling</b>, B::<b>LinearAlgebra.SymTridiagonal{var\"#s972\", V} where {var\"#s972\"<:Number, V<:AbstractVector{var\"#s972\"}}</b>) in LinearAlgebra at <a href=\"file://C:/workdir/usr/share/julia/stdlib/v1.9/LinearAlgebra/src/special.jl\" target=\"_blank\">D:\\Programs\\Julia\\Julia-1.9.3\\share\\julia\\stdlib\\v1.9\\LinearAlgebra\\src\\special.jl:255</a></li> <li> +(A::<b>LinearAlgebra.UniformScaling</b>, B::<b>LinearAlgebra.Bidiagonal{var\"#s972\", V} where {var\"#s972\"<:Number, V<:AbstractVector{var\"#s972\"}}</b>) in LinearAlgebra at <a href=\"file://C:/workdir/usr/share/julia/stdlib/v1.9/LinearAlgebra/src/special.jl\" target=\"_blank\">D:\\Programs\\Julia\\Julia-1.9.3\\share\\julia\\stdlib\\v1.9\\LinearAlgebra\\src\\special.jl:260</a></li> <li> +(A::<b>LinearAlgebra.UniformScaling</b>, B::<b>LinearAlgebra.Diagonal{var\"#s972\", V} where {var\"#s972\"<:Number, V<:AbstractVector{var\"#s972\"}}</b>) in LinearAlgebra at <a href=\"file://C:/workdir/usr/share/julia/stdlib/v1.9/LinearAlgebra/src/special.jl\" target=\"_blank\">D:\\Programs\\Julia\\Julia-1.9.3\\share\\julia\\stdlib\\v1.9\\LinearAlgebra\\src\\special.jl:265</a></li> <li> +(J::<b>LinearAlgebra.UniformScaling{T}</b>, A::<b>SparseArrays.AbstractSparseMatrixCSC{Tv, Ti}</b>)<i> where {T<:Number, Tv, Ti}</i> in SparseArrays at <a href=\"file://C:/workdir/usr/share/julia/stdlib/v1.9/SparseArrays/src/sparsematrix.jl\" target=\"_blank\">D:\\Programs\\Julia\\Julia-1.9.3\\share\\julia\\stdlib\\v1.9\\SparseArrays\\src\\sparsematrix.jl:4100</a></li> <li> +(J::<b>LinearAlgebra.UniformScaling</b>, A::<b>AbstractMatrix</b>) in LinearAlgebra at <a href=\"file://C:/workdir/usr/share/julia/stdlib/v1.9/LinearAlgebra/src/uniformscaling.jl\" target=\"_blank\">D:\\Programs\\Julia\\Julia-1.9.3\\share\\julia\\stdlib\\v1.9\\LinearAlgebra\\src\\uniformscaling.jl:153</a></li> <li> +(a::<b>TransparentGray</b>, b::<b>TransparentGray</b>) in ColorVectorSpace at <a href=\"file://C:/Users/ADMIN/.julia/packages/ColorVectorSpace/tLy1N/src/ColorVectorSpace.jl\" target=\"_blank\">C:\\Users\\ADMIN\\.julia\\packages\\ColorVectorSpace\\tLy1N\\src\\ColorVectorSpace.jl:312</a></li> <li> +(a::<b>TransparentColor{C, T, 4} where {C<:AbstractRGB, T}</b>, b::<b>TransparentColor{C, T, 4} where {C<:AbstractRGB, T}</b>) in ColorVectorSpace at <a href=\"file://C:/Users/ADMIN/.julia/packages/ColorVectorSpace/tLy1N/src/ColorVectorSpace.jl\" target=\"_blank\">C:\\Users\\ADMIN\\.julia\\packages\\ColorVectorSpace\\tLy1N\\src\\ColorVectorSpace.jl:274</a></li> <li> +(c::<b>Union{TransparentColor{C, Bool}, C} where C<:Union{AbstractRGB{Bool}, AbstractGray{Bool}}</b>) in ColorVectorSpace at <a href=\"file://C:/Users/ADMIN/.julia/packages/ColorVectorSpace/tLy1N/src/ColorVectorSpace.jl\" target=\"_blank\">C:\\Users\\ADMIN\\.julia\\packages\\ColorVectorSpace\\tLy1N\\src\\ColorVectorSpace.jl:250</a></li> <li> +(a::<b>AbstractRGB</b>, b::<b>AbstractRGB</b>) in ColorVectorSpace at <a href=\"file://C:/Users/ADMIN/.julia/packages/ColorVectorSpace/tLy1N/src/ColorVectorSpace.jl\" target=\"_blank\">C:\\Users\\ADMIN\\.julia\\packages\\ColorVectorSpace\\tLy1N\\src\\ColorVectorSpace.jl:272</a></li> <li> +(A::<b>LinearAlgebra.UpperTriangular</b>, B::<b>LinearAlgebra.UpperTriangular</b>) in LinearAlgebra at <a href=\"file://C:/workdir/usr/share/julia/stdlib/v1.9/LinearAlgebra/src/triangular.jl\" target=\"_blank\">D:\\Programs\\Julia\\Julia-1.9.3\\share\\julia\\stdlib\\v1.9\\LinearAlgebra\\src\\triangular.jl:642</a></li> <li> +(A::<b>LinearAlgebra.UpperTriangular</b>, B::<b>LinearAlgebra.UnitUpperTriangular</b>) in LinearAlgebra at <a href=\"file://C:/workdir/usr/share/julia/stdlib/v1.9/LinearAlgebra/src/triangular.jl\" target=\"_blank\">D:\\Programs\\Julia\\Julia-1.9.3\\share\\julia\\stdlib\\v1.9\\LinearAlgebra\\src\\triangular.jl:644</a></li> <li> +(x::<b>LinearAlgebra.UpperTriangular</b>, H::<b>LinearAlgebra.UpperHessenberg</b>) in LinearAlgebra at <a href=\"file://C:/workdir/usr/share/julia/stdlib/v1.9/LinearAlgebra/src/hessenberg.jl\" target=\"_blank\">D:\\Programs\\Julia\\Julia-1.9.3\\share\\julia\\stdlib\\v1.9\\LinearAlgebra\\src\\hessenberg.jl:112</a></li> <li> +(A::<b>LinearAlgebra.UpperTriangular</b>, B::<b>LinearAlgebra.Bidiagonal</b>) in LinearAlgebra at <a href=\"file://C:/workdir/usr/share/julia/stdlib/v1.9/LinearAlgebra/src/special.jl\" target=\"_blank\">D:\\Programs\\Julia\\Julia-1.9.3\\share\\julia\\stdlib\\v1.9\\LinearAlgebra\\src\\special.jl:91</a></li> <li> +(A::<b>LinearAlgebra.LowerTriangular</b>, B::<b>LinearAlgebra.LowerTriangular</b>) in LinearAlgebra at <a href=\"file://C:/workdir/usr/share/julia/stdlib/v1.9/LinearAlgebra/src/triangular.jl\" target=\"_blank\">D:\\Programs\\Julia\\Julia-1.9.3\\share\\julia\\stdlib\\v1.9\\LinearAlgebra\\src\\triangular.jl:643</a></li> <li> +(A::<b>LinearAlgebra.LowerTriangular</b>, B::<b>LinearAlgebra.UnitLowerTriangular</b>) in LinearAlgebra at <a href=\"file://C:/workdir/usr/share/julia/stdlib/v1.9/LinearAlgebra/src/triangular.jl\" target=\"_blank\">D:\\Programs\\Julia\\Julia-1.9.3\\share\\julia\\stdlib\\v1.9\\LinearAlgebra\\src\\triangular.jl:645</a></li> <li> +(A::<b>LinearAlgebra.LowerTriangular</b>, B::<b>LinearAlgebra.Bidiagonal</b>) in LinearAlgebra at <a href=\"file://C:/workdir/usr/share/julia/stdlib/v1.9/LinearAlgebra/src/special.jl\" target=\"_blank\">D:\\Programs\\Julia\\Julia-1.9.3\\share\\julia\\stdlib\\v1.9\\LinearAlgebra\\src\\special.jl:91</a></li> <li> +(x::<b>Rational</b>, y::<b>Integer</b>) in Base at <a href=\"https://github.com/JuliaLang/julia/tree/bed2cd540a11544ed4be381d471bbf590f0b745e/base/rational.jl#L327\" target=\"_blank\">rational.jl:327</a></li> <li> +(F::<b>LinearAlgebra.Hessenberg</b>, J::<b>LinearAlgebra.UniformScaling</b>) in LinearAlgebra at <a href=\"file://C:/workdir/usr/share/julia/stdlib/v1.9/LinearAlgebra/src/hessenberg.jl\" target=\"_blank\">D:\\Programs\\Julia\\Julia-1.9.3\\share\\julia\\stdlib\\v1.9\\LinearAlgebra\\src\\hessenberg.jl:647</a></li> <li> +(A::<b>LinearAlgebra.UnitLowerTriangular</b>, B::<b>LinearAlgebra.LowerTriangular</b>) in LinearAlgebra at <a href=\"file://C:/workdir/usr/share/julia/stdlib/v1.9/LinearAlgebra/src/triangular.jl\" target=\"_blank\">D:\\Programs\\Julia\\Julia-1.9.3\\share\\julia\\stdlib\\v1.9\\LinearAlgebra\\src\\triangular.jl:647</a></li> <li> +(A::<b>LinearAlgebra.UnitLowerTriangular</b>, B::<b>LinearAlgebra.UnitLowerTriangular</b>) in LinearAlgebra at <a href=\"file://C:/workdir/usr/share/julia/stdlib/v1.9/LinearAlgebra/src/triangular.jl\" target=\"_blank\">D:\\Programs\\Julia\\Julia-1.9.3\\share\\julia\\stdlib\\v1.9\\LinearAlgebra\\src\\triangular.jl:649</a></li> <li> +(UL::<b>LinearAlgebra.UnitLowerTriangular</b>, J::<b>LinearAlgebra.UniformScaling</b>) in LinearAlgebra at <a href=\"file://C:/workdir/usr/share/julia/stdlib/v1.9/LinearAlgebra/src/uniformscaling.jl\" target=\"_blank\">D:\\Programs\\Julia\\Julia-1.9.3\\share\\julia\\stdlib\\v1.9\\LinearAlgebra\\src\\uniformscaling.jl:181</a></li> <li> +(A::<b>LinearAlgebra.UnitLowerTriangular</b>, B::<b>LinearAlgebra.Bidiagonal</b>) in LinearAlgebra at <a href=\"file://C:/workdir/usr/share/julia/stdlib/v1.9/LinearAlgebra/src/special.jl\" target=\"_blank\">D:\\Programs\\Julia\\Julia-1.9.3\\share\\julia\\stdlib\\v1.9\\LinearAlgebra\\src\\special.jl:91</a></li> <li> +(A::<b>LinearAlgebra.Bidiagonal</b>, B::<b>LinearAlgebra.Bidiagonal</b>) in LinearAlgebra at <a href=\"file://C:/workdir/usr/share/julia/stdlib/v1.9/LinearAlgebra/src/bidiag.jl\" target=\"_blank\">D:\\Programs\\Julia\\Julia-1.9.3\\share\\julia\\stdlib\\v1.9\\LinearAlgebra\\src\\bidiag.jl:374</a></li> <li> +(x::<b>LinearAlgebra.Bidiagonal</b>, H::<b>LinearAlgebra.UpperHessenberg</b>) in LinearAlgebra at <a href=\"file://C:/workdir/usr/share/julia/stdlib/v1.9/LinearAlgebra/src/hessenberg.jl\" target=\"_blank\">D:\\Programs\\Julia\\Julia-1.9.3\\share\\julia\\stdlib\\v1.9\\LinearAlgebra\\src\\hessenberg.jl:112</a></li> <li> +(A::<b>LinearAlgebra.Bidiagonal</b>, B::<b>LinearAlgebra.UpperTriangular</b>) in LinearAlgebra at <a href=\"file://C:/workdir/usr/share/julia/stdlib/v1.9/LinearAlgebra/src/special.jl\" target=\"_blank\">D:\\Programs\\Julia\\Julia-1.9.3\\share\\julia\\stdlib\\v1.9\\LinearAlgebra\\src\\special.jl:99</a></li> <li> +(A::<b>LinearAlgebra.Bidiagonal</b>, B::<b>LinearAlgebra.UnitUpperTriangular</b>) in LinearAlgebra at <a href=\"file://C:/workdir/usr/share/julia/stdlib/v1.9/LinearAlgebra/src/special.jl\" target=\"_blank\">D:\\Programs\\Julia\\Julia-1.9.3\\share\\julia\\stdlib\\v1.9\\LinearAlgebra\\src\\special.jl:99</a></li> <li> +(A::<b>LinearAlgebra.Bidiagonal</b>, B::<b>LinearAlgebra.LowerTriangular</b>) in LinearAlgebra at <a href=\"file://C:/workdir/usr/share/julia/stdlib/v1.9/LinearAlgebra/src/special.jl\" target=\"_blank\">D:\\Programs\\Julia\\Julia-1.9.3\\share\\julia\\stdlib\\v1.9\\LinearAlgebra\\src\\special.jl:99</a></li> <li> +(A::<b>LinearAlgebra.Bidiagonal</b>, B::<b>LinearAlgebra.UnitLowerTriangular</b>) in LinearAlgebra at <a href=\"file://C:/workdir/usr/share/julia/stdlib/v1.9/LinearAlgebra/src/special.jl\" target=\"_blank\">D:\\Programs\\Julia\\Julia-1.9.3\\share\\julia\\stdlib\\v1.9\\LinearAlgebra\\src\\special.jl:99</a></li> <li> +(A::<b>LinearAlgebra.Bidiagonal</b>, B::<b>LinearAlgebra.Diagonal</b>) in LinearAlgebra at <a href=\"file://C:/workdir/usr/share/julia/stdlib/v1.9/LinearAlgebra/src/special.jl\" target=\"_blank\">D:\\Programs\\Julia\\Julia-1.9.3\\share\\julia\\stdlib\\v1.9\\LinearAlgebra\\src\\special.jl:120</a></li> <li> +(A::<b>LinearAlgebra.Bidiagonal</b>, B::<b>LinearAlgebra.Tridiagonal</b>) in LinearAlgebra at <a href=\"file://C:/workdir/usr/share/julia/stdlib/v1.9/LinearAlgebra/src/special.jl\" target=\"_blank\">D:\\Programs\\Julia\\Julia-1.9.3\\share\\julia\\stdlib\\v1.9\\LinearAlgebra\\src\\special.jl:188</a></li> <li> +(A::<b>LinearAlgebra.Bidiagonal</b>, B::<b>LinearAlgebra.SymTridiagonal</b>) in LinearAlgebra at <a href=\"file://C:/workdir/usr/share/julia/stdlib/v1.9/LinearAlgebra/src/special.jl\" target=\"_blank\">D:\\Programs\\Julia\\Julia-1.9.3\\share\\julia\\stdlib\\v1.9\\LinearAlgebra\\src\\special.jl:208</a></li> <li> +(A::<b>LinearAlgebra.Bidiagonal{var\"#s972\", V} where {var\"#s972\"<:Number, V<:AbstractVector{var\"#s972\"}}</b>, B::<b>LinearAlgebra.UniformScaling</b>) in LinearAlgebra at <a href=\"file://C:/workdir/usr/share/julia/stdlib/v1.9/LinearAlgebra/src/special.jl\" target=\"_blank\">D:\\Programs\\Julia\\Julia-1.9.3\\share\\julia\\stdlib\\v1.9\\LinearAlgebra\\src\\special.jl:241</a></li> <li> +(x::<b>X</b>, y::<b>X</b>)<i> where X<:FixedPointNumbers.FixedPoint</i> in FixedPointNumbers at <a href=\"file://C:/Users/ADMIN/.julia/packages/FixedPointNumbers/HAGk2/src/FixedPointNumbers.jl\" target=\"_blank\">C:\\Users\\ADMIN\\.julia\\packages\\FixedPointNumbers\\HAGk2\\src\\FixedPointNumbers.jl:237</a></li> <li> +(A::<b>SparseArrays.AbstractSparseMatrixCSC</b>, B::<b>SparseArrays.AbstractSparseMatrixCSC</b>) in SparseArrays at <a href=\"file://C:/workdir/usr/share/julia/stdlib/v1.9/SparseArrays/src/sparsematrix.jl\" target=\"_blank\">D:\\Programs\\Julia\\Julia-1.9.3\\share\\julia\\stdlib\\v1.9\\SparseArrays\\src\\sparsematrix.jl:2065</a></li> <li> +(A::<b>SparseArrays.AbstractSparseMatrixCSC</b>, B::<b>Array</b>) in SparseArrays at <a href=\"file://C:/workdir/usr/share/julia/stdlib/v1.9/SparseArrays/src/sparsematrix.jl\" target=\"_blank\">D:\\Programs\\Julia\\Julia-1.9.3\\share\\julia\\stdlib\\v1.9\\SparseArrays\\src\\sparsematrix.jl:2068</a></li> <li> +(A::<b>SparseArrays.AbstractSparseMatrixCSC{Tv, Ti}</b>, J::<b>LinearAlgebra.UniformScaling{T}</b>)<i> where {T<:Number, Tv, Ti}</i> in SparseArrays at <a href=\"file://C:/workdir/usr/share/julia/stdlib/v1.9/SparseArrays/src/sparsematrix.jl\" target=\"_blank\">D:\\Programs\\Julia\\Julia-1.9.3\\share\\julia\\stdlib\\v1.9\\SparseArrays\\src\\sparsematrix.jl:4098</a></li> <li> +(A::<b>LinearAlgebra.UpperHessenberg</b>, B::<b>LinearAlgebra.UpperHessenberg</b>) in LinearAlgebra at <a href=\"file://C:/workdir/usr/share/julia/stdlib/v1.9/LinearAlgebra/src/hessenberg.jl\" target=\"_blank\">D:\\Programs\\Julia\\Julia-1.9.3\\share\\julia\\stdlib\\v1.9\\LinearAlgebra\\src\\hessenberg.jl:104</a></li> <li> +(H::<b>LinearAlgebra.UpperHessenberg</b>, x::<b>LinearAlgebra.UniformScaling</b>) in LinearAlgebra at <a href=\"file://C:/workdir/usr/share/julia/stdlib/v1.9/LinearAlgebra/src/hessenberg.jl\" target=\"_blank\">D:\\Programs\\Julia\\Julia-1.9.3\\share\\julia\\stdlib\\v1.9\\LinearAlgebra\\src\\hessenberg.jl:111</a></li> <li> +(H::<b>LinearAlgebra.UpperHessenberg</b>, x::<b>LinearAlgebra.Diagonal</b>) in LinearAlgebra at <a href=\"file://C:/workdir/usr/share/julia/stdlib/v1.9/LinearAlgebra/src/hessenberg.jl\" target=\"_blank\">D:\\Programs\\Julia\\Julia-1.9.3\\share\\julia\\stdlib\\v1.9\\LinearAlgebra\\src\\hessenberg.jl:111</a></li> <li> +(H::<b>LinearAlgebra.UpperHessenberg</b>, x::<b>LinearAlgebra.Bidiagonal</b>) in LinearAlgebra at <a href=\"file://C:/workdir/usr/share/julia/stdlib/v1.9/LinearAlgebra/src/hessenberg.jl\" target=\"_blank\">D:\\Programs\\Julia\\Julia-1.9.3\\share\\julia\\stdlib\\v1.9\\LinearAlgebra\\src\\hessenberg.jl:111</a></li> <li> +(H::<b>LinearAlgebra.UpperHessenberg</b>, x::<b>LinearAlgebra.Tridiagonal</b>) in LinearAlgebra at <a href=\"file://C:/workdir/usr/share/julia/stdlib/v1.9/LinearAlgebra/src/hessenberg.jl\" target=\"_blank\">D:\\Programs\\Julia\\Julia-1.9.3\\share\\julia\\stdlib\\v1.9\\LinearAlgebra\\src\\hessenberg.jl:111</a></li> <li> +(H::<b>LinearAlgebra.UpperHessenberg</b>, x::<b>LinearAlgebra.SymTridiagonal</b>) in LinearAlgebra at <a href=\"file://C:/workdir/usr/share/julia/stdlib/v1.9/LinearAlgebra/src/hessenberg.jl\" target=\"_blank\">D:\\Programs\\Julia\\Julia-1.9.3\\share\\julia\\stdlib\\v1.9\\LinearAlgebra\\src\\hessenberg.jl:111</a></li> <li> +(H::<b>LinearAlgebra.UpperHessenberg</b>, x::<b>LinearAlgebra.UpperTriangular</b>) in LinearAlgebra at <a href=\"file://C:/workdir/usr/share/julia/stdlib/v1.9/LinearAlgebra/src/hessenberg.jl\" target=\"_blank\">D:\\Programs\\Julia\\Julia-1.9.3\\share\\julia\\stdlib\\v1.9\\LinearAlgebra\\src\\hessenberg.jl:111</a></li> <li> +(H::<b>LinearAlgebra.UpperHessenberg</b>, x::<b>LinearAlgebra.UnitUpperTriangular</b>) in LinearAlgebra at <a href=\"file://C:/workdir/usr/share/julia/stdlib/v1.9/LinearAlgebra/src/hessenberg.jl\" target=\"_blank\">D:\\Programs\\Julia\\Julia-1.9.3\\share\\julia\\stdlib\\v1.9\\LinearAlgebra\\src\\hessenberg.jl:111</a></li> <li> +(z::<b>Complex</b>, w::<b>Complex</b>) in Base at <a href=\"https://github.com/JuliaLang/julia/tree/bed2cd540a11544ed4be381d471bbf590f0b745e/base/complex.jl#L291\" target=\"_blank\">complex.jl:291</a></li> <li> +(a::<b>Measures.Length{U}</b>, b::<b>Measures.Length{U}</b>)<i> where U</i> in Measures at <a href=\"file://C:/Users/ADMIN/.julia/packages/Measures/PKOxJ/src/length.jl\" target=\"_blank\">C:\\Users\\ADMIN\\.julia\\packages\\Measures\\PKOxJ\\src\\length.jl:31</a></li> <li> +(Da::<b>LinearAlgebra.Diagonal</b>, Db::<b>LinearAlgebra.Diagonal</b>) in LinearAlgebra at <a href=\"file://C:/workdir/usr/share/julia/stdlib/v1.9/LinearAlgebra/src/diagonal.jl\" target=\"_blank\">D:\\Programs\\Julia\\Julia-1.9.3\\share\\julia\\stdlib\\v1.9\\LinearAlgebra\\src\\diagonal.jl:184</a></li> <li> +(D::<b>LinearAlgebra.Diagonal</b>, S::<b>LinearAlgebra.Symmetric</b>) in LinearAlgebra at <a href=\"file://C:/workdir/usr/share/julia/stdlib/v1.9/LinearAlgebra/src/diagonal.jl\" target=\"_blank\">D:\\Programs\\Julia\\Julia-1.9.3\\share\\julia\\stdlib\\v1.9\\LinearAlgebra\\src\\diagonal.jl:188</a></li> <li> +(D::<b>LinearAlgebra.Diagonal{var\"#s972\", V} where {var\"#s972\"<:Real, V<:AbstractVector{var\"#s972\"}}</b>, H::<b>LinearAlgebra.Hermitian</b>) in LinearAlgebra at <a href=\"file://C:/workdir/usr/share/julia/stdlib/v1.9/LinearAlgebra/src/diagonal.jl\" target=\"_blank\">D:\\Programs\\Julia\\Julia-1.9.3\\share\\julia\\stdlib\\v1.9\\LinearAlgebra\\src\\diagonal.jl:194</a></li> <li> +(x::<b>LinearAlgebra.Diagonal</b>, H::<b>LinearAlgebra.UpperHessenberg</b>) in LinearAlgebra at <a href=\"file://C:/workdir/usr/share/julia/stdlib/v1.9/LinearAlgebra/src/hessenberg.jl\" target=\"_blank\">D:\\Programs\\Julia\\Julia-1.9.3\\share\\julia\\stdlib\\v1.9\\LinearAlgebra\\src\\hessenberg.jl:112</a></li> <li> +(A::<b>LinearAlgebra.Diagonal</b>, B::<b>LinearAlgebra.Bidiagonal</b>) in LinearAlgebra at <a href=\"file://C:/workdir/usr/share/julia/stdlib/v1.9/LinearAlgebra/src/special.jl\" target=\"_blank\">D:\\Programs\\Julia\\Julia-1.9.3\\share\\julia\\stdlib\\v1.9\\LinearAlgebra\\src\\special.jl:130</a></li> <li> +(A::<b>LinearAlgebra.Diagonal</b>, B::<b>LinearAlgebra.SymTridiagonal</b>) in LinearAlgebra at <a href=\"file://C:/workdir/usr/share/julia/stdlib/v1.9/LinearAlgebra/src/special.jl\" target=\"_blank\">D:\\Programs\\Julia\\Julia-1.9.3\\share\\julia\\stdlib\\v1.9\\LinearAlgebra\\src\\special.jl:140</a></li> <li> +(A::<b>LinearAlgebra.Diagonal</b>, B::<b>LinearAlgebra.Tridiagonal</b>) in LinearAlgebra at <a href=\"file://C:/workdir/usr/share/julia/stdlib/v1.9/LinearAlgebra/src/special.jl\" target=\"_blank\">D:\\Programs\\Julia\\Julia-1.9.3\\share\\julia\\stdlib\\v1.9\\LinearAlgebra\\src\\special.jl:168</a></li> <li> +(A::<b>LinearAlgebra.Diagonal{var\"#s972\", V} where {var\"#s972\"<:Number, V<:AbstractVector{var\"#s972\"}}</b>, B::<b>LinearAlgebra.UniformScaling</b>) in LinearAlgebra at <a href=\"file://C:/workdir/usr/share/julia/stdlib/v1.9/LinearAlgebra/src/special.jl\" target=\"_blank\">D:\\Programs\\Julia\\Julia-1.9.3\\share\\julia\\stdlib\\v1.9\\LinearAlgebra\\src\\special.jl:246</a></li> <li> +(y::<b>Dates.TimeType</b>, x::<b>StridedArray{<:Union{Dates.CompoundPeriod, Dates.Period}}</b>) in Dates at <a href=\"file://C:/workdir/usr/share/julia/stdlib/v1.9/Dates/src/deprecated.jl\" target=\"_blank\">D:\\Programs\\Julia\\Julia-1.9.3\\share\\julia\\stdlib\\v1.9\\Dates\\src\\deprecated.jl:18</a></li> <li> +(A::<b>LinearAlgebra.UnitUpperTriangular</b>, B::<b>LinearAlgebra.UpperTriangular</b>) in LinearAlgebra at <a href=\"file://C:/workdir/usr/share/julia/stdlib/v1.9/LinearAlgebra/src/triangular.jl\" target=\"_blank\">D:\\Programs\\Julia\\Julia-1.9.3\\share\\julia\\stdlib\\v1.9\\LinearAlgebra\\src\\triangular.jl:646</a></li> <li> +(A::<b>LinearAlgebra.UnitUpperTriangular</b>, B::<b>LinearAlgebra.UnitUpperTriangular</b>) in LinearAlgebra at <a href=\"file://C:/workdir/usr/share/julia/stdlib/v1.9/LinearAlgebra/src/triangular.jl\" target=\"_blank\">D:\\Programs\\Julia\\Julia-1.9.3\\share\\julia\\stdlib\\v1.9\\LinearAlgebra\\src\\triangular.jl:648</a></li> <li> +(A::<b>LinearAlgebra.AbstractTriangular</b>, B::<b>LinearAlgebra.AbstractTriangular</b>) in LinearAlgebra at <a href=\"file://C:/workdir/usr/share/julia/stdlib/v1.9/LinearAlgebra/src/triangular.jl\" target=\"_blank\">D:\\Programs\\Julia\\Julia-1.9.3\\share\\julia\\stdlib\\v1.9\\LinearAlgebra\\src\\triangular.jl:650</a></li> <li> +(UL::<b>LinearAlgebra.UnitUpperTriangular</b>, J::<b>LinearAlgebra.UniformScaling</b>) in LinearAlgebra at <a href=\"file://C:/workdir/usr/share/julia/stdlib/v1.9/LinearAlgebra/src/uniformscaling.jl\" target=\"_blank\">D:\\Programs\\Julia\\Julia-1.9.3\\share\\julia\\stdlib\\v1.9\\LinearAlgebra\\src\\uniformscaling.jl:181</a></li> <li> +(x::<b>LinearAlgebra.UnitUpperTriangular</b>, H::<b>LinearAlgebra.UpperHessenberg</b>) in LinearAlgebra at <a href=\"file://C:/workdir/usr/share/julia/stdlib/v1.9/LinearAlgebra/src/hessenberg.jl\" target=\"_blank\">D:\\Programs\\Julia\\Julia-1.9.3\\share\\julia\\stdlib\\v1.9\\LinearAlgebra\\src\\hessenberg.jl:112</a></li> <li> +(A::<b>LinearAlgebra.UnitUpperTriangular</b>, B::<b>LinearAlgebra.Bidiagonal</b>) in LinearAlgebra at <a href=\"file://C:/workdir/usr/share/julia/stdlib/v1.9/LinearAlgebra/src/special.jl\" target=\"_blank\">D:\\Programs\\Julia\\Julia-1.9.3\\share\\julia\\stdlib\\v1.9\\LinearAlgebra\\src\\special.jl:91</a></li> <li> +(r1::<b>LinRange{T}</b>, r2::<b>LinRange{T}</b>)<i> where T</i> in Base at <a href=\"https://github.com/JuliaLang/julia/tree/bed2cd540a11544ed4be381d471bbf590f0b745e/base/range.jl#L1448\" target=\"_blank\">range.jl:1448</a></li> <li> +(x::<b>P</b>, y::<b>P</b>)<i> where P<:Dates.Period</i> in Dates at <a href=\"file://C:/workdir/usr/share/julia/stdlib/v1.9/Dates/src/periods.jl\" target=\"_blank\">D:\\Programs\\Julia\\Julia-1.9.3\\share\\julia\\stdlib\\v1.9\\Dates\\src\\periods.jl:75</a></li> <li> +(x::<b>Dates.Period</b>, y::<b>Dates.Period</b>) in Dates at <a href=\"file://C:/workdir/usr/share/julia/stdlib/v1.9/Dates/src/periods.jl\" target=\"_blank\">D:\\Programs\\Julia\\Julia-1.9.3\\share\\julia\\stdlib\\v1.9\\Dates\\src\\periods.jl:331</a></li> <li> +(y::<b>Dates.Period</b>, x::<b>Dates.CompoundPeriod</b>) in Dates at <a href=\"file://C:/workdir/usr/share/julia/stdlib/v1.9/Dates/src/periods.jl\" target=\"_blank\">D:\\Programs\\Julia\\Julia-1.9.3\\share\\julia\\stdlib\\v1.9\\Dates\\src\\periods.jl:333</a></li> <li> +(y::<b>Dates.Period</b>, x::<b>Dates.TimeType</b>) in Dates at <a href=\"file://C:/workdir/usr/share/julia/stdlib/v1.9/Dates/src/arithmetic.jl\" target=\"_blank\">D:\\Programs\\Julia\\Julia-1.9.3\\share\\julia\\stdlib\\v1.9\\Dates\\src\\arithmetic.jl:85</a></li> <li> +(x::<b>Dates.Period</b>, r::<b>AbstractRange{<:Dates.TimeType}</b>) in Dates at <a href=\"file://C:/workdir/usr/share/julia/stdlib/v1.9/Dates/src/ranges.jl\" target=\"_blank\">D:\\Programs\\Julia\\Julia-1.9.3\\share\\julia\\stdlib\\v1.9\\Dates\\src\\ranges.jl:64</a></li> <li> +(y::<b>Union{Dates.CompoundPeriod, Dates.Period}</b>, x::<b>AbstractArray{<:Dates.TimeType}</b>) in Dates at <a href=\"file://C:/workdir/usr/share/julia/stdlib/v1.9/Dates/src/deprecated.jl\" target=\"_blank\">D:\\Programs\\Julia\\Julia-1.9.3\\share\\julia\\stdlib\\v1.9\\Dates\\src\\deprecated.jl:14</a></li> <li> +(a::<b>Tuple{Vararg{Measures.Measure, N}}</b>, b::<b>Tuple{Vararg{Measures.Measure, N}}</b>)<i> where N</i> in Measures at <a href=\"file://C:/Users/ADMIN/.julia/packages/Measures/PKOxJ/src/point.jl\" target=\"_blank\">C:\\Users\\ADMIN\\.julia\\packages\\Measures\\PKOxJ\\src\\point.jl:21</a></li> <li> +(a::<b>Tuple{Vararg{Measures.Measure, N}} where N</b>, b::<b>Tuple{Vararg{Measures.Measure, N}} where N</b>) in Measures at <a href=\"file://C:/Users/ADMIN/.julia/packages/Measures/PKOxJ/src/point.jl\" target=\"_blank\">C:\\Users\\ADMIN\\.julia\\packages\\Measures\\PKOxJ\\src\\point.jl:15</a></li> <li> +(a::<b>AbstractGray{Bool}</b>, b::<b>Bool</b>) in ColorVectorSpace at <a href=\"file://C:/Users/ADMIN/.julia/packages/ColorVectorSpace/tLy1N/src/ColorVectorSpace.jl\" target=\"_blank\">C:\\Users\\ADMIN\\.julia\\packages\\ColorVectorSpace\\tLy1N\\src\\ColorVectorSpace.jl:322</a></li> <li> +(a::<b>AbstractGray{Bool}</b>, b::<b>Number</b>) in ColorVectorSpace at <a href=\"file://C:/Users/ADMIN/.julia/packages/ColorVectorSpace/tLy1N/src/ColorVectorSpace.jl\" target=\"_blank\">C:\\Users\\ADMIN\\.julia\\packages\\ColorVectorSpace\\tLy1N\\src\\ColorVectorSpace.jl:321</a></li> <li> +(a::<b>AbstractGray</b>, b::<b>Number</b>) in ColorVectorSpace at <a href=\"file://C:/Users/ADMIN/.julia/packages/ColorVectorSpace/tLy1N/src/ColorVectorSpace.jl\" target=\"_blank\">C:\\Users\\ADMIN\\.julia\\packages\\ColorVectorSpace\\tLy1N\\src\\ColorVectorSpace.jl:320</a></li> <li> +(a::<b>AbstractGray{Bool}</b>, b::<b>AbstractGray{Bool}</b>) in ColorVectorSpace at <a href=\"file://C:/Users/ADMIN/.julia/packages/ColorVectorSpace/tLy1N/src/ColorVectorSpace.jl\" target=\"_blank\">C:\\Users\\ADMIN\\.julia\\packages\\ColorVectorSpace\\tLy1N\\src\\ColorVectorSpace.jl:311</a></li> <li> +(c::<b>Union{TransparentColor{C, T}, C} where {T, C<:Union{AbstractRGB{T}, AbstractGray{T}}}</b>) in ColorVectorSpace at <a href=\"file://C:/Users/ADMIN/.julia/packages/ColorVectorSpace/tLy1N/src/ColorVectorSpace.jl\" target=\"_blank\">C:\\Users\\ADMIN\\.julia\\packages\\ColorVectorSpace\\tLy1N\\src\\ColorVectorSpace.jl:249</a></li> <li> +(a::<b>AbstractGray</b>, b::<b>AbstractGray</b>) in ColorVectorSpace at <a href=\"file://C:/Users/ADMIN/.julia/packages/ColorVectorSpace/tLy1N/src/ColorVectorSpace.jl\" target=\"_blank\">C:\\Users\\ADMIN\\.julia\\packages\\ColorVectorSpace\\tLy1N\\src\\ColorVectorSpace.jl:310</a></li> <li> +(a::<b>Union{TransparentColor{C, T}, C} where {T, C<:Union{AbstractRGB{T}, AbstractGray{T}}}</b>, b::<b>Union{TransparentColor{C, T}, C} where {T, C<:Union{AbstractRGB{T}, AbstractGray{T}}}</b>) in ColorVectorSpace at <a href=\"file://C:/Users/ADMIN/.julia/packages/ColorVectorSpace/tLy1N/src/ColorVectorSpace.jl\" target=\"_blank\">C:\\Users\\ADMIN\\.julia\\packages\\ColorVectorSpace\\tLy1N\\src\\ColorVectorSpace.jl:260</a></li> <li> +(x::<b>SparseArrays.AbstractSparseVector</b>, y::<b>SparseArrays.AbstractSparseVector</b>) in SparseArrays at <a href=\"file://C:/workdir/usr/share/julia/stdlib/v1.9/SparseArrays/src/sparsevector.jl\" target=\"_blank\">D:\\Programs\\Julia\\Julia-1.9.3\\share\\julia\\stdlib\\v1.9\\SparseArrays\\src\\sparsevector.jl:1516</a></li> <li> +(A::<b>SparseArrays.AbstractSparseMatrix</b>, B::<b>LinearAlgebra.Hermitian{<:Any, <:SparseArrays.AbstractSparseMatrix}</b>) in SparseArrays at <a href=\"file://C:/workdir/usr/share/julia/stdlib/v1.9/SparseArrays/src/linalg.jl\" target=\"_blank\">D:\\Programs\\Julia\\Julia-1.9.3\\share\\julia\\stdlib\\v1.9\\SparseArrays\\src\\linalg.jl:14</a></li> <li> +(A::<b>SparseArrays.AbstractSparseMatrix</b>, B::<b>LinearAlgebra.Hermitian</b>) in SparseArrays at <a href=\"file://C:/workdir/usr/share/julia/stdlib/v1.9/SparseArrays/src/linalg.jl\" target=\"_blank\">D:\\Programs\\Julia\\Julia-1.9.3\\share\\julia\\stdlib\\v1.9\\SparseArrays\\src\\linalg.jl:17</a></li> <li> +(A::<b>SparseArrays.AbstractSparseMatrix</b>, B::<b>LinearAlgebra.Symmetric{<:Any, <:SparseArrays.AbstractSparseMatrix}</b>) in SparseArrays at <a href=\"file://C:/workdir/usr/share/julia/stdlib/v1.9/SparseArrays/src/linalg.jl\" target=\"_blank\">D:\\Programs\\Julia\\Julia-1.9.3\\share\\julia\\stdlib\\v1.9\\SparseArrays\\src\\linalg.jl:14</a></li> <li> +(A::<b>SparseArrays.AbstractSparseMatrix</b>, B::<b>LinearAlgebra.Symmetric</b>) in SparseArrays at <a href=\"file://C:/workdir/usr/share/julia/stdlib/v1.9/SparseArrays/src/linalg.jl\" target=\"_blank\">D:\\Programs\\Julia\\Julia-1.9.3\\share\\julia\\stdlib\\v1.9\\SparseArrays\\src\\linalg.jl:17</a></li> <li> +(x::<b>AbstractIrrational</b>, y::<b>AbstractIrrational</b>) in Base at <a href=\"https://github.com/JuliaLang/julia/tree/bed2cd540a11544ed4be381d471bbf590f0b745e/base/irrationals.jl#L161\" target=\"_blank\">irrationals.jl:161</a></li> <li> +(A::<b>LinearAlgebra.Tridiagonal</b>, B::<b>LinearAlgebra.Tridiagonal</b>) in LinearAlgebra at <a href=\"file://C:/workdir/usr/share/julia/stdlib/v1.9/LinearAlgebra/src/tridiag.jl\" target=\"_blank\">D:\\Programs\\Julia\\Julia-1.9.3\\share\\julia\\stdlib\\v1.9\\LinearAlgebra\\src\\tridiag.jl:754</a></li> <li> +(x::<b>LinearAlgebra.Tridiagonal</b>, H::<b>LinearAlgebra.UpperHessenberg</b>) in LinearAlgebra at <a href=\"file://C:/workdir/usr/share/julia/stdlib/v1.9/LinearAlgebra/src/hessenberg.jl\" target=\"_blank\">D:\\Programs\\Julia\\Julia-1.9.3\\share\\julia\\stdlib\\v1.9\\LinearAlgebra\\src\\hessenberg.jl:112</a></li> <li> +(A::<b>LinearAlgebra.Tridiagonal</b>, B::<b>LinearAlgebra.SymTridiagonal</b>) in LinearAlgebra at <a href=\"file://C:/workdir/usr/share/julia/stdlib/v1.9/LinearAlgebra/src/special.jl\" target=\"_blank\">D:\\Programs\\Julia\\Julia-1.9.3\\share\\julia\\stdlib\\v1.9\\LinearAlgebra\\src\\special.jl:162</a></li> <li> +(A::<b>LinearAlgebra.Tridiagonal</b>, B::<b>LinearAlgebra.Diagonal</b>) in LinearAlgebra at <a href=\"file://C:/workdir/usr/share/julia/stdlib/v1.9/LinearAlgebra/src/special.jl\" target=\"_blank\">D:\\Programs\\Julia\\Julia-1.9.3\\share\\julia\\stdlib\\v1.9\\LinearAlgebra\\src\\special.jl:178</a></li> <li> +(A::<b>LinearAlgebra.Tridiagonal</b>, B::<b>LinearAlgebra.Bidiagonal</b>) in LinearAlgebra at <a href=\"file://C:/workdir/usr/share/julia/stdlib/v1.9/LinearAlgebra/src/special.jl\" target=\"_blank\">D:\\Programs\\Julia\\Julia-1.9.3\\share\\julia\\stdlib\\v1.9\\LinearAlgebra\\src\\special.jl:198</a></li> <li> +(A::<b>LinearAlgebra.Tridiagonal{var\"#s972\", V} where {var\"#s972\"<:Number, V<:AbstractVector{var\"#s972\"}}</b>, B::<b>LinearAlgebra.UniformScaling</b>) in LinearAlgebra at <a href=\"file://C:/workdir/usr/share/julia/stdlib/v1.9/LinearAlgebra/src/special.jl\" target=\"_blank\">D:\\Programs\\Julia\\Julia-1.9.3\\share\\julia\\stdlib\\v1.9\\LinearAlgebra\\src\\special.jl:231</a></li> <li> +(x::<b>Base.TwicePrecision</b>, y::<b>Number</b>) in Base at <a href=\"https://github.com/JuliaLang/julia/tree/bed2cd540a11544ed4be381d471bbf590f0b745e/base/twiceprecision.jl#L290\" target=\"_blank\">twiceprecision.jl:290</a></li> <li> +(x::<b>Base.TwicePrecision{T}</b>, y::<b>Base.TwicePrecision{T}</b>)<i> where T</i> in Base at <a href=\"https://github.com/JuliaLang/julia/tree/bed2cd540a11544ed4be381d471bbf590f0b745e/base/twiceprecision.jl#L296\" target=\"_blank\">twiceprecision.jl:296</a></li> <li> +(x::<b>Base.TwicePrecision</b>, y::<b>Base.TwicePrecision</b>) in Base at <a href=\"https://github.com/JuliaLang/julia/tree/bed2cd540a11544ed4be381d471bbf590f0b745e/base/twiceprecision.jl#L301\" target=\"_blank\">twiceprecision.jl:301</a></li> <li> +(r1::<b>OrdinalRange</b>, r2::<b>OrdinalRange</b>) in Base at <a href=\"https://github.com/JuliaLang/julia/tree/bed2cd540a11544ed4be381d471bbf590f0b745e/base/range.jl#L1441\" target=\"_blank\">range.jl:1441</a></li> <li> +(A::<b>LinearAlgebra.SymTridiagonal</b>, B::<b>LinearAlgebra.SymTridiagonal</b>) in LinearAlgebra at <a href=\"file://C:/workdir/usr/share/julia/stdlib/v1.9/LinearAlgebra/src/tridiag.jl\" target=\"_blank\">D:\\Programs\\Julia\\Julia-1.9.3\\share\\julia\\stdlib\\v1.9\\LinearAlgebra\\src\\tridiag.jl:207</a></li> <li> +(A::<b>LinearAlgebra.SymTridiagonal</b>, B::<b>LinearAlgebra.Symmetric</b>) in LinearAlgebra at <a href=\"file://C:/workdir/usr/share/julia/stdlib/v1.9/LinearAlgebra/src/symmetric.jl\" target=\"_blank\">D:\\Programs\\Julia\\Julia-1.9.3\\share\\julia\\stdlib\\v1.9\\LinearAlgebra\\src\\symmetric.jl:485</a></li> <li> +(A::<b>LinearAlgebra.SymTridiagonal{var\"#s970\", V} where {var\"#s970\"<:Real, V<:AbstractVector{var\"#s970\"}}</b>, B::<b>LinearAlgebra.Hermitian</b>) in LinearAlgebra at <a href=\"file://C:/workdir/usr/share/julia/stdlib/v1.9/LinearAlgebra/src/symmetric.jl\" target=\"_blank\">D:\\Programs\\Julia\\Julia-1.9.3\\share\\julia\\stdlib\\v1.9\\LinearAlgebra\\src\\symmetric.jl:487</a></li> <li> +(x::<b>LinearAlgebra.SymTridiagonal</b>, H::<b>LinearAlgebra.UpperHessenberg</b>) in LinearAlgebra at <a href=\"file://C:/workdir/usr/share/julia/stdlib/v1.9/LinearAlgebra/src/hessenberg.jl\" target=\"_blank\">D:\\Programs\\Julia\\Julia-1.9.3\\share\\julia\\stdlib\\v1.9\\LinearAlgebra\\src\\hessenberg.jl:112</a></li> <li> +(A::<b>LinearAlgebra.SymTridiagonal</b>, B::<b>LinearAlgebra.Diagonal</b>) in LinearAlgebra at <a href=\"file://C:/workdir/usr/share/julia/stdlib/v1.9/LinearAlgebra/src/special.jl\" target=\"_blank\">D:\\Programs\\Julia\\Julia-1.9.3\\share\\julia\\stdlib\\v1.9\\LinearAlgebra\\src\\special.jl:150</a></li> <li> +(A::<b>LinearAlgebra.SymTridiagonal</b>, B::<b>LinearAlgebra.Tridiagonal</b>) in LinearAlgebra at <a href=\"file://C:/workdir/usr/share/julia/stdlib/v1.9/LinearAlgebra/src/special.jl\" target=\"_blank\">D:\\Programs\\Julia\\Julia-1.9.3\\share\\julia\\stdlib\\v1.9\\LinearAlgebra\\src\\special.jl:164</a></li> <li> +(A::<b>LinearAlgebra.SymTridiagonal</b>, B::<b>LinearAlgebra.Bidiagonal</b>) in LinearAlgebra at <a href=\"file://C:/workdir/usr/share/julia/stdlib/v1.9/LinearAlgebra/src/special.jl\" target=\"_blank\">D:\\Programs\\Julia\\Julia-1.9.3\\share\\julia\\stdlib\\v1.9\\LinearAlgebra\\src\\special.jl:218</a></li> <li> +(A::<b>LinearAlgebra.SymTridiagonal{var\"#s972\", V} where {var\"#s972\"<:Number, V<:AbstractVector{var\"#s972\"}}</b>, B::<b>LinearAlgebra.UniformScaling</b>) in LinearAlgebra at <a href=\"file://C:/workdir/usr/share/julia/stdlib/v1.9/LinearAlgebra/src/special.jl\" target=\"_blank\">D:\\Programs\\Julia\\Julia-1.9.3\\share\\julia\\stdlib\\v1.9\\LinearAlgebra\\src\\special.jl:236</a></li> <li> +(x::<b>Ptr</b>, y::<b>Integer</b>) in Base at <a href=\"https://github.com/JuliaLang/julia/tree/bed2cd540a11544ed4be381d471bbf590f0b745e/base/pointer.jl#L167\" target=\"_blank\">pointer.jl:167</a></li> <li> +(r1::<b>StepRangeLen{T, R}</b>, r2::<b>StepRangeLen{T, R}</b>)<i> where {R<:Base.TwicePrecision, T}</i> in Base at <a href=\"https://github.com/JuliaLang/julia/tree/bed2cd540a11544ed4be381d471bbf590f0b745e/base/twiceprecision.jl#L628\" target=\"_blank\">twiceprecision.jl:628</a></li> <li> +(r1::<b>StepRangeLen{T, S}</b>, r2::<b>StepRangeLen{T, S}</b>)<i> where {T, S}</i> in Base at <a href=\"https://github.com/JuliaLang/julia/tree/bed2cd540a11544ed4be381d471bbf590f0b745e/base/range.jl#L1464\" target=\"_blank\">range.jl:1464</a></li> <li> +(r1::<b>Union{LinRange, OrdinalRange, StepRangeLen}</b>, r2::<b>Union{LinRange, OrdinalRange, StepRangeLen}</b>) in Base at <a href=\"https://github.com/JuliaLang/julia/tree/bed2cd540a11544ed4be381d471bbf590f0b745e/base/range.jl#L1457\" target=\"_blank\">range.jl:1457</a></li> <li> +(x::<b>Dates.Instant</b>) in Dates at <a href=\"file://C:/workdir/usr/share/julia/stdlib/v1.9/Dates/src/arithmetic.jl\" target=\"_blank\">D:\\Programs\\Julia\\Julia-1.9.3\\share\\julia\\stdlib\\v1.9\\Dates\\src\\arithmetic.jl:4</a></li> <li> +(a::<b>Measures.Measure</b>, b::<b>Measures.Measure</b>) in Measures at <a href=\"file://C:/Users/ADMIN/.julia/packages/Measures/PKOxJ/src/operations.jl\" target=\"_blank\">C:\\Users\\ADMIN\\.julia\\packages\\Measures\\PKOxJ\\src\\operations.jl:41</a></li> <li> +(x::<b>T</b>, y::<b>Integer</b>)<i> where T<:AbstractChar</i> in Base at <a href=\"https://github.com/JuliaLang/julia/tree/bed2cd540a11544ed4be381d471bbf590f0b745e/base/char.jl#L237\" target=\"_blank\">char.jl:237</a></li> <li> +(index1::<b>CartesianIndex{N}</b>, index2::<b>CartesianIndex{N}</b>)<i> where N</i> in Base.IteratorsMD at <a href=\"https://github.com/JuliaLang/julia/tree/bed2cd540a11544ed4be381d471bbf590f0b745e/base/multidimensional.jl#L111\" target=\"_blank\">multidimensional.jl:111</a></li> <li> +(a::<b>ColorVectorSpace.RGBRGB</b>) in ColorVectorSpace at <a href=\"file://C:/Users/ADMIN/.julia/packages/ColorVectorSpace/tLy1N/src/ColorVectorSpace.jl\" target=\"_blank\">C:\\Users\\ADMIN\\.julia\\packages\\ColorVectorSpace\\tLy1N\\src\\ColorVectorSpace.jl:411</a></li> <li> +(a::<b>ColorVectorSpace.RGBRGB</b>, b::<b>ColorVectorSpace.RGBRGB</b>) in ColorVectorSpace at <a href=\"file://C:/Users/ADMIN/.julia/packages/ColorVectorSpace/tLy1N/src/ColorVectorSpace.jl\" target=\"_blank\">C:\\Users\\ADMIN\\.julia\\packages\\ColorVectorSpace\\tLy1N\\src\\ColorVectorSpace.jl:413</a></li> <li> +(A::<b>LinearAlgebra.Symmetric</b>, B::<b>LinearAlgebra.Symmetric</b>) in LinearAlgebra at <a href=\"file://C:/workdir/usr/share/julia/stdlib/v1.9/LinearAlgebra/src/symmetric.jl\" target=\"_blank\">D:\\Programs\\Julia\\Julia-1.9.3\\share\\julia\\stdlib\\v1.9\\LinearAlgebra\\src\\symmetric.jl:469</a></li> <li> +(A::<b>LinearAlgebra.Symmetric</b>, B::<b>LinearAlgebra.SymTridiagonal</b>) in LinearAlgebra at <a href=\"file://C:/workdir/usr/share/julia/stdlib/v1.9/LinearAlgebra/src/symmetric.jl\" target=\"_blank\">D:\\Programs\\Julia\\Julia-1.9.3\\share\\julia\\stdlib\\v1.9\\LinearAlgebra\\src\\symmetric.jl:486</a></li> <li> +(S::<b>LinearAlgebra.Symmetric</b>, D::<b>LinearAlgebra.Diagonal</b>) in LinearAlgebra at <a href=\"file://C:/workdir/usr/share/julia/stdlib/v1.9/LinearAlgebra/src/diagonal.jl\" target=\"_blank\">D:\\Programs\\Julia\\Julia-1.9.3\\share\\julia\\stdlib\\v1.9\\LinearAlgebra\\src\\diagonal.jl:191</a></li> <li> +(A::<b>LinearAlgebra.Symmetric{<:Any, <:SparseArrays.AbstractSparseMatrix}</b>, B::<b>SparseArrays.AbstractSparseMatrix</b>) in SparseArrays at <a href=\"file://C:/workdir/usr/share/julia/stdlib/v1.9/SparseArrays/src/linalg.jl\" target=\"_blank\">D:\\Programs\\Julia\\Julia-1.9.3\\share\\julia\\stdlib\\v1.9\\SparseArrays\\src\\linalg.jl:15</a></li> <li> +(A::<b>LinearAlgebra.Symmetric</b>, B::<b>SparseArrays.AbstractSparseMatrix</b>) in SparseArrays at <a href=\"file://C:/workdir/usr/share/julia/stdlib/v1.9/SparseArrays/src/linalg.jl\" target=\"_blank\">D:\\Programs\\Julia\\Julia-1.9.3\\share\\julia\\stdlib\\v1.9\\SparseArrays\\src\\linalg.jl:18</a></li> <li> +(A::<b>LinearAlgebra.Symmetric{<:Real, <:SparseArrays.AbstractSparseMatrix}</b>, B::<b>LinearAlgebra.Hermitian{<:Any, <:SparseArrays.AbstractSparseMatrix}</b>) in SparseArrays at <a href=\"file://C:/workdir/usr/share/julia/stdlib/v1.9/SparseArrays/src/linalg.jl\" target=\"_blank\">D:\\Programs\\Julia\\Julia-1.9.3\\share\\julia\\stdlib\\v1.9\\SparseArrays\\src\\linalg.jl:25</a></li> <li> +(A::<b>LinearAlgebra.Symmetric{var\"#s971\", S} where {var\"#s971\"<:Real, S<:(AbstractMatrix{<:var\"#s971\"})}</b>, B::<b>LinearAlgebra.Hermitian</b>) in LinearAlgebra at <a href=\"file://C:/workdir/usr/share/julia/stdlib/v1.9/LinearAlgebra/src/symmetric.jl\" target=\"_blank\">D:\\Programs\\Julia\\Julia-1.9.3\\share\\julia\\stdlib\\v1.9\\LinearAlgebra\\src\\symmetric.jl:484</a></li> <li> +(A::<b>LinearAlgebra.Symmetric{<:Any, <:SparseArrays.AbstractSparseMatrix}</b>, B::<b>LinearAlgebra.Hermitian{<:Any, <:SparseArrays.AbstractSparseMatrix}</b>) in SparseArrays at <a href=\"file://C:/workdir/usr/share/julia/stdlib/v1.9/SparseArrays/src/linalg.jl\" target=\"_blank\">D:\\Programs\\Julia\\Julia-1.9.3\\share\\julia\\stdlib\\v1.9\\SparseArrays\\src\\linalg.jl:23</a></li> <li> +(y::<b>AbstractFloat</b>, x::<b>Bool</b>) in Base at <a href=\"https://github.com/JuliaLang/julia/tree/bed2cd540a11544ed4be381d471bbf590f0b745e/base/bool.jl#L176\" target=\"_blank\">bool.jl:176</a></li> <li> +(r::<b>AbstractRange{<:Dates.TimeType}</b>, x::<b>Dates.Period</b>) in Dates at <a href=\"file://C:/workdir/usr/share/julia/stdlib/v1.9/Dates/src/ranges.jl\" target=\"_blank\">D:\\Programs\\Julia\\Julia-1.9.3\\share\\julia\\stdlib\\v1.9\\Dates\\src\\ranges.jl:65</a></li> <li> +(x::<b>AbstractArray{<:Dates.TimeType}</b>, y::<b>Union{Dates.CompoundPeriod, Dates.Period}</b>) in Dates at <a href=\"file://C:/workdir/usr/share/julia/stdlib/v1.9/Dates/src/deprecated.jl\" target=\"_blank\">D:\\Programs\\Julia\\Julia-1.9.3\\share\\julia\\stdlib\\v1.9\\Dates\\src\\deprecated.jl:6</a></li> <li> +(A::<b>LinearAlgebra.Hermitian</b>, B::<b>LinearAlgebra.Hermitian</b>) in LinearAlgebra at <a href=\"file://C:/workdir/usr/share/julia/stdlib/v1.9/LinearAlgebra/src/symmetric.jl\" target=\"_blank\">D:\\Programs\\Julia\\Julia-1.9.3\\share\\julia\\stdlib\\v1.9\\LinearAlgebra\\src\\symmetric.jl:469</a></li> <li> +(A::<b>LinearAlgebra.Hermitian</b>, B::<b>LinearAlgebra.SymTridiagonal{var\"#s969\", V} where {var\"#s969\"<:Real, V<:AbstractVector{var\"#s969\"}}</b>) in LinearAlgebra at <a href=\"file://C:/workdir/usr/share/julia/stdlib/v1.9/LinearAlgebra/src/symmetric.jl\" target=\"_blank\">D:\\Programs\\Julia\\Julia-1.9.3\\share\\julia\\stdlib\\v1.9\\LinearAlgebra\\src\\symmetric.jl:488</a></li> <li> +(H::<b>LinearAlgebra.Hermitian</b>, D::<b>LinearAlgebra.Diagonal{var\"#s972\", V} where {var\"#s972\"<:Real, V<:AbstractVector{var\"#s972\"}}</b>) in LinearAlgebra at <a href=\"file://C:/workdir/usr/share/julia/stdlib/v1.9/LinearAlgebra/src/diagonal.jl\" target=\"_blank\">D:\\Programs\\Julia\\Julia-1.9.3\\share\\julia\\stdlib\\v1.9\\LinearAlgebra\\src\\diagonal.jl:197</a></li> <li> +(A::<b>LinearAlgebra.Hermitian</b>, J::<b>LinearAlgebra.UniformScaling{<:Complex}</b>) in LinearAlgebra at <a href=\"file://C:/workdir/usr/share/julia/stdlib/v1.9/LinearAlgebra/src/uniformscaling.jl\" target=\"_blank\">D:\\Programs\\Julia\\Julia-1.9.3\\share\\julia\\stdlib\\v1.9\\LinearAlgebra\\src\\uniformscaling.jl:195</a></li> <li> +(A::<b>LinearAlgebra.Hermitian{<:Any, <:SparseArrays.AbstractSparseMatrix}</b>, B::<b>SparseArrays.AbstractSparseMatrix</b>) in SparseArrays at <a href=\"file://C:/workdir/usr/share/julia/stdlib/v1.9/SparseArrays/src/linalg.jl\" target=\"_blank\">D:\\Programs\\Julia\\Julia-1.9.3\\share\\julia\\stdlib\\v1.9\\SparseArrays\\src\\linalg.jl:15</a></li> <li> +(A::<b>LinearAlgebra.Hermitian</b>, B::<b>SparseArrays.AbstractSparseMatrix</b>) in SparseArrays at <a href=\"file://C:/workdir/usr/share/julia/stdlib/v1.9/SparseArrays/src/linalg.jl\" target=\"_blank\">D:\\Programs\\Julia\\Julia-1.9.3\\share\\julia\\stdlib\\v1.9\\SparseArrays\\src\\linalg.jl:18</a></li> <li> +(A::<b>LinearAlgebra.Hermitian{<:Any, <:SparseArrays.AbstractSparseMatrix}</b>, B::<b>LinearAlgebra.Symmetric{<:Real, <:SparseArrays.AbstractSparseMatrix}</b>) in SparseArrays at <a href=\"file://C:/workdir/usr/share/julia/stdlib/v1.9/SparseArrays/src/linalg.jl\" target=\"_blank\">D:\\Programs\\Julia\\Julia-1.9.3\\share\\julia\\stdlib\\v1.9\\SparseArrays\\src\\linalg.jl:26</a></li> <li> +(A::<b>LinearAlgebra.Hermitian</b>, B::<b>LinearAlgebra.Symmetric{var\"#s972\", S} where {var\"#s972\"<:Real, S<:(AbstractMatrix{<:var\"#s972\"})}</b>) in LinearAlgebra at <a href=\"file://C:/workdir/usr/share/julia/stdlib/v1.9/LinearAlgebra/src/symmetric.jl\" target=\"_blank\">D:\\Programs\\Julia\\Julia-1.9.3\\share\\julia\\stdlib\\v1.9\\LinearAlgebra\\src\\symmetric.jl:483</a></li> <li> +(A::<b>LinearAlgebra.Hermitian{<:Any, <:SparseArrays.AbstractSparseMatrix}</b>, B::<b>LinearAlgebra.Symmetric{<:Any, <:SparseArrays.AbstractSparseMatrix}</b>) in SparseArrays at <a href=\"file://C:/workdir/usr/share/julia/stdlib/v1.9/SparseArrays/src/linalg.jl\" target=\"_blank\">D:\\Programs\\Julia\\Julia-1.9.3\\share\\julia\\stdlib\\v1.9\\SparseArrays\\src\\linalg.jl:24</a></li> <li> +(A::<b>BitArray</b>, B::<b>BitArray</b>) in Base at <a href=\"https://github.com/JuliaLang/julia/tree/bed2cd540a11544ed4be381d471bbf590f0b745e/base/bitarray.jl#L1184\" target=\"_blank\">bitarray.jl:1184</a></li> <li> +(A::<b>Array</b>, Bs::<b>Array...</b>) in Base at <a href=\"https://github.com/JuliaLang/julia/tree/bed2cd540a11544ed4be381d471bbf590f0b745e/base/arraymath.jl#L12\" target=\"_blank\">arraymath.jl:12</a></li> <li> +(X::<b>StridedArray{<:Union{Dates.CompoundPeriod, Dates.Period}}</b>, Y::<b>StridedArray{<:Union{Dates.CompoundPeriod, Dates.Period}}</b>) in Dates at <a href=\"file://C:/workdir/usr/share/julia/stdlib/v1.9/Dates/src/deprecated.jl\" target=\"_blank\">D:\\Programs\\Julia\\Julia-1.9.3\\share\\julia\\stdlib\\v1.9\\Dates\\src\\deprecated.jl:62</a></li> <li> +(A::<b>Array</b>, B::<b>SparseArrays.AbstractSparseMatrixCSC</b>) in SparseArrays at <a href=\"file://C:/workdir/usr/share/julia/stdlib/v1.9/SparseArrays/src/sparsematrix.jl\" target=\"_blank\">D:\\Programs\\Julia\\Julia-1.9.3\\share\\julia\\stdlib\\v1.9\\SparseArrays\\src\\sparsematrix.jl:2069</a></li> <li> +(x::<b>StridedArray{<:Union{Dates.CompoundPeriod, Dates.Period}}</b>) in Dates at <a href=\"file://C:/workdir/usr/share/julia/stdlib/v1.9/Dates/src/deprecated.jl\" target=\"_blank\">D:\\Programs\\Julia\\Julia-1.9.3\\share\\julia\\stdlib\\v1.9\\Dates\\src\\deprecated.jl:55</a></li> <li> +(x::<b>StridedArray{<:Union{Dates.CompoundPeriod, Dates.Period}}</b>, y::<b>Dates.TimeType</b>) in Dates at <a href=\"file://C:/workdir/usr/share/julia/stdlib/v1.9/Dates/src/deprecated.jl\" target=\"_blank\">D:\\Programs\\Julia\\Julia-1.9.3\\share\\julia\\stdlib\\v1.9\\Dates\\src\\deprecated.jl:10</a></li> <li> +(A::<b>AbstractArray</b>, B::<b>AbstractArray</b>) in Base at <a href=\"https://github.com/JuliaLang/julia/tree/bed2cd540a11544ed4be381d471bbf590f0b745e/base/arraymath.jl#L6\" target=\"_blank\">arraymath.jl:6</a></li> <li> +(bb1::<b>Measures.BoundingBox</b>, bb2::<b>Measures.BoundingBox</b>) in Plots at <a href=\"file://C:/Users/ADMIN/.julia/packages/Plots/sxUvK/src/layouts.jl\" target=\"_blank\">C:\\Users\\ADMIN\\.julia\\packages\\Plots\\sxUvK\\src\\layouts.jl:21</a></li> <li> +(x::<b>BigInt</b>, c::<b>Union{UInt16, UInt32, UInt8}</b>) in Base.GMP at <a href=\"https://github.com/JuliaLang/julia/tree/bed2cd540a11544ed4be381d471bbf590f0b745e/base/gmp.jl#L538\" target=\"_blank\">gmp.jl:538</a></li> <li> +(x::<b>BigInt</b>, c::<b>Union{Int16, Int32, Int8}</b>) in Base.GMP at <a href=\"https://github.com/JuliaLang/julia/tree/bed2cd540a11544ed4be381d471bbf590f0b745e/base/gmp.jl#L544\" target=\"_blank\">gmp.jl:544</a></li> <li> +(x::<b>BigInt</b>, y::<b>BigInt</b>) in Base.GMP at <a href=\"https://github.com/JuliaLang/julia/tree/bed2cd540a11544ed4be381d471bbf590f0b745e/base/gmp.jl#L490\" target=\"_blank\">gmp.jl:490</a></li> <li> +(a::<b>BigInt</b>, b::<b>BigInt</b>, c::<b>BigInt</b>) in Base.GMP at <a href=\"https://github.com/JuliaLang/julia/tree/bed2cd540a11544ed4be381d471bbf590f0b745e/base/gmp.jl#L530\" target=\"_blank\">gmp.jl:530</a></li> <li> +(a::<b>BigInt</b>, b::<b>BigInt</b>, c::<b>BigInt</b>, d::<b>BigInt</b>) in Base.GMP at <a href=\"https://github.com/JuliaLang/julia/tree/bed2cd540a11544ed4be381d471bbf590f0b745e/base/gmp.jl#L531\" target=\"_blank\">gmp.jl:531</a></li> <li> +(a::<b>BigInt</b>, b::<b>BigInt</b>, c::<b>BigInt</b>, d::<b>BigInt</b>, e::<b>BigInt</b>) in Base.GMP at <a href=\"https://github.com/JuliaLang/julia/tree/bed2cd540a11544ed4be381d471bbf590f0b745e/base/gmp.jl#L532\" target=\"_blank\">gmp.jl:532</a></li> <li> +(x::<b>BigInt</b>, y::<b>BigInt</b>, rest::<b>BigInt...</b>) in Base.GMP at <a href=\"https://github.com/JuliaLang/julia/tree/bed2cd540a11544ed4be381d471bbf590f0b745e/base/gmp.jl#L666\" target=\"_blank\">gmp.jl:666</a></li> <li> +(c::<b>BigInt</b>, x::<b>BigFloat</b>) in Base.MPFR at <a href=\"https://github.com/JuliaLang/julia/tree/bed2cd540a11544ed4be381d471bbf590f0b745e/base/mpfr.jl#L431\" target=\"_blank\">mpfr.jl:431</a></li> <li> +(a::<b>Pkg.Resolve.FieldValue</b>, b::<b>Pkg.Resolve.FieldValue</b>) in Pkg.Resolve at <a href=\"file://C:/workdir/usr/share/julia/stdlib/v1.9/Pkg/src/Resolve/fieldvalues.jl\" target=\"_blank\">D:\\Programs\\Julia\\Julia-1.9.3\\share\\julia\\stdlib\\v1.9\\Pkg\\src\\Resolve\\fieldvalues.jl:43</a></li> <li> +(x::<b>Bool</b>) in Base at <a href=\"https://github.com/JuliaLang/julia/tree/bed2cd540a11544ed4be381d471bbf590f0b745e/base/bool.jl#L163\" target=\"_blank\">bool.jl:163</a></li> <li> +(x::<b>Integer</b>, y::<b>Ptr</b>) in Base at <a href=\"https://github.com/JuliaLang/julia/tree/bed2cd540a11544ed4be381d471bbf590f0b745e/base/pointer.jl#L169\" target=\"_blank\">pointer.jl:169</a></li> <li> +(y::<b>Integer</b>, x::<b>Rational</b>) in Base at <a href=\"https://github.com/JuliaLang/julia/tree/bed2cd540a11544ed4be381d471bbf590f0b745e/base/rational.jl#L334\" target=\"_blank\">rational.jl:334</a></li> <li> +(x::<b>Integer</b>, y::<b>AbstractChar</b>) in Base at <a href=\"https://github.com/JuliaLang/julia/tree/bed2cd540a11544ed4be381d471bbf590f0b745e/base/char.jl#L247\" target=\"_blank\">char.jl:247</a></li> <li> +(x::<b>Bool</b>, y::<b>T</b>)<i> where T<:AbstractFloat</i> in Base at <a href=\"https://github.com/JuliaLang/julia/tree/bed2cd540a11544ed4be381d471bbf590f0b745e/base/bool.jl#L173\" target=\"_blank\">bool.jl:173</a></li> <li> +(x::<b>Bool</b>, y::<b>Bool</b>) in Base at <a href=\"https://github.com/JuliaLang/julia/tree/bed2cd540a11544ed4be381d471bbf590f0b745e/base/bool.jl#L166\" target=\"_blank\">bool.jl:166</a></li> <li> +(a::<b>Integer</b>, b::<b>Integer</b>) in Base at <a href=\"https://github.com/JuliaLang/julia/tree/bed2cd540a11544ed4be381d471bbf590f0b745e/base/int.jl#L1038\" target=\"_blank\">int.jl:1038</a></li> <li> +(x::<b>Bool</b>, z::<b>Complex{Bool}</b>) in Base at <a href=\"https://github.com/JuliaLang/julia/tree/bed2cd540a11544ed4be381d471bbf590f0b745e/base/complex.jl#L302\" target=\"_blank\">complex.jl:302</a></li> <li> +(x::<b>Real</b>, z::<b>Complex{Bool}</b>) in Base at <a href=\"https://github.com/JuliaLang/julia/tree/bed2cd540a11544ed4be381d471bbf590f0b745e/base/complex.jl#L316\" target=\"_blank\">complex.jl:316</a></li> <li> +(x::<b>Bool</b>, z::<b>Complex</b>) in Base at <a href=\"https://github.com/JuliaLang/julia/tree/bed2cd540a11544ed4be381d471bbf590f0b745e/base/complex.jl#L309\" target=\"_blank\">complex.jl:309</a></li> <li> +(x::<b>Real</b>, z::<b>Complex</b>) in Base at <a href=\"https://github.com/JuliaLang/julia/tree/bed2cd540a11544ed4be381d471bbf590f0b745e/base/complex.jl#L328\" target=\"_blank\">complex.jl:328</a></li> <li> +(a::<b>Pkg.Resolve.VersionWeight</b>, b::<b>Pkg.Resolve.VersionWeight</b>) in Pkg.Resolve at <a href=\"file://C:/workdir/usr/share/julia/stdlib/v1.9/Pkg/src/Resolve/versionweights.jl\" target=\"_blank\">D:\\Programs\\Julia\\Julia-1.9.3\\share\\julia\\stdlib\\v1.9\\Pkg\\src\\Resolve\\versionweights.jl:22</a></li> <li> +(x::<b>Rational{BigInt}</b>, y::<b>Rational{BigInt}</b>) in Base.GMP.MPQ at <a href=\"https://github.com/JuliaLang/julia/tree/bed2cd540a11544ed4be381d471bbf590f0b745e/base/gmp.jl#L1027\" target=\"_blank\">gmp.jl:1027</a></li> <li> +(x::<b>Rational</b>) in Base at <a href=\"https://github.com/JuliaLang/julia/tree/bed2cd540a11544ed4be381d471bbf590f0b745e/base/rational.jl#L284\" target=\"_blank\">rational.jl:284</a></li> <li> +(x::<b>Rational</b>, y::<b>Rational</b>) in Base at <a href=\"https://github.com/JuliaLang/julia/tree/bed2cd540a11544ed4be381d471bbf590f0b745e/base/rational.jl#L298\" target=\"_blank\">rational.jl:298</a></li> <li> +(z::<b>Complex{Bool}</b>, x::<b>Bool</b>) in Base at <a href=\"https://github.com/JuliaLang/julia/tree/bed2cd540a11544ed4be381d471bbf590f0b745e/base/complex.jl#L303\" target=\"_blank\">complex.jl:303</a></li> <li> +(z::<b>Complex</b>, x::<b>Bool</b>) in Base at <a href=\"https://github.com/JuliaLang/julia/tree/bed2cd540a11544ed4be381d471bbf590f0b745e/base/complex.jl#L310\" target=\"_blank\">complex.jl:310</a></li> <li> +(z::<b>Complex{Bool}</b>, x::<b>Real</b>) in Base at <a href=\"https://github.com/JuliaLang/julia/tree/bed2cd540a11544ed4be381d471bbf590f0b745e/base/complex.jl#L317\" target=\"_blank\">complex.jl:317</a></li> <li> +(z::<b>Complex</b>) in Base at <a href=\"https://github.com/JuliaLang/julia/tree/bed2cd540a11544ed4be381d471bbf590f0b745e/base/complex.jl#L289\" target=\"_blank\">complex.jl:289</a></li> <li> +(x::<b>Number</b>, y::<b>Base.TwicePrecision</b>) in Base at <a href=\"https://github.com/JuliaLang/julia/tree/bed2cd540a11544ed4be381d471bbf590f0b745e/base/twiceprecision.jl#L294\" target=\"_blank\">twiceprecision.jl:294</a></li> <li> +(::<b>Number</b>, ::<b>Missing</b>) in Base at <a href=\"https://github.com/JuliaLang/julia/tree/bed2cd540a11544ed4be381d471bbf590f0b745e/base/missing.jl#L124\" target=\"_blank\">missing.jl:124</a></li> <li> +(x::<b>Number</b>, J::<b>LinearAlgebra.UniformScaling</b>) in LinearAlgebra at <a href=\"file://C:/workdir/usr/share/julia/stdlib/v1.9/LinearAlgebra/src/uniformscaling.jl\" target=\"_blank\">D:\\Programs\\Julia\\Julia-1.9.3\\share\\julia\\stdlib\\v1.9\\LinearAlgebra\\src\\uniformscaling.jl:145</a></li> <li> +(a::<b>Number</b>, b::<b>AbstractGray</b>) in ColorVectorSpace at <a href=\"file://C:/Users/ADMIN/.julia/packages/ColorVectorSpace/tLy1N/src/ColorVectorSpace.jl\" target=\"_blank\">C:\\Users\\ADMIN\\.julia\\packages\\ColorVectorSpace\\tLy1N\\src\\ColorVectorSpace.jl:323</a></li> <li> +(z::<b>Complex</b>, x::<b>Real</b>) in Base at <a href=\"https://github.com/JuliaLang/julia/tree/bed2cd540a11544ed4be381d471bbf590f0b745e/base/complex.jl#L329\" target=\"_blank\">complex.jl:329</a></li> <li> +(dt::<b>Dates.Date</b>, t::<b>Dates.Time</b>) in Dates at <a href=\"file://C:/workdir/usr/share/julia/stdlib/v1.9/Dates/src/arithmetic.jl\" target=\"_blank\">D:\\Programs\\Julia\\Julia-1.9.3\\share\\julia\\stdlib\\v1.9\\Dates\\src\\arithmetic.jl:19</a></li> <li> +(dt::<b>Dates.Date</b>, y::<b>Dates.Year</b>) in Dates at <a href=\"file://C:/workdir/usr/share/julia/stdlib/v1.9/Dates/src/arithmetic.jl\" target=\"_blank\">D:\\Programs\\Julia\\Julia-1.9.3\\share\\julia\\stdlib\\v1.9\\Dates\\src\\arithmetic.jl:27</a></li> <li> +(dt::<b>Dates.Date</b>, z::<b>Dates.Month</b>) in Dates at <a href=\"file://C:/workdir/usr/share/julia/stdlib/v1.9/Dates/src/arithmetic.jl\" target=\"_blank\">D:\\Programs\\Julia\\Julia-1.9.3\\share\\julia\\stdlib\\v1.9\\Dates\\src\\arithmetic.jl:54</a></li> <li> +(x::<b>Dates.Date</b>, y::<b>Dates.Quarter</b>) in Dates at <a href=\"file://C:/workdir/usr/share/julia/stdlib/v1.9/Dates/src/arithmetic.jl\" target=\"_blank\">D:\\Programs\\Julia\\Julia-1.9.3\\share\\julia\\stdlib\\v1.9\\Dates\\src\\arithmetic.jl:73</a></li> <li> +(x::<b>Dates.Date</b>, y::<b>Dates.Week</b>) in Dates at <a href=\"file://C:/workdir/usr/share/julia/stdlib/v1.9/Dates/src/arithmetic.jl\" target=\"_blank\">D:\\Programs\\Julia\\Julia-1.9.3\\share\\julia\\stdlib\\v1.9\\Dates\\src\\arithmetic.jl:77</a></li> <li> +(x::<b>Dates.Date</b>, y::<b>Dates.Day</b>) in Dates at <a href=\"file://C:/workdir/usr/share/julia/stdlib/v1.9/Dates/src/arithmetic.jl\" target=\"_blank\">D:\\Programs\\Julia\\Julia-1.9.3\\share\\julia\\stdlib\\v1.9\\Dates\\src\\arithmetic.jl:79</a></li> <li> +(::<b>Missing</b>) in Base at <a href=\"https://github.com/JuliaLang/julia/tree/bed2cd540a11544ed4be381d471bbf590f0b745e/base/missing.jl#L101\" target=\"_blank\">missing.jl:101</a></li> <li> +(::<b>Missing</b>, ::<b>Number</b>) in Base at <a href=\"https://github.com/JuliaLang/julia/tree/bed2cd540a11544ed4be381d471bbf590f0b745e/base/missing.jl#L123\" target=\"_blank\">missing.jl:123</a></li> <li> +(x::<b>Missing</b>, y::<b>Dates.AbstractTime</b>) in Dates at <a href=\"file://C:/workdir/usr/share/julia/stdlib/v1.9/Dates/src/arithmetic.jl\" target=\"_blank\">D:\\Programs\\Julia\\Julia-1.9.3\\share\\julia\\stdlib\\v1.9\\Dates\\src\\arithmetic.jl:89</a></li> <li> +(::<b>Missing</b>, ::<b>Missing</b>) in Base at <a href=\"https://github.com/JuliaLang/julia/tree/bed2cd540a11544ed4be381d471bbf590f0b745e/base/missing.jl#L122\" target=\"_blank\">missing.jl:122</a></li> <li> +(level::<b>Base.CoreLogging.LogLevel</b>, inc::<b>Integer</b>) in Base.CoreLogging at <a href=\"https://github.com/JuliaLang/julia/tree/bed2cd540a11544ed4be381d471bbf590f0b745e/base/logging.jl#L131\" target=\"_blank\">logging.jl:131</a></li> <li> +(dt::<b>Dates.DateTime</b>, y::<b>Dates.Year</b>) in Dates at <a href=\"file://C:/workdir/usr/share/julia/stdlib/v1.9/Dates/src/arithmetic.jl\" target=\"_blank\">D:\\Programs\\Julia\\Julia-1.9.3\\share\\julia\\stdlib\\v1.9\\Dates\\src\\arithmetic.jl:23</a></li> <li> +(dt::<b>Dates.DateTime</b>, z::<b>Dates.Month</b>) in Dates at <a href=\"file://C:/workdir/usr/share/julia/stdlib/v1.9/Dates/src/arithmetic.jl\" target=\"_blank\">D:\\Programs\\Julia\\Julia-1.9.3\\share\\julia\\stdlib\\v1.9\\Dates\\src\\arithmetic.jl:47</a></li> <li> +(x::<b>Dates.DateTime</b>, y::<b>Dates.Quarter</b>) in Dates at <a href=\"file://C:/workdir/usr/share/julia/stdlib/v1.9/Dates/src/arithmetic.jl\" target=\"_blank\">D:\\Programs\\Julia\\Julia-1.9.3\\share\\julia\\stdlib\\v1.9\\Dates\\src\\arithmetic.jl:75</a></li> <li> +(x::<b>Dates.DateTime</b>, y::<b>Dates.Period</b>) in Dates at <a href=\"file://C:/workdir/usr/share/julia/stdlib/v1.9/Dates/src/arithmetic.jl\" target=\"_blank\">D:\\Programs\\Julia\\Julia-1.9.3\\share\\julia\\stdlib\\v1.9\\Dates\\src\\arithmetic.jl:81</a></li> <li> +(x::<b>Dates.Time</b>, y::<b>Dates.TimePeriod</b>) in Dates at <a href=\"file://C:/workdir/usr/share/julia/stdlib/v1.9/Dates/src/arithmetic.jl\" target=\"_blank\">D:\\Programs\\Julia\\Julia-1.9.3\\share\\julia\\stdlib\\v1.9\\Dates\\src\\arithmetic.jl:83</a></li> <li> +(t::<b>Dates.Time</b>, dt::<b>Dates.Date</b>) in Dates at <a href=\"file://C:/workdir/usr/share/julia/stdlib/v1.9/Dates/src/arithmetic.jl\" target=\"_blank\">D:\\Programs\\Julia\\Julia-1.9.3\\share\\julia\\stdlib\\v1.9\\Dates\\src\\arithmetic.jl:20</a></li> <li> +(x::<b>Dates.TimeType</b>) in Dates at <a href=\"file://C:/workdir/usr/share/julia/stdlib/v1.9/Dates/src/arithmetic.jl\" target=\"_blank\">D:\\Programs\\Julia\\Julia-1.9.3\\share\\julia\\stdlib\\v1.9\\Dates\\src\\arithmetic.jl:8</a></li> <li> +(x::<b>Dates.AbstractTime</b>, y::<b>Missing</b>) in Dates at <a href=\"file://C:/workdir/usr/share/julia/stdlib/v1.9/Dates/src/arithmetic.jl\" target=\"_blank\">D:\\Programs\\Julia\\Julia-1.9.3\\share\\julia\\stdlib\\v1.9\\Dates\\src\\arithmetic.jl:88</a></li> <li> +(a::<b>Dates.TimeType</b>, b::<b>Dates.Period</b>, c::<b>Dates.Period</b>) in Dates at <a href=\"file://C:/workdir/usr/share/julia/stdlib/v1.9/Dates/src/periods.jl\" target=\"_blank\">D:\\Programs\\Julia\\Julia-1.9.3\\share\\julia\\stdlib\\v1.9\\Dates\\src\\periods.jl:353</a></li> <li> +(a::<b>Dates.TimeType</b>, b::<b>Dates.Period</b>, c::<b>Dates.Period</b>, d::<b>Dates.Period...</b>) in Dates at <a href=\"file://C:/workdir/usr/share/julia/stdlib/v1.9/Dates/src/periods.jl\" target=\"_blank\">D:\\Programs\\Julia\\Julia-1.9.3\\share\\julia\\stdlib\\v1.9\\Dates\\src\\periods.jl:354</a></li> <li> +(x::<b>Dates.TimeType</b>, y::<b>Dates.CompoundPeriod</b>) in Dates at <a href=\"file://C:/workdir/usr/share/julia/stdlib/v1.9/Dates/src/periods.jl\" target=\"_blank\">D:\\Programs\\Julia\\Julia-1.9.3\\share\\julia\\stdlib\\v1.9\\Dates\\src\\periods.jl:356</a></li> <li> +(B::<b>BitMatrix</b>, J::<b>LinearAlgebra.UniformScaling</b>) in LinearAlgebra at <a href=\"file://C:/workdir/usr/share/julia/stdlib/v1.9/LinearAlgebra/src/uniformscaling.jl\" target=\"_blank\">D:\\Programs\\Julia\\Julia-1.9.3\\share\\julia\\stdlib\\v1.9\\LinearAlgebra\\src\\uniformscaling.jl:151</a></li> <li> +(A::<b>AbstractMatrix</b>, J::<b>LinearAlgebra.UniformScaling</b>) in LinearAlgebra at <a href=\"file://C:/workdir/usr/share/julia/stdlib/v1.9/LinearAlgebra/src/uniformscaling.jl\" target=\"_blank\">D:\\Programs\\Julia\\Julia-1.9.3\\share\\julia\\stdlib\\v1.9\\LinearAlgebra\\src\\uniformscaling.jl:214</a></li> <li> +(x::<b>AbstractArray{<:Number}</b>) in Base at <a href=\"https://github.com/JuliaLang/julia/tree/bed2cd540a11544ed4be381d471bbf590f0b745e/base/abstractarraymath.jl#L220\" target=\"_blank\">abstractarraymath.jl:220</a></li> <li> +(x::<b>Dates.CompoundPeriod</b>, y::<b>Dates.Period</b>) in Dates at <a href=\"file://C:/workdir/usr/share/julia/stdlib/v1.9/Dates/src/periods.jl\" target=\"_blank\">D:\\Programs\\Julia\\Julia-1.9.3\\share\\julia\\stdlib\\v1.9\\Dates\\src\\periods.jl:332</a></li> <li> +(x::<b>Dates.CompoundPeriod</b>, y::<b>Dates.TimeType</b>) in Dates at <a href=\"file://C:/workdir/usr/share/julia/stdlib/v1.9/Dates/src/periods.jl\" target=\"_blank\">D:\\Programs\\Julia\\Julia-1.9.3\\share\\julia\\stdlib\\v1.9\\Dates\\src\\periods.jl:362</a></li> <li> +(x::<b>Dates.CompoundPeriod</b>, y::<b>Dates.CompoundPeriod</b>) in Dates at <a href=\"file://C:/workdir/usr/share/julia/stdlib/v1.9/Dates/src/periods.jl\" target=\"_blank\">D:\\Programs\\Julia\\Julia-1.9.3\\share\\julia\\stdlib\\v1.9\\Dates\\src\\periods.jl:334</a></li> <li> +(x::<b>BigFloat</b>, c::<b>Union{UInt16, UInt32, UInt8}</b>) in Base.MPFR at <a href=\"https://github.com/JuliaLang/julia/tree/bed2cd540a11544ed4be381d471bbf590f0b745e/base/mpfr.jl#L402\" target=\"_blank\">mpfr.jl:402</a></li> <li> +(x::<b>BigFloat</b>, c::<b>Union{Int16, Int32, Int8}</b>) in Base.MPFR at <a href=\"https://github.com/JuliaLang/julia/tree/bed2cd540a11544ed4be381d471bbf590f0b745e/base/mpfr.jl#L410\" target=\"_blank\">mpfr.jl:410</a></li> <li> +(x::<b>BigFloat</b>, c::<b>Union{Float16, Float32, Float64}</b>) in Base.MPFR at <a href=\"https://github.com/JuliaLang/julia/tree/bed2cd540a11544ed4be381d471bbf590f0b745e/base/mpfr.jl#L418\" target=\"_blank\">mpfr.jl:418</a></li> <li> +(x::<b>BigFloat</b>, y::<b>BigFloat</b>) in Base.MPFR at <a href=\"https://github.com/JuliaLang/julia/tree/bed2cd540a11544ed4be381d471bbf590f0b745e/base/mpfr.jl#L395\" target=\"_blank\">mpfr.jl:395</a></li> <li> +(x::<b>BigFloat</b>, c::<b>BigInt</b>) in Base.MPFR at <a href=\"https://github.com/JuliaLang/julia/tree/bed2cd540a11544ed4be381d471bbf590f0b745e/base/mpfr.jl#L426\" target=\"_blank\">mpfr.jl:426</a></li> <li> +(a::<b>BigFloat</b>, b::<b>BigFloat</b>, c::<b>BigFloat</b>) in Base.MPFR at <a href=\"https://github.com/JuliaLang/julia/tree/bed2cd540a11544ed4be381d471bbf590f0b745e/base/mpfr.jl#L567\" target=\"_blank\">mpfr.jl:567</a></li> <li> +(a::<b>BigFloat</b>, b::<b>BigFloat</b>, c::<b>BigFloat</b>, d::<b>BigFloat</b>) in Base.MPFR at <a href=\"https://github.com/JuliaLang/julia/tree/bed2cd540a11544ed4be381d471bbf590f0b745e/base/mpfr.jl#L573\" target=\"_blank\">mpfr.jl:573</a></li> <li> +(a::<b>BigFloat</b>, b::<b>BigFloat</b>, c::<b>BigFloat</b>, d::<b>BigFloat</b>, e::<b>BigFloat</b>) in Base.MPFR at <a href=\"https://github.com/JuliaLang/julia/tree/bed2cd540a11544ed4be381d471bbf590f0b745e/base/mpfr.jl#L580\" target=\"_blank\">mpfr.jl:580</a></li> <li> +(x::<b>Number</b>) in Base at <a href=\"https://github.com/JuliaLang/julia/tree/bed2cd540a11544ed4be381d471bbf590f0b745e/base/operators.jl#L515\" target=\"_blank\">operators.jl:515</a></li> <li> +(x::<b>T</b>, y::<b>T</b>)<i> where T<:Number</i> in Base at <a href=\"https://github.com/JuliaLang/julia/tree/bed2cd540a11544ed4be381d471bbf590f0b745e/base/promotion.jl#L485\" target=\"_blank\">promotion.jl:485</a></li> <li> +(x::<b>Number</b>, y::<b>Number</b>) in Base at <a href=\"https://github.com/JuliaLang/julia/tree/bed2cd540a11544ed4be381d471bbf590f0b745e/base/promotion.jl#L410\" target=\"_blank\">promotion.jl:410</a></li> <li> +(a, b, c, xs...) in Base at <a href=\"https://github.com/JuliaLang/julia/tree/bed2cd540a11544ed4be381d471bbf590f0b745e/base/operators.jl#L578\" target=\"_blank\">operators.jl:578</a></li> </ul>"
      ],
      "text/plain": [
       "# 228 methods for generic function \"+\" from \u001b[90mBase\u001b[39m:\n",
       "   [1] +(\u001b[90mx\u001b[39m::\u001b[1mT\u001b[22m, \u001b[90my\u001b[39m::\u001b[1mT\u001b[22m) where T<:Union{Int128, Int16, Int32, Int64, Int8, UInt128, UInt16, UInt32, UInt64, UInt8}\n",
       "\u001b[90m     @\u001b[39m \u001b[90m\u001b[4mint.jl:87\u001b[24m\u001b[39m\n",
       "   [2] +(\u001b[90mx\u001b[39m::\u001b[1mT\u001b[22m, \u001b[90my\u001b[39m::\u001b[1mT\u001b[22m) where T<:Union{Float16, Float32, Float64}\n",
       "\u001b[90m     @\u001b[39m \u001b[90m\u001b[4mfloat.jl:408\u001b[24m\u001b[39m\n",
       "   [3] +(\u001b[90mc\u001b[39m::\u001b[1mUnion\u001b[22m\u001b[0m{UInt16, UInt32, UInt8}, \u001b[90mx\u001b[39m::\u001b[1mBigInt\u001b[22m)\n",
       "\u001b[90m     @\u001b[39m \u001b[90mBase.GMP\u001b[39m \u001b[90m\u001b[4mgmp.jl:539\u001b[24m\u001b[39m\n",
       "   [4] +(\u001b[90mc\u001b[39m::\u001b[1mUnion\u001b[22m\u001b[0m{Int16, Int32, Int8}, \u001b[90mx\u001b[39m::\u001b[1mBigInt\u001b[22m)\n",
       "\u001b[90m     @\u001b[39m \u001b[90mBase.GMP\u001b[39m \u001b[90m\u001b[4mgmp.jl:545\u001b[24m\u001b[39m\n",
       "   [5] +(\u001b[90mc\u001b[39m::\u001b[1mUnion\u001b[22m\u001b[0m{UInt16, UInt32, UInt8}, \u001b[90mx\u001b[39m::\u001b[1mBigFloat\u001b[22m)\n",
       "\u001b[90m     @\u001b[39m \u001b[90mBase.MPFR\u001b[39m \u001b[90m\u001b[4mmpfr.jl:407\u001b[24m\u001b[39m\n",
       "   [6] +(\u001b[90mc\u001b[39m::\u001b[1mUnion\u001b[22m\u001b[0m{Int16, Int32, Int8}, \u001b[90mx\u001b[39m::\u001b[1mBigFloat\u001b[22m)\n",
       "\u001b[90m     @\u001b[39m \u001b[90mBase.MPFR\u001b[39m \u001b[90m\u001b[4mmpfr.jl:415\u001b[24m\u001b[39m\n",
       "   [7] +(\u001b[90mc\u001b[39m::\u001b[1mUnion\u001b[22m\u001b[0m{Float16, Float32, Float64}, \u001b[90mx\u001b[39m::\u001b[1mBigFloat\u001b[22m)\n",
       "\u001b[90m     @\u001b[39m \u001b[90mBase.MPFR\u001b[39m \u001b[90m\u001b[4mmpfr.jl:423\u001b[24m\u001b[39m\n",
       "   [8] +(\u001b[90mx\u001b[39m::\u001b[1mUnion\u001b[22m\u001b[0m{Dates.CompoundPeriod, Dates.Period})\n",
       "\u001b[90m     @\u001b[39m \u001b[35mDates\u001b[39m \u001b[90mD:\\Programs\\Julia\\Julia-1.9.3\\share\\julia\\stdlib\\v1.9\\Dates\\src\\\u001b[39m\u001b[90m\u001b[4mperiods.jl:342\u001b[24m\u001b[39m\n",
       "   [9] +(\u001b[90ma\u001b[39m::\u001b[1mUnion\u001b[22m\u001b[0m{LMS, XYZ}, \u001b[90mb\u001b[39m::\u001b[1mUnion\u001b[22m\u001b[0m{LMS, XYZ})\n",
       "\u001b[90m     @\u001b[39m \u001b[33mColors\u001b[39m \u001b[90mC:\\Users\\ADMIN\\.julia\\packages\\Colors\\mIuXl\\src\\\u001b[39m\u001b[90m\u001b[4malgorithms.jl:4\u001b[24m\u001b[39m\n",
       "  [10] +(\u001b[90mJ\u001b[39m::\u001b[1mLinearAlgebra.UniformScaling\u001b[22m)\n",
       "\u001b[90m     @\u001b[39m \u001b[32mLinearAlgebra\u001b[39m \u001b[90mD:\\Programs\\Julia\\Julia-1.9.3\\share\\julia\\stdlib\\v1.9\\LinearAlgebra\\src\\\u001b[39m\u001b[90m\u001b[4muniformscaling.jl:149\u001b[24m\u001b[39m\n",
       "  [11] +(\u001b[90mJ\u001b[39m::\u001b[1mLinearAlgebra.UniformScaling\u001b[22m, \u001b[90mx\u001b[39m::\u001b[1mNumber\u001b[22m)\n",
       "\u001b[90m     @\u001b[39m \u001b[32mLinearAlgebra\u001b[39m \u001b[90mD:\\Programs\\Julia\\Julia-1.9.3\\share\\julia\\stdlib\\v1.9\\LinearAlgebra\\src\\\u001b[39m\u001b[90m\u001b[4muniformscaling.jl:144\u001b[24m\u001b[39m\n",
       "  [12] +(\u001b[90mJ1\u001b[39m::\u001b[1mLinearAlgebra.UniformScaling\u001b[22m, \u001b[90mJ2\u001b[39m::\u001b[1mLinearAlgebra.UniformScaling\u001b[22m)\n",
       "\u001b[90m     @\u001b[39m \u001b[32mLinearAlgebra\u001b[39m \u001b[90mD:\\Programs\\Julia\\Julia-1.9.3\\share\\julia\\stdlib\\v1.9\\LinearAlgebra\\src\\\u001b[39m\u001b[90m\u001b[4muniformscaling.jl:150\u001b[24m\u001b[39m\n",
       "  [13] +(\u001b[90mJ\u001b[39m::\u001b[1mLinearAlgebra.UniformScaling\u001b[22m, \u001b[90mB\u001b[39m::\u001b[1mBitMatrix\u001b[22m)\n",
       "\u001b[90m     @\u001b[39m \u001b[32mLinearAlgebra\u001b[39m \u001b[90mD:\\Programs\\Julia\\Julia-1.9.3\\share\\julia\\stdlib\\v1.9\\LinearAlgebra\\src\\\u001b[39m\u001b[90m\u001b[4muniformscaling.jl:152\u001b[24m\u001b[39m\n",
       "  [14] +(\u001b[90mx\u001b[39m::\u001b[1mLinearAlgebra.UniformScaling\u001b[22m, \u001b[90mH\u001b[39m::\u001b[1mLinearAlgebra.UpperHessenberg\u001b[22m)\n",
       "\u001b[90m     @\u001b[39m \u001b[32mLinearAlgebra\u001b[39m \u001b[90mD:\\Programs\\Julia\\Julia-1.9.3\\share\\julia\\stdlib\\v1.9\\LinearAlgebra\\src\\\u001b[39m\u001b[90m\u001b[4mhessenberg.jl:112\u001b[24m\u001b[39m\n",
       "  [15] +(\u001b[90mJ\u001b[39m::\u001b[1mLinearAlgebra.UniformScaling\u001b[22m, \u001b[90mF\u001b[39m::\u001b[1mLinearAlgebra.Hessenberg\u001b[22m)\n",
       "\u001b[90m     @\u001b[39m \u001b[32mLinearAlgebra\u001b[39m \u001b[90mD:\\Programs\\Julia\\Julia-1.9.3\\share\\julia\\stdlib\\v1.9\\LinearAlgebra\\src\\\u001b[39m\u001b[90m\u001b[4mhessenberg.jl:648\u001b[24m\u001b[39m\n",
       "  [16] +(\u001b[90mA\u001b[39m::\u001b[1mLinearAlgebra.UniformScaling\u001b[22m, \u001b[90mB\u001b[39m::\u001b[1mLinearAlgebra.Tridiagonal\u001b[22m\u001b[0m{var\"#s972\", V} where {var\"#s972\"<:Number, V<:AbstractVector{var\"#s972\"}})\n",
       "\u001b[90m     @\u001b[39m \u001b[32mLinearAlgebra\u001b[39m \u001b[90mD:\\Programs\\Julia\\Julia-1.9.3\\share\\julia\\stdlib\\v1.9\\LinearAlgebra\\src\\\u001b[39m\u001b[90m\u001b[4mspecial.jl:250\u001b[24m\u001b[39m\n",
       "  [17] +(\u001b[90mA\u001b[39m::\u001b[1mLinearAlgebra.UniformScaling\u001b[22m, \u001b[90mB\u001b[39m::\u001b[1mLinearAlgebra.SymTridiagonal\u001b[22m\u001b[0m{var\"#s972\", V} where {var\"#s972\"<:Number, V<:AbstractVector{var\"#s972\"}})\n",
       "\u001b[90m     @\u001b[39m \u001b[32mLinearAlgebra\u001b[39m \u001b[90mD:\\Programs\\Julia\\Julia-1.9.3\\share\\julia\\stdlib\\v1.9\\LinearAlgebra\\src\\\u001b[39m\u001b[90m\u001b[4mspecial.jl:255\u001b[24m\u001b[39m\n",
       "  [18] +(\u001b[90mA\u001b[39m::\u001b[1mLinearAlgebra.UniformScaling\u001b[22m, \u001b[90mB\u001b[39m::\u001b[1mLinearAlgebra.Bidiagonal\u001b[22m\u001b[0m{var\"#s972\", V} where {var\"#s972\"<:Number, V<:AbstractVector{var\"#s972\"}})\n",
       "\u001b[90m     @\u001b[39m \u001b[32mLinearAlgebra\u001b[39m \u001b[90mD:\\Programs\\Julia\\Julia-1.9.3\\share\\julia\\stdlib\\v1.9\\LinearAlgebra\\src\\\u001b[39m\u001b[90m\u001b[4mspecial.jl:260\u001b[24m\u001b[39m\n",
       "  [19] +(\u001b[90mA\u001b[39m::\u001b[1mLinearAlgebra.UniformScaling\u001b[22m, \u001b[90mB\u001b[39m::\u001b[1mLinearAlgebra.Diagonal\u001b[22m\u001b[0m{var\"#s972\", V} where {var\"#s972\"<:Number, V<:AbstractVector{var\"#s972\"}})\n",
       "\u001b[90m     @\u001b[39m \u001b[32mLinearAlgebra\u001b[39m \u001b[90mD:\\Programs\\Julia\\Julia-1.9.3\\share\\julia\\stdlib\\v1.9\\LinearAlgebra\\src\\\u001b[39m\u001b[90m\u001b[4mspecial.jl:265\u001b[24m\u001b[39m\n",
       "  [20] +(\u001b[90mJ\u001b[39m::\u001b[1mLinearAlgebra.UniformScaling\u001b[22m\u001b[0m{T}, \u001b[90mA\u001b[39m::\u001b[1mSparseArrays.AbstractSparseMatrixCSC\u001b[22m\u001b[0m{Tv, Ti}) where {T<:Number, Tv, Ti}\n",
       "\u001b[90m     @\u001b[39m \u001b[36mSparseArrays\u001b[39m \u001b[90mD:\\Programs\\Julia\\Julia-1.9.3\\share\\julia\\stdlib\\v1.9\\SparseArrays\\src\\\u001b[39m\u001b[90m\u001b[4msparsematrix.jl:4100\u001b[24m\u001b[39m\n",
       "  [21] +(\u001b[90mJ\u001b[39m::\u001b[1mLinearAlgebra.UniformScaling\u001b[22m, \u001b[90mA\u001b[39m::\u001b[1mAbstractMatrix\u001b[22m)\n",
       "\u001b[90m     @\u001b[39m \u001b[32mLinearAlgebra\u001b[39m \u001b[90mD:\\Programs\\Julia\\Julia-1.9.3\\share\\julia\\stdlib\\v1.9\\LinearAlgebra\\src\\\u001b[39m\u001b[90m\u001b[4muniformscaling.jl:153\u001b[24m\u001b[39m\n",
       "  [22] +(\u001b[90ma\u001b[39m::\u001b[1mTransparentGray\u001b[22m, \u001b[90mb\u001b[39m::\u001b[1mTransparentGray\u001b[22m)\n",
       "\u001b[90m     @\u001b[39m \u001b[32mColorVectorSpace\u001b[39m \u001b[90mC:\\Users\\ADMIN\\.julia\\packages\\ColorVectorSpace\\tLy1N\\src\\\u001b[39m\u001b[90m\u001b[4mColorVectorSpace.jl:312\u001b[24m\u001b[39m\n",
       "  [23] +(\u001b[90ma\u001b[39m::\u001b[1mTransparentColor\u001b[22m\u001b[0m{C, T, 4} where {C<:AbstractRGB, T}, \u001b[90mb\u001b[39m::\u001b[1mTransparentColor\u001b[22m\u001b[0m{C, T, 4} where {C<:AbstractRGB, T})\n",
       "\u001b[90m     @\u001b[39m \u001b[32mColorVectorSpace\u001b[39m \u001b[90mC:\\Users\\ADMIN\\.julia\\packages\\ColorVectorSpace\\tLy1N\\src\\\u001b[39m\u001b[90m\u001b[4mColorVectorSpace.jl:274\u001b[24m\u001b[39m\n",
       "  [24] +(\u001b[90mc\u001b[39m::\u001b[1mUnion\u001b[22m\u001b[0m{TransparentColor{C, Bool}, C} where C<:Union{AbstractRGB{Bool}, AbstractGray{Bool}})\n",
       "\u001b[90m     @\u001b[39m \u001b[32mColorVectorSpace\u001b[39m \u001b[90mC:\\Users\\ADMIN\\.julia\\packages\\ColorVectorSpace\\tLy1N\\src\\\u001b[39m\u001b[90m\u001b[4mColorVectorSpace.jl:250\u001b[24m\u001b[39m\n",
       "  [25] +(\u001b[90ma\u001b[39m::\u001b[1mAbstractRGB\u001b[22m, \u001b[90mb\u001b[39m::\u001b[1mAbstractRGB\u001b[22m)\n",
       "\u001b[90m     @\u001b[39m \u001b[32mColorVectorSpace\u001b[39m \u001b[90mC:\\Users\\ADMIN\\.julia\\packages\\ColorVectorSpace\\tLy1N\\src\\\u001b[39m\u001b[90m\u001b[4mColorVectorSpace.jl:272\u001b[24m\u001b[39m\n",
       "  [26] +(\u001b[90mA\u001b[39m::\u001b[1mLinearAlgebra.UpperTriangular\u001b[22m, \u001b[90mB\u001b[39m::\u001b[1mLinearAlgebra.UpperTriangular\u001b[22m)\n",
       "\u001b[90m     @\u001b[39m \u001b[32mLinearAlgebra\u001b[39m \u001b[90mD:\\Programs\\Julia\\Julia-1.9.3\\share\\julia\\stdlib\\v1.9\\LinearAlgebra\\src\\\u001b[39m\u001b[90m\u001b[4mtriangular.jl:642\u001b[24m\u001b[39m\n",
       "  [27] +(\u001b[90mA\u001b[39m::\u001b[1mLinearAlgebra.UpperTriangular\u001b[22m, \u001b[90mB\u001b[39m::\u001b[1mLinearAlgebra.UnitUpperTriangular\u001b[22m)\n",
       "\u001b[90m     @\u001b[39m \u001b[32mLinearAlgebra\u001b[39m \u001b[90mD:\\Programs\\Julia\\Julia-1.9.3\\share\\julia\\stdlib\\v1.9\\LinearAlgebra\\src\\\u001b[39m\u001b[90m\u001b[4mtriangular.jl:644\u001b[24m\u001b[39m\n",
       "  [28] +(\u001b[90mx\u001b[39m::\u001b[1mLinearAlgebra.UpperTriangular\u001b[22m, \u001b[90mH\u001b[39m::\u001b[1mLinearAlgebra.UpperHessenberg\u001b[22m)\n",
       "\u001b[90m     @\u001b[39m \u001b[32mLinearAlgebra\u001b[39m \u001b[90mD:\\Programs\\Julia\\Julia-1.9.3\\share\\julia\\stdlib\\v1.9\\LinearAlgebra\\src\\\u001b[39m\u001b[90m\u001b[4mhessenberg.jl:112\u001b[24m\u001b[39m\n",
       "  [29] +(\u001b[90mA\u001b[39m::\u001b[1mLinearAlgebra.UpperTriangular\u001b[22m, \u001b[90mB\u001b[39m::\u001b[1mLinearAlgebra.Bidiagonal\u001b[22m)\n",
       "\u001b[90m     @\u001b[39m \u001b[32mLinearAlgebra\u001b[39m \u001b[90mD:\\Programs\\Julia\\Julia-1.9.3\\share\\julia\\stdlib\\v1.9\\LinearAlgebra\\src\\\u001b[39m\u001b[90m\u001b[4mspecial.jl:91\u001b[24m\u001b[39m\n",
       "  [30] +(\u001b[90mA\u001b[39m::\u001b[1mLinearAlgebra.LowerTriangular\u001b[22m, \u001b[90mB\u001b[39m::\u001b[1mLinearAlgebra.LowerTriangular\u001b[22m)\n",
       "\u001b[90m     @\u001b[39m \u001b[32mLinearAlgebra\u001b[39m \u001b[90mD:\\Programs\\Julia\\Julia-1.9.3\\share\\julia\\stdlib\\v1.9\\LinearAlgebra\\src\\\u001b[39m\u001b[90m\u001b[4mtriangular.jl:643\u001b[24m\u001b[39m\n",
       "  [31] +(\u001b[90mA\u001b[39m::\u001b[1mLinearAlgebra.LowerTriangular\u001b[22m, \u001b[90mB\u001b[39m::\u001b[1mLinearAlgebra.UnitLowerTriangular\u001b[22m)\n",
       "\u001b[90m     @\u001b[39m \u001b[32mLinearAlgebra\u001b[39m \u001b[90mD:\\Programs\\Julia\\Julia-1.9.3\\share\\julia\\stdlib\\v1.9\\LinearAlgebra\\src\\\u001b[39m\u001b[90m\u001b[4mtriangular.jl:645\u001b[24m\u001b[39m\n",
       "  [32] +(\u001b[90mA\u001b[39m::\u001b[1mLinearAlgebra.LowerTriangular\u001b[22m, \u001b[90mB\u001b[39m::\u001b[1mLinearAlgebra.Bidiagonal\u001b[22m)\n",
       "\u001b[90m     @\u001b[39m \u001b[32mLinearAlgebra\u001b[39m \u001b[90mD:\\Programs\\Julia\\Julia-1.9.3\\share\\julia\\stdlib\\v1.9\\LinearAlgebra\\src\\\u001b[39m\u001b[90m\u001b[4mspecial.jl:91\u001b[24m\u001b[39m\n",
       "  [33] +(\u001b[90mx\u001b[39m::\u001b[1mRational\u001b[22m, \u001b[90my\u001b[39m::\u001b[1mInteger\u001b[22m)\n",
       "\u001b[90m     @\u001b[39m \u001b[90m\u001b[4mrational.jl:327\u001b[24m\u001b[39m\n",
       "  [34] +(\u001b[90mF\u001b[39m::\u001b[1mLinearAlgebra.Hessenberg\u001b[22m, \u001b[90mJ\u001b[39m::\u001b[1mLinearAlgebra.UniformScaling\u001b[22m)\n",
       "\u001b[90m     @\u001b[39m \u001b[32mLinearAlgebra\u001b[39m \u001b[90mD:\\Programs\\Julia\\Julia-1.9.3\\share\\julia\\stdlib\\v1.9\\LinearAlgebra\\src\\\u001b[39m\u001b[90m\u001b[4mhessenberg.jl:647\u001b[24m\u001b[39m\n",
       "  [35] +(\u001b[90mA\u001b[39m::\u001b[1mLinearAlgebra.UnitLowerTriangular\u001b[22m, \u001b[90mB\u001b[39m::\u001b[1mLinearAlgebra.LowerTriangular\u001b[22m)\n",
       "\u001b[90m     @\u001b[39m \u001b[32mLinearAlgebra\u001b[39m \u001b[90mD:\\Programs\\Julia\\Julia-1.9.3\\share\\julia\\stdlib\\v1.9\\LinearAlgebra\\src\\\u001b[39m\u001b[90m\u001b[4mtriangular.jl:647\u001b[24m\u001b[39m\n",
       "  [36] +(\u001b[90mA\u001b[39m::\u001b[1mLinearAlgebra.UnitLowerTriangular\u001b[22m, \u001b[90mB\u001b[39m::\u001b[1mLinearAlgebra.UnitLowerTriangular\u001b[22m)\n",
       "\u001b[90m     @\u001b[39m \u001b[32mLinearAlgebra\u001b[39m \u001b[90mD:\\Programs\\Julia\\Julia-1.9.3\\share\\julia\\stdlib\\v1.9\\LinearAlgebra\\src\\\u001b[39m\u001b[90m\u001b[4mtriangular.jl:649\u001b[24m\u001b[39m\n",
       "  [37] +(\u001b[90mUL\u001b[39m::\u001b[1mLinearAlgebra.UnitLowerTriangular\u001b[22m, \u001b[90mJ\u001b[39m::\u001b[1mLinearAlgebra.UniformScaling\u001b[22m)\n",
       "\u001b[90m     @\u001b[39m \u001b[32mLinearAlgebra\u001b[39m \u001b[90mD:\\Programs\\Julia\\Julia-1.9.3\\share\\julia\\stdlib\\v1.9\\LinearAlgebra\\src\\\u001b[39m\u001b[90m\u001b[4muniformscaling.jl:181\u001b[24m\u001b[39m\n",
       "  [38] +(\u001b[90mA\u001b[39m::\u001b[1mLinearAlgebra.UnitLowerTriangular\u001b[22m, \u001b[90mB\u001b[39m::\u001b[1mLinearAlgebra.Bidiagonal\u001b[22m)\n",
       "\u001b[90m     @\u001b[39m \u001b[32mLinearAlgebra\u001b[39m \u001b[90mD:\\Programs\\Julia\\Julia-1.9.3\\share\\julia\\stdlib\\v1.9\\LinearAlgebra\\src\\\u001b[39m\u001b[90m\u001b[4mspecial.jl:91\u001b[24m\u001b[39m\n",
       "  [39] +(\u001b[90mA\u001b[39m::\u001b[1mLinearAlgebra.Bidiagonal\u001b[22m, \u001b[90mB\u001b[39m::\u001b[1mLinearAlgebra.Bidiagonal\u001b[22m)\n",
       "\u001b[90m     @\u001b[39m \u001b[32mLinearAlgebra\u001b[39m \u001b[90mD:\\Programs\\Julia\\Julia-1.9.3\\share\\julia\\stdlib\\v1.9\\LinearAlgebra\\src\\\u001b[39m\u001b[90m\u001b[4mbidiag.jl:374\u001b[24m\u001b[39m\n",
       "  [40] +(\u001b[90mx\u001b[39m::\u001b[1mLinearAlgebra.Bidiagonal\u001b[22m, \u001b[90mH\u001b[39m::\u001b[1mLinearAlgebra.UpperHessenberg\u001b[22m)\n",
       "\u001b[90m     @\u001b[39m \u001b[32mLinearAlgebra\u001b[39m \u001b[90mD:\\Programs\\Julia\\Julia-1.9.3\\share\\julia\\stdlib\\v1.9\\LinearAlgebra\\src\\\u001b[39m\u001b[90m\u001b[4mhessenberg.jl:112\u001b[24m\u001b[39m\n",
       "  [41] +(\u001b[90mA\u001b[39m::\u001b[1mLinearAlgebra.Bidiagonal\u001b[22m, \u001b[90mB\u001b[39m::\u001b[1mLinearAlgebra.UpperTriangular\u001b[22m)\n",
       "\u001b[90m     @\u001b[39m \u001b[32mLinearAlgebra\u001b[39m \u001b[90mD:\\Programs\\Julia\\Julia-1.9.3\\share\\julia\\stdlib\\v1.9\\LinearAlgebra\\src\\\u001b[39m\u001b[90m\u001b[4mspecial.jl:99\u001b[24m\u001b[39m\n",
       "  [42] +(\u001b[90mA\u001b[39m::\u001b[1mLinearAlgebra.Bidiagonal\u001b[22m, \u001b[90mB\u001b[39m::\u001b[1mLinearAlgebra.UnitUpperTriangular\u001b[22m)\n",
       "\u001b[90m     @\u001b[39m \u001b[32mLinearAlgebra\u001b[39m \u001b[90mD:\\Programs\\Julia\\Julia-1.9.3\\share\\julia\\stdlib\\v1.9\\LinearAlgebra\\src\\\u001b[39m\u001b[90m\u001b[4mspecial.jl:99\u001b[24m\u001b[39m\n",
       "  [43] +(\u001b[90mA\u001b[39m::\u001b[1mLinearAlgebra.Bidiagonal\u001b[22m, \u001b[90mB\u001b[39m::\u001b[1mLinearAlgebra.LowerTriangular\u001b[22m)\n",
       "\u001b[90m     @\u001b[39m \u001b[32mLinearAlgebra\u001b[39m \u001b[90mD:\\Programs\\Julia\\Julia-1.9.3\\share\\julia\\stdlib\\v1.9\\LinearAlgebra\\src\\\u001b[39m\u001b[90m\u001b[4mspecial.jl:99\u001b[24m\u001b[39m\n",
       "  [44] +(\u001b[90mA\u001b[39m::\u001b[1mLinearAlgebra.Bidiagonal\u001b[22m, \u001b[90mB\u001b[39m::\u001b[1mLinearAlgebra.UnitLowerTriangular\u001b[22m)\n",
       "\u001b[90m     @\u001b[39m \u001b[32mLinearAlgebra\u001b[39m \u001b[90mD:\\Programs\\Julia\\Julia-1.9.3\\share\\julia\\stdlib\\v1.9\\LinearAlgebra\\src\\\u001b[39m\u001b[90m\u001b[4mspecial.jl:99\u001b[24m\u001b[39m\n",
       "  [45] +(\u001b[90mA\u001b[39m::\u001b[1mLinearAlgebra.Bidiagonal\u001b[22m, \u001b[90mB\u001b[39m::\u001b[1mLinearAlgebra.Diagonal\u001b[22m)\n",
       "\u001b[90m     @\u001b[39m \u001b[32mLinearAlgebra\u001b[39m \u001b[90mD:\\Programs\\Julia\\Julia-1.9.3\\share\\julia\\stdlib\\v1.9\\LinearAlgebra\\src\\\u001b[39m\u001b[90m\u001b[4mspecial.jl:120\u001b[24m\u001b[39m\n",
       "  [46] +(\u001b[90mA\u001b[39m::\u001b[1mLinearAlgebra.Bidiagonal\u001b[22m, \u001b[90mB\u001b[39m::\u001b[1mLinearAlgebra.Tridiagonal\u001b[22m)\n",
       "\u001b[90m     @\u001b[39m \u001b[32mLinearAlgebra\u001b[39m \u001b[90mD:\\Programs\\Julia\\Julia-1.9.3\\share\\julia\\stdlib\\v1.9\\LinearAlgebra\\src\\\u001b[39m\u001b[90m\u001b[4mspecial.jl:188\u001b[24m\u001b[39m\n",
       "  [47] +(\u001b[90mA\u001b[39m::\u001b[1mLinearAlgebra.Bidiagonal\u001b[22m, \u001b[90mB\u001b[39m::\u001b[1mLinearAlgebra.SymTridiagonal\u001b[22m)\n",
       "\u001b[90m     @\u001b[39m \u001b[32mLinearAlgebra\u001b[39m \u001b[90mD:\\Programs\\Julia\\Julia-1.9.3\\share\\julia\\stdlib\\v1.9\\LinearAlgebra\\src\\\u001b[39m\u001b[90m\u001b[4mspecial.jl:208\u001b[24m\u001b[39m\n",
       "  [48] +(\u001b[90mA\u001b[39m::\u001b[1mLinearAlgebra.Bidiagonal\u001b[22m\u001b[0m{var\"#s972\", V} where {var\"#s972\"<:Number, V<:AbstractVector{var\"#s972\"}}, \u001b[90mB\u001b[39m::\u001b[1mLinearAlgebra.UniformScaling\u001b[22m)\n",
       "\u001b[90m     @\u001b[39m \u001b[32mLinearAlgebra\u001b[39m \u001b[90mD:\\Programs\\Julia\\Julia-1.9.3\\share\\julia\\stdlib\\v1.9\\LinearAlgebra\\src\\\u001b[39m\u001b[90m\u001b[4mspecial.jl:241\u001b[24m\u001b[39m\n",
       "  [49] +(\u001b[90mx\u001b[39m::\u001b[1mX\u001b[22m, \u001b[90my\u001b[39m::\u001b[1mX\u001b[22m) where X<:FixedPointNumbers.FixedPoint\n",
       "\u001b[90m     @\u001b[39m \u001b[35mFixedPointNumbers\u001b[39m \u001b[90mC:\\Users\\ADMIN\\.julia\\packages\\FixedPointNumbers\\HAGk2\\src\\\u001b[39m\u001b[90m\u001b[4mFixedPointNumbers.jl:237\u001b[24m\u001b[39m\n",
       "  [50] +(\u001b[90mA\u001b[39m::\u001b[1mSparseArrays.AbstractSparseMatrixCSC\u001b[22m, \u001b[90mB\u001b[39m::\u001b[1mSparseArrays.AbstractSparseMatrixCSC\u001b[22m)\n",
       "\u001b[90m     @\u001b[39m \u001b[36mSparseArrays\u001b[39m \u001b[90mD:\\Programs\\Julia\\Julia-1.9.3\\share\\julia\\stdlib\\v1.9\\SparseArrays\\src\\\u001b[39m\u001b[90m\u001b[4msparsematrix.jl:2065\u001b[24m\u001b[39m\n",
       "  [51] +(\u001b[90mA\u001b[39m::\u001b[1mSparseArrays.AbstractSparseMatrixCSC\u001b[22m, \u001b[90mB\u001b[39m::\u001b[1mArray\u001b[22m)\n",
       "\u001b[90m     @\u001b[39m \u001b[36mSparseArrays\u001b[39m \u001b[90mD:\\Programs\\Julia\\Julia-1.9.3\\share\\julia\\stdlib\\v1.9\\SparseArrays\\src\\\u001b[39m\u001b[90m\u001b[4msparsematrix.jl:2068\u001b[24m\u001b[39m\n",
       "  [52] +(\u001b[90mA\u001b[39m::\u001b[1mSparseArrays.AbstractSparseMatrixCSC\u001b[22m\u001b[0m{Tv, Ti}, \u001b[90mJ\u001b[39m::\u001b[1mLinearAlgebra.UniformScaling\u001b[22m\u001b[0m{T}) where {T<:Number, Tv, Ti}\n",
       "\u001b[90m     @\u001b[39m \u001b[36mSparseArrays\u001b[39m \u001b[90mD:\\Programs\\Julia\\Julia-1.9.3\\share\\julia\\stdlib\\v1.9\\SparseArrays\\src\\\u001b[39m\u001b[90m\u001b[4msparsematrix.jl:4098\u001b[24m\u001b[39m\n",
       "  [53] +(\u001b[90mA\u001b[39m::\u001b[1mLinearAlgebra.UpperHessenberg\u001b[22m, \u001b[90mB\u001b[39m::\u001b[1mLinearAlgebra.UpperHessenberg\u001b[22m)\n",
       "\u001b[90m     @\u001b[39m \u001b[32mLinearAlgebra\u001b[39m \u001b[90mD:\\Programs\\Julia\\Julia-1.9.3\\share\\julia\\stdlib\\v1.9\\LinearAlgebra\\src\\\u001b[39m\u001b[90m\u001b[4mhessenberg.jl:104\u001b[24m\u001b[39m\n",
       "  [54] +(\u001b[90mH\u001b[39m::\u001b[1mLinearAlgebra.UpperHessenberg\u001b[22m, \u001b[90mx\u001b[39m::\u001b[1mLinearAlgebra.UniformScaling\u001b[22m)\n",
       "\u001b[90m     @\u001b[39m \u001b[32mLinearAlgebra\u001b[39m \u001b[90mD:\\Programs\\Julia\\Julia-1.9.3\\share\\julia\\stdlib\\v1.9\\LinearAlgebra\\src\\\u001b[39m\u001b[90m\u001b[4mhessenberg.jl:111\u001b[24m\u001b[39m\n",
       "  [55] +(\u001b[90mH\u001b[39m::\u001b[1mLinearAlgebra.UpperHessenberg\u001b[22m, \u001b[90mx\u001b[39m::\u001b[1mLinearAlgebra.Diagonal\u001b[22m)\n",
       "\u001b[90m     @\u001b[39m \u001b[32mLinearAlgebra\u001b[39m \u001b[90mD:\\Programs\\Julia\\Julia-1.9.3\\share\\julia\\stdlib\\v1.9\\LinearAlgebra\\src\\\u001b[39m\u001b[90m\u001b[4mhessenberg.jl:111\u001b[24m\u001b[39m\n",
       "  [56] +(\u001b[90mH\u001b[39m::\u001b[1mLinearAlgebra.UpperHessenberg\u001b[22m, \u001b[90mx\u001b[39m::\u001b[1mLinearAlgebra.Bidiagonal\u001b[22m)\n",
       "\u001b[90m     @\u001b[39m \u001b[32mLinearAlgebra\u001b[39m \u001b[90mD:\\Programs\\Julia\\Julia-1.9.3\\share\\julia\\stdlib\\v1.9\\LinearAlgebra\\src\\\u001b[39m\u001b[90m\u001b[4mhessenberg.jl:111\u001b[24m\u001b[39m\n",
       "  [57] +(\u001b[90mH\u001b[39m::\u001b[1mLinearAlgebra.UpperHessenberg\u001b[22m, \u001b[90mx\u001b[39m::\u001b[1mLinearAlgebra.Tridiagonal\u001b[22m)\n",
       "\u001b[90m     @\u001b[39m \u001b[32mLinearAlgebra\u001b[39m \u001b[90mD:\\Programs\\Julia\\Julia-1.9.3\\share\\julia\\stdlib\\v1.9\\LinearAlgebra\\src\\\u001b[39m\u001b[90m\u001b[4mhessenberg.jl:111\u001b[24m\u001b[39m\n",
       "  [58] +(\u001b[90mH\u001b[39m::\u001b[1mLinearAlgebra.UpperHessenberg\u001b[22m, \u001b[90mx\u001b[39m::\u001b[1mLinearAlgebra.SymTridiagonal\u001b[22m)\n",
       "\u001b[90m     @\u001b[39m \u001b[32mLinearAlgebra\u001b[39m \u001b[90mD:\\Programs\\Julia\\Julia-1.9.3\\share\\julia\\stdlib\\v1.9\\LinearAlgebra\\src\\\u001b[39m\u001b[90m\u001b[4mhessenberg.jl:111\u001b[24m\u001b[39m\n",
       "  [59] +(\u001b[90mH\u001b[39m::\u001b[1mLinearAlgebra.UpperHessenberg\u001b[22m, \u001b[90mx\u001b[39m::\u001b[1mLinearAlgebra.UpperTriangular\u001b[22m)\n",
       "\u001b[90m     @\u001b[39m \u001b[32mLinearAlgebra\u001b[39m \u001b[90mD:\\Programs\\Julia\\Julia-1.9.3\\share\\julia\\stdlib\\v1.9\\LinearAlgebra\\src\\\u001b[39m\u001b[90m\u001b[4mhessenberg.jl:111\u001b[24m\u001b[39m\n",
       "  [60] +(\u001b[90mH\u001b[39m::\u001b[1mLinearAlgebra.UpperHessenberg\u001b[22m, \u001b[90mx\u001b[39m::\u001b[1mLinearAlgebra.UnitUpperTriangular\u001b[22m)\n",
       "\u001b[90m     @\u001b[39m \u001b[32mLinearAlgebra\u001b[39m \u001b[90mD:\\Programs\\Julia\\Julia-1.9.3\\share\\julia\\stdlib\\v1.9\\LinearAlgebra\\src\\\u001b[39m\u001b[90m\u001b[4mhessenberg.jl:111\u001b[24m\u001b[39m\n",
       "  [61] +(\u001b[90mz\u001b[39m::\u001b[1mComplex\u001b[22m, \u001b[90mw\u001b[39m::\u001b[1mComplex\u001b[22m)\n",
       "\u001b[90m     @\u001b[39m \u001b[90m\u001b[4mcomplex.jl:291\u001b[24m\u001b[39m\n",
       "  [62] +(\u001b[90ma\u001b[39m::\u001b[1mMeasures.Length\u001b[22m\u001b[0m{U}, \u001b[90mb\u001b[39m::\u001b[1mMeasures.Length\u001b[22m\u001b[0m{U}) where U\n",
       "\u001b[90m     @\u001b[39m \u001b[36mMeasures\u001b[39m \u001b[90mC:\\Users\\ADMIN\\.julia\\packages\\Measures\\PKOxJ\\src\\\u001b[39m\u001b[90m\u001b[4mlength.jl:31\u001b[24m\u001b[39m\n",
       "  [63] +(\u001b[90mDa\u001b[39m::\u001b[1mLinearAlgebra.Diagonal\u001b[22m, \u001b[90mDb\u001b[39m::\u001b[1mLinearAlgebra.Diagonal\u001b[22m)\n",
       "\u001b[90m     @\u001b[39m \u001b[32mLinearAlgebra\u001b[39m \u001b[90mD:\\Programs\\Julia\\Julia-1.9.3\\share\\julia\\stdlib\\v1.9\\LinearAlgebra\\src\\\u001b[39m\u001b[90m\u001b[4mdiagonal.jl:184\u001b[24m\u001b[39m\n",
       "  [64] +(\u001b[90mD\u001b[39m::\u001b[1mLinearAlgebra.Diagonal\u001b[22m, \u001b[90mS\u001b[39m::\u001b[1mLinearAlgebra.Symmetric\u001b[22m)\n",
       "\u001b[90m     @\u001b[39m \u001b[32mLinearAlgebra\u001b[39m \u001b[90mD:\\Programs\\Julia\\Julia-1.9.3\\share\\julia\\stdlib\\v1.9\\LinearAlgebra\\src\\\u001b[39m\u001b[90m\u001b[4mdiagonal.jl:188\u001b[24m\u001b[39m\n",
       "  [65] +(\u001b[90mD\u001b[39m::\u001b[1mLinearAlgebra.Diagonal\u001b[22m\u001b[0m{var\"#s972\", V} where {var\"#s972\"<:Real, V<:AbstractVector{var\"#s972\"}}, \u001b[90mH\u001b[39m::\u001b[1mLinearAlgebra.Hermitian\u001b[22m)\n",
       "\u001b[90m     @\u001b[39m \u001b[32mLinearAlgebra\u001b[39m \u001b[90mD:\\Programs\\Julia\\Julia-1.9.3\\share\\julia\\stdlib\\v1.9\\LinearAlgebra\\src\\\u001b[39m\u001b[90m\u001b[4mdiagonal.jl:194\u001b[24m\u001b[39m\n",
       "  [66] +(\u001b[90mx\u001b[39m::\u001b[1mLinearAlgebra.Diagonal\u001b[22m, \u001b[90mH\u001b[39m::\u001b[1mLinearAlgebra.UpperHessenberg\u001b[22m)\n",
       "\u001b[90m     @\u001b[39m \u001b[32mLinearAlgebra\u001b[39m \u001b[90mD:\\Programs\\Julia\\Julia-1.9.3\\share\\julia\\stdlib\\v1.9\\LinearAlgebra\\src\\\u001b[39m\u001b[90m\u001b[4mhessenberg.jl:112\u001b[24m\u001b[39m\n",
       "  [67] +(\u001b[90mA\u001b[39m::\u001b[1mLinearAlgebra.Diagonal\u001b[22m, \u001b[90mB\u001b[39m::\u001b[1mLinearAlgebra.Bidiagonal\u001b[22m)\n",
       "\u001b[90m     @\u001b[39m \u001b[32mLinearAlgebra\u001b[39m \u001b[90mD:\\Programs\\Julia\\Julia-1.9.3\\share\\julia\\stdlib\\v1.9\\LinearAlgebra\\src\\\u001b[39m\u001b[90m\u001b[4mspecial.jl:130\u001b[24m\u001b[39m\n",
       "  [68] +(\u001b[90mA\u001b[39m::\u001b[1mLinearAlgebra.Diagonal\u001b[22m, \u001b[90mB\u001b[39m::\u001b[1mLinearAlgebra.SymTridiagonal\u001b[22m)\n",
       "\u001b[90m     @\u001b[39m \u001b[32mLinearAlgebra\u001b[39m \u001b[90mD:\\Programs\\Julia\\Julia-1.9.3\\share\\julia\\stdlib\\v1.9\\LinearAlgebra\\src\\\u001b[39m\u001b[90m\u001b[4mspecial.jl:140\u001b[24m\u001b[39m\n",
       "  [69] +(\u001b[90mA\u001b[39m::\u001b[1mLinearAlgebra.Diagonal\u001b[22m, \u001b[90mB\u001b[39m::\u001b[1mLinearAlgebra.Tridiagonal\u001b[22m)\n",
       "\u001b[90m     @\u001b[39m \u001b[32mLinearAlgebra\u001b[39m \u001b[90mD:\\Programs\\Julia\\Julia-1.9.3\\share\\julia\\stdlib\\v1.9\\LinearAlgebra\\src\\\u001b[39m\u001b[90m\u001b[4mspecial.jl:168\u001b[24m\u001b[39m\n",
       "  [70] +(\u001b[90mA\u001b[39m::\u001b[1mLinearAlgebra.Diagonal\u001b[22m\u001b[0m{var\"#s972\", V} where {var\"#s972\"<:Number, V<:AbstractVector{var\"#s972\"}}, \u001b[90mB\u001b[39m::\u001b[1mLinearAlgebra.UniformScaling\u001b[22m)\n",
       "\u001b[90m     @\u001b[39m \u001b[32mLinearAlgebra\u001b[39m \u001b[90mD:\\Programs\\Julia\\Julia-1.9.3\\share\\julia\\stdlib\\v1.9\\LinearAlgebra\\src\\\u001b[39m\u001b[90m\u001b[4mspecial.jl:246\u001b[24m\u001b[39m\n",
       "  [71] +(\u001b[90my\u001b[39m::\u001b[1mDates.TimeType\u001b[22m, \u001b[90mx\u001b[39m::\u001b[1mStridedArray\u001b[22m\u001b[0m{<:Union{Dates.CompoundPeriod, Dates.Period}})\n",
       "\u001b[90m     @\u001b[39m \u001b[35mDates\u001b[39m \u001b[90mD:\\Programs\\Julia\\Julia-1.9.3\\share\\julia\\stdlib\\v1.9\\Dates\\src\\\u001b[39m\u001b[90m\u001b[4mdeprecated.jl:18\u001b[24m\u001b[39m\n",
       "  [72] +(\u001b[90mA\u001b[39m::\u001b[1mLinearAlgebra.UnitUpperTriangular\u001b[22m, \u001b[90mB\u001b[39m::\u001b[1mLinearAlgebra.UpperTriangular\u001b[22m)\n",
       "\u001b[90m     @\u001b[39m \u001b[32mLinearAlgebra\u001b[39m \u001b[90mD:\\Programs\\Julia\\Julia-1.9.3\\share\\julia\\stdlib\\v1.9\\LinearAlgebra\\src\\\u001b[39m\u001b[90m\u001b[4mtriangular.jl:646\u001b[24m\u001b[39m\n",
       "  [73] +(\u001b[90mA\u001b[39m::\u001b[1mLinearAlgebra.UnitUpperTriangular\u001b[22m, \u001b[90mB\u001b[39m::\u001b[1mLinearAlgebra.UnitUpperTriangular\u001b[22m)\n",
       "\u001b[90m     @\u001b[39m \u001b[32mLinearAlgebra\u001b[39m \u001b[90mD:\\Programs\\Julia\\Julia-1.9.3\\share\\julia\\stdlib\\v1.9\\LinearAlgebra\\src\\\u001b[39m\u001b[90m\u001b[4mtriangular.jl:648\u001b[24m\u001b[39m\n",
       "  [74] +(\u001b[90mA\u001b[39m::\u001b[1mLinearAlgebra.AbstractTriangular\u001b[22m, \u001b[90mB\u001b[39m::\u001b[1mLinearAlgebra.AbstractTriangular\u001b[22m)\n",
       "\u001b[90m     @\u001b[39m \u001b[32mLinearAlgebra\u001b[39m \u001b[90mD:\\Programs\\Julia\\Julia-1.9.3\\share\\julia\\stdlib\\v1.9\\LinearAlgebra\\src\\\u001b[39m\u001b[90m\u001b[4mtriangular.jl:650\u001b[24m\u001b[39m\n",
       "  [75] +(\u001b[90mUL\u001b[39m::\u001b[1mLinearAlgebra.UnitUpperTriangular\u001b[22m, \u001b[90mJ\u001b[39m::\u001b[1mLinearAlgebra.UniformScaling\u001b[22m)\n",
       "\u001b[90m     @\u001b[39m \u001b[32mLinearAlgebra\u001b[39m \u001b[90mD:\\Programs\\Julia\\Julia-1.9.3\\share\\julia\\stdlib\\v1.9\\LinearAlgebra\\src\\\u001b[39m\u001b[90m\u001b[4muniformscaling.jl:181\u001b[24m\u001b[39m\n",
       "  [76] +(\u001b[90mx\u001b[39m::\u001b[1mLinearAlgebra.UnitUpperTriangular\u001b[22m, \u001b[90mH\u001b[39m::\u001b[1mLinearAlgebra.UpperHessenberg\u001b[22m)\n",
       "\u001b[90m     @\u001b[39m \u001b[32mLinearAlgebra\u001b[39m \u001b[90mD:\\Programs\\Julia\\Julia-1.9.3\\share\\julia\\stdlib\\v1.9\\LinearAlgebra\\src\\\u001b[39m\u001b[90m\u001b[4mhessenberg.jl:112\u001b[24m\u001b[39m\n",
       "  [77] +(\u001b[90mA\u001b[39m::\u001b[1mLinearAlgebra.UnitUpperTriangular\u001b[22m, \u001b[90mB\u001b[39m::\u001b[1mLinearAlgebra.Bidiagonal\u001b[22m)\n",
       "\u001b[90m     @\u001b[39m \u001b[32mLinearAlgebra\u001b[39m \u001b[90mD:\\Programs\\Julia\\Julia-1.9.3\\share\\julia\\stdlib\\v1.9\\LinearAlgebra\\src\\\u001b[39m\u001b[90m\u001b[4mspecial.jl:91\u001b[24m\u001b[39m\n",
       "  [78] +(\u001b[90mr1\u001b[39m::\u001b[1mLinRange\u001b[22m\u001b[0m{T}, \u001b[90mr2\u001b[39m::\u001b[1mLinRange\u001b[22m\u001b[0m{T}) where T\n",
       "\u001b[90m     @\u001b[39m \u001b[90m\u001b[4mrange.jl:1448\u001b[24m\u001b[39m\n",
       "  [79] +(\u001b[90mx\u001b[39m::\u001b[1mP\u001b[22m, \u001b[90my\u001b[39m::\u001b[1mP\u001b[22m) where P<:Dates.Period\n",
       "\u001b[90m     @\u001b[39m \u001b[35mDates\u001b[39m \u001b[90mD:\\Programs\\Julia\\Julia-1.9.3\\share\\julia\\stdlib\\v1.9\\Dates\\src\\\u001b[39m\u001b[90m\u001b[4mperiods.jl:75\u001b[24m\u001b[39m\n",
       "  [80] +(\u001b[90mx\u001b[39m::\u001b[1mDates.Period\u001b[22m, \u001b[90my\u001b[39m::\u001b[1mDates.Period\u001b[22m)\n",
       "\u001b[90m     @\u001b[39m \u001b[35mDates\u001b[39m \u001b[90mD:\\Programs\\Julia\\Julia-1.9.3\\share\\julia\\stdlib\\v1.9\\Dates\\src\\\u001b[39m\u001b[90m\u001b[4mperiods.jl:331\u001b[24m\u001b[39m\n",
       "  [81] +(\u001b[90my\u001b[39m::\u001b[1mDates.Period\u001b[22m, \u001b[90mx\u001b[39m::\u001b[1mDates.CompoundPeriod\u001b[22m)\n",
       "\u001b[90m     @\u001b[39m \u001b[35mDates\u001b[39m \u001b[90mD:\\Programs\\Julia\\Julia-1.9.3\\share\\julia\\stdlib\\v1.9\\Dates\\src\\\u001b[39m\u001b[90m\u001b[4mperiods.jl:333\u001b[24m\u001b[39m\n",
       "  [82] +(\u001b[90my\u001b[39m::\u001b[1mDates.Period\u001b[22m, \u001b[90mx\u001b[39m::\u001b[1mDates.TimeType\u001b[22m)\n",
       "\u001b[90m     @\u001b[39m \u001b[35mDates\u001b[39m \u001b[90mD:\\Programs\\Julia\\Julia-1.9.3\\share\\julia\\stdlib\\v1.9\\Dates\\src\\\u001b[39m\u001b[90m\u001b[4marithmetic.jl:85\u001b[24m\u001b[39m\n",
       "  [83] +(\u001b[90mx\u001b[39m::\u001b[1mDates.Period\u001b[22m, \u001b[90mr\u001b[39m::\u001b[1mAbstractRange\u001b[22m\u001b[0m{<:Dates.TimeType})\n",
       "\u001b[90m     @\u001b[39m \u001b[35mDates\u001b[39m \u001b[90mD:\\Programs\\Julia\\Julia-1.9.3\\share\\julia\\stdlib\\v1.9\\Dates\\src\\\u001b[39m\u001b[90m\u001b[4mranges.jl:64\u001b[24m\u001b[39m\n",
       "  [84] +(\u001b[90my\u001b[39m::\u001b[1mUnion\u001b[22m\u001b[0m{Dates.CompoundPeriod, Dates.Period}, \u001b[90mx\u001b[39m::\u001b[1mAbstractArray\u001b[22m\u001b[0m{<:Dates.TimeType})\n",
       "\u001b[90m     @\u001b[39m \u001b[35mDates\u001b[39m \u001b[90mD:\\Programs\\Julia\\Julia-1.9.3\\share\\julia\\stdlib\\v1.9\\Dates\\src\\\u001b[39m\u001b[90m\u001b[4mdeprecated.jl:14\u001b[24m\u001b[39m\n",
       "  [85] +(\u001b[90ma\u001b[39m::\u001b[1mTuple\u001b[22m\u001b[0m{Vararg{Measures.Measure, N}}, \u001b[90mb\u001b[39m::\u001b[1mTuple\u001b[22m\u001b[0m{Vararg{Measures.Measure, N}}) where N\n",
       "\u001b[90m     @\u001b[39m \u001b[36mMeasures\u001b[39m \u001b[90mC:\\Users\\ADMIN\\.julia\\packages\\Measures\\PKOxJ\\src\\\u001b[39m\u001b[90m\u001b[4mpoint.jl:21\u001b[24m\u001b[39m\n",
       "  [86] +(\u001b[90ma\u001b[39m::\u001b[1mTuple\u001b[22m\u001b[0m{Vararg{Measures.Measure, N}} where N, \u001b[90mb\u001b[39m::\u001b[1mTuple\u001b[22m\u001b[0m{Vararg{Measures.Measure, N}} where N)\n",
       "\u001b[90m     @\u001b[39m \u001b[36mMeasures\u001b[39m \u001b[90mC:\\Users\\ADMIN\\.julia\\packages\\Measures\\PKOxJ\\src\\\u001b[39m\u001b[90m\u001b[4mpoint.jl:15\u001b[24m\u001b[39m\n",
       "  [87] +(\u001b[90ma\u001b[39m::\u001b[1mAbstractGray\u001b[22m\u001b[0m{Bool}, \u001b[90mb\u001b[39m::\u001b[1mBool\u001b[22m)\n",
       "\u001b[90m     @\u001b[39m \u001b[32mColorVectorSpace\u001b[39m \u001b[90mC:\\Users\\ADMIN\\.julia\\packages\\ColorVectorSpace\\tLy1N\\src\\\u001b[39m\u001b[90m\u001b[4mColorVectorSpace.jl:322\u001b[24m\u001b[39m\n",
       "  [88] +(\u001b[90ma\u001b[39m::\u001b[1mAbstractGray\u001b[22m\u001b[0m{Bool}, \u001b[90mb\u001b[39m::\u001b[1mNumber\u001b[22m)\n",
       "\u001b[90m     @\u001b[39m \u001b[32mColorVectorSpace\u001b[39m \u001b[90mC:\\Users\\ADMIN\\.julia\\packages\\ColorVectorSpace\\tLy1N\\src\\\u001b[39m\u001b[90m\u001b[4mColorVectorSpace.jl:321\u001b[24m\u001b[39m\n",
       "  [89] +(\u001b[90ma\u001b[39m::\u001b[1mAbstractGray\u001b[22m, \u001b[90mb\u001b[39m::\u001b[1mNumber\u001b[22m)\n",
       "\u001b[90m     @\u001b[39m \u001b[32mColorVectorSpace\u001b[39m \u001b[90mC:\\Users\\ADMIN\\.julia\\packages\\ColorVectorSpace\\tLy1N\\src\\\u001b[39m\u001b[90m\u001b[4mColorVectorSpace.jl:320\u001b[24m\u001b[39m\n",
       "  [90] +(\u001b[90ma\u001b[39m::\u001b[1mAbstractGray\u001b[22m\u001b[0m{Bool}, \u001b[90mb\u001b[39m::\u001b[1mAbstractGray\u001b[22m\u001b[0m{Bool})\n",
       "\u001b[90m     @\u001b[39m \u001b[32mColorVectorSpace\u001b[39m \u001b[90mC:\\Users\\ADMIN\\.julia\\packages\\ColorVectorSpace\\tLy1N\\src\\\u001b[39m\u001b[90m\u001b[4mColorVectorSpace.jl:311\u001b[24m\u001b[39m\n",
       "  [91] +(\u001b[90mc\u001b[39m::\u001b[1mUnion\u001b[22m\u001b[0m{TransparentColor{C, T}, C} where {T, C<:Union{AbstractRGB{T}, AbstractGray{T}}})\n",
       "\u001b[90m     @\u001b[39m \u001b[32mColorVectorSpace\u001b[39m \u001b[90mC:\\Users\\ADMIN\\.julia\\packages\\ColorVectorSpace\\tLy1N\\src\\\u001b[39m\u001b[90m\u001b[4mColorVectorSpace.jl:249\u001b[24m\u001b[39m\n",
       "  [92] +(\u001b[90ma\u001b[39m::\u001b[1mAbstractGray\u001b[22m, \u001b[90mb\u001b[39m::\u001b[1mAbstractGray\u001b[22m)\n",
       "\u001b[90m     @\u001b[39m \u001b[32mColorVectorSpace\u001b[39m \u001b[90mC:\\Users\\ADMIN\\.julia\\packages\\ColorVectorSpace\\tLy1N\\src\\\u001b[39m\u001b[90m\u001b[4mColorVectorSpace.jl:310\u001b[24m\u001b[39m\n",
       "  [93] +(\u001b[90ma\u001b[39m::\u001b[1mUnion\u001b[22m\u001b[0m{TransparentColor{C, T}, C} where {T, C<:Union{AbstractRGB{T}, AbstractGray{T}}}, \u001b[90mb\u001b[39m::\u001b[1mUnion\u001b[22m\u001b[0m{TransparentColor{C, T}, C} where {T, C<:Union{AbstractRGB{T}, AbstractGray{T}}})\n",
       "\u001b[90m     @\u001b[39m \u001b[32mColorVectorSpace\u001b[39m \u001b[90mC:\\Users\\ADMIN\\.julia\\packages\\ColorVectorSpace\\tLy1N\\src\\\u001b[39m\u001b[90m\u001b[4mColorVectorSpace.jl:260\u001b[24m\u001b[39m\n",
       "  [94] +(\u001b[90mx\u001b[39m::\u001b[1mSparseArrays.AbstractSparseVector\u001b[22m, \u001b[90my\u001b[39m::\u001b[1mSparseArrays.AbstractSparseVector\u001b[22m)\n",
       "\u001b[90m     @\u001b[39m \u001b[36mSparseArrays\u001b[39m \u001b[90mD:\\Programs\\Julia\\Julia-1.9.3\\share\\julia\\stdlib\\v1.9\\SparseArrays\\src\\\u001b[39m\u001b[90m\u001b[4msparsevector.jl:1516\u001b[24m\u001b[39m\n",
       "  [95] +(\u001b[90mA\u001b[39m::\u001b[1mSparseArrays.AbstractSparseMatrix\u001b[22m, \u001b[90mB\u001b[39m::\u001b[1mLinearAlgebra.Hermitian\u001b[22m\u001b[0m{<:Any, <:SparseArrays.AbstractSparseMatrix})\n",
       "\u001b[90m     @\u001b[39m \u001b[36mSparseArrays\u001b[39m \u001b[90mD:\\Programs\\Julia\\Julia-1.9.3\\share\\julia\\stdlib\\v1.9\\SparseArrays\\src\\\u001b[39m\u001b[90m\u001b[4mlinalg.jl:14\u001b[24m\u001b[39m\n",
       "  [96] +(\u001b[90mA\u001b[39m::\u001b[1mSparseArrays.AbstractSparseMatrix\u001b[22m, \u001b[90mB\u001b[39m::\u001b[1mLinearAlgebra.Hermitian\u001b[22m)\n",
       "\u001b[90m     @\u001b[39m \u001b[36mSparseArrays\u001b[39m \u001b[90mD:\\Programs\\Julia\\Julia-1.9.3\\share\\julia\\stdlib\\v1.9\\SparseArrays\\src\\\u001b[39m\u001b[90m\u001b[4mlinalg.jl:17\u001b[24m\u001b[39m\n",
       "  [97] +(\u001b[90mA\u001b[39m::\u001b[1mSparseArrays.AbstractSparseMatrix\u001b[22m, \u001b[90mB\u001b[39m::\u001b[1mLinearAlgebra.Symmetric\u001b[22m\u001b[0m{<:Any, <:SparseArrays.AbstractSparseMatrix})\n",
       "\u001b[90m     @\u001b[39m \u001b[36mSparseArrays\u001b[39m \u001b[90mD:\\Programs\\Julia\\Julia-1.9.3\\share\\julia\\stdlib\\v1.9\\SparseArrays\\src\\\u001b[39m\u001b[90m\u001b[4mlinalg.jl:14\u001b[24m\u001b[39m\n",
       "  [98] +(\u001b[90mA\u001b[39m::\u001b[1mSparseArrays.AbstractSparseMatrix\u001b[22m, \u001b[90mB\u001b[39m::\u001b[1mLinearAlgebra.Symmetric\u001b[22m)\n",
       "\u001b[90m     @\u001b[39m \u001b[36mSparseArrays\u001b[39m \u001b[90mD:\\Programs\\Julia\\Julia-1.9.3\\share\\julia\\stdlib\\v1.9\\SparseArrays\\src\\\u001b[39m\u001b[90m\u001b[4mlinalg.jl:17\u001b[24m\u001b[39m\n",
       "  [99] +(\u001b[90mx\u001b[39m::\u001b[1mAbstractIrrational\u001b[22m, \u001b[90my\u001b[39m::\u001b[1mAbstractIrrational\u001b[22m)\n",
       "\u001b[90m     @\u001b[39m \u001b[90m\u001b[4mirrationals.jl:161\u001b[24m\u001b[39m\n",
       " [100] +(\u001b[90mA\u001b[39m::\u001b[1mLinearAlgebra.Tridiagonal\u001b[22m, \u001b[90mB\u001b[39m::\u001b[1mLinearAlgebra.Tridiagonal\u001b[22m)\n",
       "\u001b[90m     @\u001b[39m \u001b[32mLinearAlgebra\u001b[39m \u001b[90mD:\\Programs\\Julia\\Julia-1.9.3\\share\\julia\\stdlib\\v1.9\\LinearAlgebra\\src\\\u001b[39m\u001b[90m\u001b[4mtridiag.jl:754\u001b[24m\u001b[39m\n",
       " [101] +(\u001b[90mx\u001b[39m::\u001b[1mLinearAlgebra.Tridiagonal\u001b[22m, \u001b[90mH\u001b[39m::\u001b[1mLinearAlgebra.UpperHessenberg\u001b[22m)\n",
       "\u001b[90m     @\u001b[39m \u001b[32mLinearAlgebra\u001b[39m \u001b[90mD:\\Programs\\Julia\\Julia-1.9.3\\share\\julia\\stdlib\\v1.9\\LinearAlgebra\\src\\\u001b[39m\u001b[90m\u001b[4mhessenberg.jl:112\u001b[24m\u001b[39m\n",
       " [102] +(\u001b[90mA\u001b[39m::\u001b[1mLinearAlgebra.Tridiagonal\u001b[22m, \u001b[90mB\u001b[39m::\u001b[1mLinearAlgebra.SymTridiagonal\u001b[22m)\n",
       "\u001b[90m     @\u001b[39m \u001b[32mLinearAlgebra\u001b[39m \u001b[90mD:\\Programs\\Julia\\Julia-1.9.3\\share\\julia\\stdlib\\v1.9\\LinearAlgebra\\src\\\u001b[39m\u001b[90m\u001b[4mspecial.jl:162\u001b[24m\u001b[39m\n",
       " [103] +(\u001b[90mA\u001b[39m::\u001b[1mLinearAlgebra.Tridiagonal\u001b[22m, \u001b[90mB\u001b[39m::\u001b[1mLinearAlgebra.Diagonal\u001b[22m)\n",
       "\u001b[90m     @\u001b[39m \u001b[32mLinearAlgebra\u001b[39m \u001b[90mD:\\Programs\\Julia\\Julia-1.9.3\\share\\julia\\stdlib\\v1.9\\LinearAlgebra\\src\\\u001b[39m\u001b[90m\u001b[4mspecial.jl:178\u001b[24m\u001b[39m\n",
       " [104] +(\u001b[90mA\u001b[39m::\u001b[1mLinearAlgebra.Tridiagonal\u001b[22m, \u001b[90mB\u001b[39m::\u001b[1mLinearAlgebra.Bidiagonal\u001b[22m)\n",
       "\u001b[90m     @\u001b[39m \u001b[32mLinearAlgebra\u001b[39m \u001b[90mD:\\Programs\\Julia\\Julia-1.9.3\\share\\julia\\stdlib\\v1.9\\LinearAlgebra\\src\\\u001b[39m\u001b[90m\u001b[4mspecial.jl:198\u001b[24m\u001b[39m\n",
       " [105] +(\u001b[90mA\u001b[39m::\u001b[1mLinearAlgebra.Tridiagonal\u001b[22m\u001b[0m{var\"#s972\", V} where {var\"#s972\"<:Number, V<:AbstractVector{var\"#s972\"}}, \u001b[90mB\u001b[39m::\u001b[1mLinearAlgebra.UniformScaling\u001b[22m)\n",
       "\u001b[90m     @\u001b[39m \u001b[32mLinearAlgebra\u001b[39m \u001b[90mD:\\Programs\\Julia\\Julia-1.9.3\\share\\julia\\stdlib\\v1.9\\LinearAlgebra\\src\\\u001b[39m\u001b[90m\u001b[4mspecial.jl:231\u001b[24m\u001b[39m\n",
       " [106] +(\u001b[90mx\u001b[39m::\u001b[1mBase.TwicePrecision\u001b[22m, \u001b[90my\u001b[39m::\u001b[1mNumber\u001b[22m)\n",
       "\u001b[90m     @\u001b[39m \u001b[90m\u001b[4mtwiceprecision.jl:290\u001b[24m\u001b[39m\n",
       " [107] +(\u001b[90mx\u001b[39m::\u001b[1mBase.TwicePrecision\u001b[22m\u001b[0m{T}, \u001b[90my\u001b[39m::\u001b[1mBase.TwicePrecision\u001b[22m\u001b[0m{T}) where T\n",
       "\u001b[90m     @\u001b[39m \u001b[90m\u001b[4mtwiceprecision.jl:296\u001b[24m\u001b[39m\n",
       " [108] +(\u001b[90mx\u001b[39m::\u001b[1mBase.TwicePrecision\u001b[22m, \u001b[90my\u001b[39m::\u001b[1mBase.TwicePrecision\u001b[22m)\n",
       "\u001b[90m     @\u001b[39m \u001b[90m\u001b[4mtwiceprecision.jl:301\u001b[24m\u001b[39m\n",
       " [109] +(\u001b[90mr1\u001b[39m::\u001b[1mOrdinalRange\u001b[22m, \u001b[90mr2\u001b[39m::\u001b[1mOrdinalRange\u001b[22m)\n",
       "\u001b[90m     @\u001b[39m \u001b[90m\u001b[4mrange.jl:1441\u001b[24m\u001b[39m\n",
       " [110] +(\u001b[90mA\u001b[39m::\u001b[1mLinearAlgebra.SymTridiagonal\u001b[22m, \u001b[90mB\u001b[39m::\u001b[1mLinearAlgebra.SymTridiagonal\u001b[22m)\n",
       "\u001b[90m     @\u001b[39m \u001b[32mLinearAlgebra\u001b[39m \u001b[90mD:\\Programs\\Julia\\Julia-1.9.3\\share\\julia\\stdlib\\v1.9\\LinearAlgebra\\src\\\u001b[39m\u001b[90m\u001b[4mtridiag.jl:207\u001b[24m\u001b[39m\n",
       " [111] +(\u001b[90mA\u001b[39m::\u001b[1mLinearAlgebra.SymTridiagonal\u001b[22m, \u001b[90mB\u001b[39m::\u001b[1mLinearAlgebra.Symmetric\u001b[22m)\n",
       "\u001b[90m     @\u001b[39m \u001b[32mLinearAlgebra\u001b[39m \u001b[90mD:\\Programs\\Julia\\Julia-1.9.3\\share\\julia\\stdlib\\v1.9\\LinearAlgebra\\src\\\u001b[39m\u001b[90m\u001b[4msymmetric.jl:485\u001b[24m\u001b[39m\n",
       " [112] +(\u001b[90mA\u001b[39m::\u001b[1mLinearAlgebra.SymTridiagonal\u001b[22m\u001b[0m{var\"#s970\", V} where {var\"#s970\"<:Real, V<:AbstractVector{var\"#s970\"}}, \u001b[90mB\u001b[39m::\u001b[1mLinearAlgebra.Hermitian\u001b[22m)\n",
       "\u001b[90m     @\u001b[39m \u001b[32mLinearAlgebra\u001b[39m \u001b[90mD:\\Programs\\Julia\\Julia-1.9.3\\share\\julia\\stdlib\\v1.9\\LinearAlgebra\\src\\\u001b[39m\u001b[90m\u001b[4msymmetric.jl:487\u001b[24m\u001b[39m\n",
       " [113] +(\u001b[90mx\u001b[39m::\u001b[1mLinearAlgebra.SymTridiagonal\u001b[22m, \u001b[90mH\u001b[39m::\u001b[1mLinearAlgebra.UpperHessenberg\u001b[22m)\n",
       "\u001b[90m     @\u001b[39m \u001b[32mLinearAlgebra\u001b[39m \u001b[90mD:\\Programs\\Julia\\Julia-1.9.3\\share\\julia\\stdlib\\v1.9\\LinearAlgebra\\src\\\u001b[39m\u001b[90m\u001b[4mhessenberg.jl:112\u001b[24m\u001b[39m\n",
       " [114] +(\u001b[90mA\u001b[39m::\u001b[1mLinearAlgebra.SymTridiagonal\u001b[22m, \u001b[90mB\u001b[39m::\u001b[1mLinearAlgebra.Diagonal\u001b[22m)\n",
       "\u001b[90m     @\u001b[39m \u001b[32mLinearAlgebra\u001b[39m \u001b[90mD:\\Programs\\Julia\\Julia-1.9.3\\share\\julia\\stdlib\\v1.9\\LinearAlgebra\\src\\\u001b[39m\u001b[90m\u001b[4mspecial.jl:150\u001b[24m\u001b[39m\n",
       " [115] +(\u001b[90mA\u001b[39m::\u001b[1mLinearAlgebra.SymTridiagonal\u001b[22m, \u001b[90mB\u001b[39m::\u001b[1mLinearAlgebra.Tridiagonal\u001b[22m)\n",
       "\u001b[90m     @\u001b[39m \u001b[32mLinearAlgebra\u001b[39m \u001b[90mD:\\Programs\\Julia\\Julia-1.9.3\\share\\julia\\stdlib\\v1.9\\LinearAlgebra\\src\\\u001b[39m\u001b[90m\u001b[4mspecial.jl:164\u001b[24m\u001b[39m\n",
       " [116] +(\u001b[90mA\u001b[39m::\u001b[1mLinearAlgebra.SymTridiagonal\u001b[22m, \u001b[90mB\u001b[39m::\u001b[1mLinearAlgebra.Bidiagonal\u001b[22m)\n",
       "\u001b[90m     @\u001b[39m \u001b[32mLinearAlgebra\u001b[39m \u001b[90mD:\\Programs\\Julia\\Julia-1.9.3\\share\\julia\\stdlib\\v1.9\\LinearAlgebra\\src\\\u001b[39m\u001b[90m\u001b[4mspecial.jl:218\u001b[24m\u001b[39m\n",
       " [117] +(\u001b[90mA\u001b[39m::\u001b[1mLinearAlgebra.SymTridiagonal\u001b[22m\u001b[0m{var\"#s972\", V} where {var\"#s972\"<:Number, V<:AbstractVector{var\"#s972\"}}, \u001b[90mB\u001b[39m::\u001b[1mLinearAlgebra.UniformScaling\u001b[22m)\n",
       "\u001b[90m     @\u001b[39m \u001b[32mLinearAlgebra\u001b[39m \u001b[90mD:\\Programs\\Julia\\Julia-1.9.3\\share\\julia\\stdlib\\v1.9\\LinearAlgebra\\src\\\u001b[39m\u001b[90m\u001b[4mspecial.jl:236\u001b[24m\u001b[39m\n",
       " [118] +(\u001b[90mx\u001b[39m::\u001b[1mPtr\u001b[22m, \u001b[90my\u001b[39m::\u001b[1mInteger\u001b[22m)\n",
       "\u001b[90m     @\u001b[39m \u001b[90m\u001b[4mpointer.jl:167\u001b[24m\u001b[39m\n",
       " [119] +(\u001b[90mr1\u001b[39m::\u001b[1mStepRangeLen\u001b[22m\u001b[0m{T, R}, \u001b[90mr2\u001b[39m::\u001b[1mStepRangeLen\u001b[22m\u001b[0m{T, R}) where {R<:Base.TwicePrecision, T}\n",
       "\u001b[90m     @\u001b[39m \u001b[90m\u001b[4mtwiceprecision.jl:628\u001b[24m\u001b[39m\n",
       " [120] +(\u001b[90mr1\u001b[39m::\u001b[1mStepRangeLen\u001b[22m\u001b[0m{T, S}, \u001b[90mr2\u001b[39m::\u001b[1mStepRangeLen\u001b[22m\u001b[0m{T, S}) where {T, S}\n",
       "\u001b[90m     @\u001b[39m \u001b[90m\u001b[4mrange.jl:1464\u001b[24m\u001b[39m\n",
       " [121] +(\u001b[90mr1\u001b[39m::\u001b[1mUnion\u001b[22m\u001b[0m{LinRange, OrdinalRange, StepRangeLen}, \u001b[90mr2\u001b[39m::\u001b[1mUnion\u001b[22m\u001b[0m{LinRange, OrdinalRange, StepRangeLen})\n",
       "\u001b[90m     @\u001b[39m \u001b[90m\u001b[4mrange.jl:1457\u001b[24m\u001b[39m\n",
       " [122] +(\u001b[90mx\u001b[39m::\u001b[1mDates.Instant\u001b[22m)\n",
       "\u001b[90m     @\u001b[39m \u001b[35mDates\u001b[39m \u001b[90mD:\\Programs\\Julia\\Julia-1.9.3\\share\\julia\\stdlib\\v1.9\\Dates\\src\\\u001b[39m\u001b[90m\u001b[4marithmetic.jl:4\u001b[24m\u001b[39m\n",
       " [123] +(\u001b[90ma\u001b[39m::\u001b[1mMeasures.Measure\u001b[22m, \u001b[90mb\u001b[39m::\u001b[1mMeasures.Measure\u001b[22m)\n",
       "\u001b[90m     @\u001b[39m \u001b[36mMeasures\u001b[39m \u001b[90mC:\\Users\\ADMIN\\.julia\\packages\\Measures\\PKOxJ\\src\\\u001b[39m\u001b[90m\u001b[4moperations.jl:41\u001b[24m\u001b[39m\n",
       " [124] +(\u001b[90mx\u001b[39m::\u001b[1mT\u001b[22m, \u001b[90my\u001b[39m::\u001b[1mInteger\u001b[22m) where T<:AbstractChar\n",
       "\u001b[90m     @\u001b[39m \u001b[90m\u001b[4mchar.jl:237\u001b[24m\u001b[39m\n",
       " [125] +(\u001b[90mindex1\u001b[39m::\u001b[1mCartesianIndex\u001b[22m\u001b[0m{N}, \u001b[90mindex2\u001b[39m::\u001b[1mCartesianIndex\u001b[22m\u001b[0m{N}) where N\n",
       "\u001b[90m     @\u001b[39m \u001b[90mBase.IteratorsMD\u001b[39m \u001b[90m\u001b[4mmultidimensional.jl:111\u001b[24m\u001b[39m\n",
       " [126] +(\u001b[90ma\u001b[39m::\u001b[1mColorVectorSpace.RGBRGB\u001b[22m)\n",
       "\u001b[90m     @\u001b[39m \u001b[32mColorVectorSpace\u001b[39m \u001b[90mC:\\Users\\ADMIN\\.julia\\packages\\ColorVectorSpace\\tLy1N\\src\\\u001b[39m\u001b[90m\u001b[4mColorVectorSpace.jl:411\u001b[24m\u001b[39m\n",
       " [127] +(\u001b[90ma\u001b[39m::\u001b[1mColorVectorSpace.RGBRGB\u001b[22m, \u001b[90mb\u001b[39m::\u001b[1mColorVectorSpace.RGBRGB\u001b[22m)\n",
       "\u001b[90m     @\u001b[39m \u001b[32mColorVectorSpace\u001b[39m \u001b[90mC:\\Users\\ADMIN\\.julia\\packages\\ColorVectorSpace\\tLy1N\\src\\\u001b[39m\u001b[90m\u001b[4mColorVectorSpace.jl:413\u001b[24m\u001b[39m\n",
       " [128] +(\u001b[90mA\u001b[39m::\u001b[1mLinearAlgebra.Symmetric\u001b[22m, \u001b[90mB\u001b[39m::\u001b[1mLinearAlgebra.Symmetric\u001b[22m)\n",
       "\u001b[90m     @\u001b[39m \u001b[32mLinearAlgebra\u001b[39m \u001b[90mD:\\Programs\\Julia\\Julia-1.9.3\\share\\julia\\stdlib\\v1.9\\LinearAlgebra\\src\\\u001b[39m\u001b[90m\u001b[4msymmetric.jl:469\u001b[24m\u001b[39m\n",
       " [129] +(\u001b[90mA\u001b[39m::\u001b[1mLinearAlgebra.Symmetric\u001b[22m, \u001b[90mB\u001b[39m::\u001b[1mLinearAlgebra.SymTridiagonal\u001b[22m)\n",
       "\u001b[90m     @\u001b[39m \u001b[32mLinearAlgebra\u001b[39m \u001b[90mD:\\Programs\\Julia\\Julia-1.9.3\\share\\julia\\stdlib\\v1.9\\LinearAlgebra\\src\\\u001b[39m\u001b[90m\u001b[4msymmetric.jl:486\u001b[24m\u001b[39m\n",
       " [130] +(\u001b[90mS\u001b[39m::\u001b[1mLinearAlgebra.Symmetric\u001b[22m, \u001b[90mD\u001b[39m::\u001b[1mLinearAlgebra.Diagonal\u001b[22m)\n",
       "\u001b[90m     @\u001b[39m \u001b[32mLinearAlgebra\u001b[39m \u001b[90mD:\\Programs\\Julia\\Julia-1.9.3\\share\\julia\\stdlib\\v1.9\\LinearAlgebra\\src\\\u001b[39m\u001b[90m\u001b[4mdiagonal.jl:191\u001b[24m\u001b[39m\n",
       " [131] +(\u001b[90mA\u001b[39m::\u001b[1mLinearAlgebra.Symmetric\u001b[22m\u001b[0m{<:Any, <:SparseArrays.AbstractSparseMatrix}, \u001b[90mB\u001b[39m::\u001b[1mSparseArrays.AbstractSparseMatrix\u001b[22m)\n",
       "\u001b[90m     @\u001b[39m \u001b[36mSparseArrays\u001b[39m \u001b[90mD:\\Programs\\Julia\\Julia-1.9.3\\share\\julia\\stdlib\\v1.9\\SparseArrays\\src\\\u001b[39m\u001b[90m\u001b[4mlinalg.jl:15\u001b[24m\u001b[39m\n",
       " [132] +(\u001b[90mA\u001b[39m::\u001b[1mLinearAlgebra.Symmetric\u001b[22m, \u001b[90mB\u001b[39m::\u001b[1mSparseArrays.AbstractSparseMatrix\u001b[22m)\n",
       "\u001b[90m     @\u001b[39m \u001b[36mSparseArrays\u001b[39m \u001b[90mD:\\Programs\\Julia\\Julia-1.9.3\\share\\julia\\stdlib\\v1.9\\SparseArrays\\src\\\u001b[39m\u001b[90m\u001b[4mlinalg.jl:18\u001b[24m\u001b[39m\n",
       " [133] +(\u001b[90mA\u001b[39m::\u001b[1mLinearAlgebra.Symmetric\u001b[22m\u001b[0m{<:Real, <:SparseArrays.AbstractSparseMatrix}, \u001b[90mB\u001b[39m::\u001b[1mLinearAlgebra.Hermitian\u001b[22m\u001b[0m{<:Any, <:SparseArrays.AbstractSparseMatrix})\n",
       "\u001b[90m     @\u001b[39m \u001b[36mSparseArrays\u001b[39m \u001b[90mD:\\Programs\\Julia\\Julia-1.9.3\\share\\julia\\stdlib\\v1.9\\SparseArrays\\src\\\u001b[39m\u001b[90m\u001b[4mlinalg.jl:25\u001b[24m\u001b[39m\n",
       " [134] +(\u001b[90mA\u001b[39m::\u001b[1mLinearAlgebra.Symmetric\u001b[22m\u001b[0m{var\"#s971\", S} where {var\"#s971\"<:Real, S<:(AbstractMatrix{<:var\"#s971\"})}, \u001b[90mB\u001b[39m::\u001b[1mLinearAlgebra.Hermitian\u001b[22m)\n",
       "\u001b[90m     @\u001b[39m \u001b[32mLinearAlgebra\u001b[39m \u001b[90mD:\\Programs\\Julia\\Julia-1.9.3\\share\\julia\\stdlib\\v1.9\\LinearAlgebra\\src\\\u001b[39m\u001b[90m\u001b[4msymmetric.jl:484\u001b[24m\u001b[39m\n",
       " [135] +(\u001b[90mA\u001b[39m::\u001b[1mLinearAlgebra.Symmetric\u001b[22m\u001b[0m{<:Any, <:SparseArrays.AbstractSparseMatrix}, \u001b[90mB\u001b[39m::\u001b[1mLinearAlgebra.Hermitian\u001b[22m\u001b[0m{<:Any, <:SparseArrays.AbstractSparseMatrix})\n",
       "\u001b[90m     @\u001b[39m \u001b[36mSparseArrays\u001b[39m \u001b[90mD:\\Programs\\Julia\\Julia-1.9.3\\share\\julia\\stdlib\\v1.9\\SparseArrays\\src\\\u001b[39m\u001b[90m\u001b[4mlinalg.jl:23\u001b[24m\u001b[39m\n",
       " [136] +(\u001b[90my\u001b[39m::\u001b[1mAbstractFloat\u001b[22m, \u001b[90mx\u001b[39m::\u001b[1mBool\u001b[22m)\n",
       "\u001b[90m     @\u001b[39m \u001b[90m\u001b[4mbool.jl:176\u001b[24m\u001b[39m\n",
       " [137] +(\u001b[90mr\u001b[39m::\u001b[1mAbstractRange\u001b[22m\u001b[0m{<:Dates.TimeType}, \u001b[90mx\u001b[39m::\u001b[1mDates.Period\u001b[22m)\n",
       "\u001b[90m     @\u001b[39m \u001b[35mDates\u001b[39m \u001b[90mD:\\Programs\\Julia\\Julia-1.9.3\\share\\julia\\stdlib\\v1.9\\Dates\\src\\\u001b[39m\u001b[90m\u001b[4mranges.jl:65\u001b[24m\u001b[39m\n",
       " [138] +(\u001b[90mx\u001b[39m::\u001b[1mAbstractArray\u001b[22m\u001b[0m{<:Dates.TimeType}, \u001b[90my\u001b[39m::\u001b[1mUnion\u001b[22m\u001b[0m{Dates.CompoundPeriod, Dates.Period})\n",
       "\u001b[90m     @\u001b[39m \u001b[35mDates\u001b[39m \u001b[90mD:\\Programs\\Julia\\Julia-1.9.3\\share\\julia\\stdlib\\v1.9\\Dates\\src\\\u001b[39m\u001b[90m\u001b[4mdeprecated.jl:6\u001b[24m\u001b[39m\n",
       " [139] +(\u001b[90mA\u001b[39m::\u001b[1mLinearAlgebra.Hermitian\u001b[22m, \u001b[90mB\u001b[39m::\u001b[1mLinearAlgebra.Hermitian\u001b[22m)\n",
       "\u001b[90m     @\u001b[39m \u001b[32mLinearAlgebra\u001b[39m \u001b[90mD:\\Programs\\Julia\\Julia-1.9.3\\share\\julia\\stdlib\\v1.9\\LinearAlgebra\\src\\\u001b[39m\u001b[90m\u001b[4msymmetric.jl:469\u001b[24m\u001b[39m\n",
       " [140] +(\u001b[90mA\u001b[39m::\u001b[1mLinearAlgebra.Hermitian\u001b[22m, \u001b[90mB\u001b[39m::\u001b[1mLinearAlgebra.SymTridiagonal\u001b[22m\u001b[0m{var\"#s969\", V} where {var\"#s969\"<:Real, V<:AbstractVector{var\"#s969\"}})\n",
       "\u001b[90m     @\u001b[39m \u001b[32mLinearAlgebra\u001b[39m \u001b[90mD:\\Programs\\Julia\\Julia-1.9.3\\share\\julia\\stdlib\\v1.9\\LinearAlgebra\\src\\\u001b[39m\u001b[90m\u001b[4msymmetric.jl:488\u001b[24m\u001b[39m\n",
       " [141] +(\u001b[90mH\u001b[39m::\u001b[1mLinearAlgebra.Hermitian\u001b[22m, \u001b[90mD\u001b[39m::\u001b[1mLinearAlgebra.Diagonal\u001b[22m\u001b[0m{var\"#s972\", V} where {var\"#s972\"<:Real, V<:AbstractVector{var\"#s972\"}})\n",
       "\u001b[90m     @\u001b[39m \u001b[32mLinearAlgebra\u001b[39m \u001b[90mD:\\Programs\\Julia\\Julia-1.9.3\\share\\julia\\stdlib\\v1.9\\LinearAlgebra\\src\\\u001b[39m\u001b[90m\u001b[4mdiagonal.jl:197\u001b[24m\u001b[39m\n",
       " [142] +(\u001b[90mA\u001b[39m::\u001b[1mLinearAlgebra.Hermitian\u001b[22m, \u001b[90mJ\u001b[39m::\u001b[1mLinearAlgebra.UniformScaling\u001b[22m\u001b[0m{<:Complex})\n",
       "\u001b[90m     @\u001b[39m \u001b[32mLinearAlgebra\u001b[39m \u001b[90mD:\\Programs\\Julia\\Julia-1.9.3\\share\\julia\\stdlib\\v1.9\\LinearAlgebra\\src\\\u001b[39m\u001b[90m\u001b[4muniformscaling.jl:195\u001b[24m\u001b[39m\n",
       " [143] +(\u001b[90mA\u001b[39m::\u001b[1mLinearAlgebra.Hermitian\u001b[22m\u001b[0m{<:Any, <:SparseArrays.AbstractSparseMatrix}, \u001b[90mB\u001b[39m::\u001b[1mSparseArrays.AbstractSparseMatrix\u001b[22m)\n",
       "\u001b[90m     @\u001b[39m \u001b[36mSparseArrays\u001b[39m \u001b[90mD:\\Programs\\Julia\\Julia-1.9.3\\share\\julia\\stdlib\\v1.9\\SparseArrays\\src\\\u001b[39m\u001b[90m\u001b[4mlinalg.jl:15\u001b[24m\u001b[39m\n",
       " [144] +(\u001b[90mA\u001b[39m::\u001b[1mLinearAlgebra.Hermitian\u001b[22m, \u001b[90mB\u001b[39m::\u001b[1mSparseArrays.AbstractSparseMatrix\u001b[22m)\n",
       "\u001b[90m     @\u001b[39m \u001b[36mSparseArrays\u001b[39m \u001b[90mD:\\Programs\\Julia\\Julia-1.9.3\\share\\julia\\stdlib\\v1.9\\SparseArrays\\src\\\u001b[39m\u001b[90m\u001b[4mlinalg.jl:18\u001b[24m\u001b[39m\n",
       " [145] +(\u001b[90mA\u001b[39m::\u001b[1mLinearAlgebra.Hermitian\u001b[22m\u001b[0m{<:Any, <:SparseArrays.AbstractSparseMatrix}, \u001b[90mB\u001b[39m::\u001b[1mLinearAlgebra.Symmetric\u001b[22m\u001b[0m{<:Real, <:SparseArrays.AbstractSparseMatrix})\n",
       "\u001b[90m     @\u001b[39m \u001b[36mSparseArrays\u001b[39m \u001b[90mD:\\Programs\\Julia\\Julia-1.9.3\\share\\julia\\stdlib\\v1.9\\SparseArrays\\src\\\u001b[39m\u001b[90m\u001b[4mlinalg.jl:26\u001b[24m\u001b[39m\n",
       " [146] +(\u001b[90mA\u001b[39m::\u001b[1mLinearAlgebra.Hermitian\u001b[22m, \u001b[90mB\u001b[39m::\u001b[1mLinearAlgebra.Symmetric\u001b[22m\u001b[0m{var\"#s972\", S} where {var\"#s972\"<:Real, S<:(AbstractMatrix{<:var\"#s972\"})})\n",
       "\u001b[90m     @\u001b[39m \u001b[32mLinearAlgebra\u001b[39m \u001b[90mD:\\Programs\\Julia\\Julia-1.9.3\\share\\julia\\stdlib\\v1.9\\LinearAlgebra\\src\\\u001b[39m\u001b[90m\u001b[4msymmetric.jl:483\u001b[24m\u001b[39m\n",
       " [147] +(\u001b[90mA\u001b[39m::\u001b[1mLinearAlgebra.Hermitian\u001b[22m\u001b[0m{<:Any, <:SparseArrays.AbstractSparseMatrix}, \u001b[90mB\u001b[39m::\u001b[1mLinearAlgebra.Symmetric\u001b[22m\u001b[0m{<:Any, <:SparseArrays.AbstractSparseMatrix})\n",
       "\u001b[90m     @\u001b[39m \u001b[36mSparseArrays\u001b[39m \u001b[90mD:\\Programs\\Julia\\Julia-1.9.3\\share\\julia\\stdlib\\v1.9\\SparseArrays\\src\\\u001b[39m\u001b[90m\u001b[4mlinalg.jl:24\u001b[24m\u001b[39m\n",
       " [148] +(\u001b[90mA\u001b[39m::\u001b[1mBitArray\u001b[22m, \u001b[90mB\u001b[39m::\u001b[1mBitArray\u001b[22m)\n",
       "\u001b[90m     @\u001b[39m \u001b[90m\u001b[4mbitarray.jl:1184\u001b[24m\u001b[39m\n",
       " [149] +(\u001b[90mA\u001b[39m::\u001b[1mArray\u001b[22m, \u001b[90mBs\u001b[39m::\u001b[1mArray...\u001b[22m)\n",
       "\u001b[90m     @\u001b[39m \u001b[90m\u001b[4marraymath.jl:12\u001b[24m\u001b[39m\n",
       " [150] +(\u001b[90mX\u001b[39m::\u001b[1mStridedArray\u001b[22m\u001b[0m{<:Union{Dates.CompoundPeriod, Dates.Period}}, \u001b[90mY\u001b[39m::\u001b[1mStridedArray\u001b[22m\u001b[0m{<:Union{Dates.CompoundPeriod, Dates.Period}})\n",
       "\u001b[90m     @\u001b[39m \u001b[35mDates\u001b[39m \u001b[90mD:\\Programs\\Julia\\Julia-1.9.3\\share\\julia\\stdlib\\v1.9\\Dates\\src\\\u001b[39m\u001b[90m\u001b[4mdeprecated.jl:62\u001b[24m\u001b[39m\n",
       " [151] +(\u001b[90mA\u001b[39m::\u001b[1mArray\u001b[22m, \u001b[90mB\u001b[39m::\u001b[1mSparseArrays.AbstractSparseMatrixCSC\u001b[22m)\n",
       "\u001b[90m     @\u001b[39m \u001b[36mSparseArrays\u001b[39m \u001b[90mD:\\Programs\\Julia\\Julia-1.9.3\\share\\julia\\stdlib\\v1.9\\SparseArrays\\src\\\u001b[39m\u001b[90m\u001b[4msparsematrix.jl:2069\u001b[24m\u001b[39m\n",
       " [152] +(\u001b[90mx\u001b[39m::\u001b[1mStridedArray\u001b[22m\u001b[0m{<:Union{Dates.CompoundPeriod, Dates.Period}})\n",
       "\u001b[90m     @\u001b[39m \u001b[35mDates\u001b[39m \u001b[90mD:\\Programs\\Julia\\Julia-1.9.3\\share\\julia\\stdlib\\v1.9\\Dates\\src\\\u001b[39m\u001b[90m\u001b[4mdeprecated.jl:55\u001b[24m\u001b[39m\n",
       " [153] +(\u001b[90mx\u001b[39m::\u001b[1mStridedArray\u001b[22m\u001b[0m{<:Union{Dates.CompoundPeriod, Dates.Period}}, \u001b[90my\u001b[39m::\u001b[1mDates.TimeType\u001b[22m)\n",
       "\u001b[90m     @\u001b[39m \u001b[35mDates\u001b[39m \u001b[90mD:\\Programs\\Julia\\Julia-1.9.3\\share\\julia\\stdlib\\v1.9\\Dates\\src\\\u001b[39m\u001b[90m\u001b[4mdeprecated.jl:10\u001b[24m\u001b[39m\n",
       " [154] +(\u001b[90mA\u001b[39m::\u001b[1mAbstractArray\u001b[22m, \u001b[90mB\u001b[39m::\u001b[1mAbstractArray\u001b[22m)\n",
       "\u001b[90m     @\u001b[39m \u001b[90m\u001b[4marraymath.jl:6\u001b[24m\u001b[39m\n",
       " [155] +(\u001b[90mbb1\u001b[39m::\u001b[1mMeasures.BoundingBox\u001b[22m, \u001b[90mbb2\u001b[39m::\u001b[1mMeasures.BoundingBox\u001b[22m)\n",
       "\u001b[90m     @\u001b[39m \u001b[32mPlots\u001b[39m \u001b[90mC:\\Users\\ADMIN\\.julia\\packages\\Plots\\sxUvK\\src\\\u001b[39m\u001b[90m\u001b[4mlayouts.jl:21\u001b[24m\u001b[39m\n",
       " [156] +(\u001b[90mx\u001b[39m::\u001b[1mBigInt\u001b[22m, \u001b[90mc\u001b[39m::\u001b[1mUnion\u001b[22m\u001b[0m{UInt16, UInt32, UInt8})\n",
       "\u001b[90m     @\u001b[39m \u001b[90mBase.GMP\u001b[39m \u001b[90m\u001b[4mgmp.jl:538\u001b[24m\u001b[39m\n",
       " [157] +(\u001b[90mx\u001b[39m::\u001b[1mBigInt\u001b[22m, \u001b[90mc\u001b[39m::\u001b[1mUnion\u001b[22m\u001b[0m{Int16, Int32, Int8})\n",
       "\u001b[90m     @\u001b[39m \u001b[90mBase.GMP\u001b[39m \u001b[90m\u001b[4mgmp.jl:544\u001b[24m\u001b[39m\n",
       " [158] +(\u001b[90mx\u001b[39m::\u001b[1mBigInt\u001b[22m, \u001b[90my\u001b[39m::\u001b[1mBigInt\u001b[22m)\n",
       "\u001b[90m     @\u001b[39m \u001b[90mBase.GMP\u001b[39m \u001b[90m\u001b[4mgmp.jl:490\u001b[24m\u001b[39m\n",
       " [159] +(\u001b[90ma\u001b[39m::\u001b[1mBigInt\u001b[22m, \u001b[90mb\u001b[39m::\u001b[1mBigInt\u001b[22m, \u001b[90mc\u001b[39m::\u001b[1mBigInt\u001b[22m)\n",
       "\u001b[90m     @\u001b[39m \u001b[90mBase.GMP\u001b[39m \u001b[90m\u001b[4mgmp.jl:530\u001b[24m\u001b[39m\n",
       " [160] +(\u001b[90ma\u001b[39m::\u001b[1mBigInt\u001b[22m, \u001b[90mb\u001b[39m::\u001b[1mBigInt\u001b[22m, \u001b[90mc\u001b[39m::\u001b[1mBigInt\u001b[22m, \u001b[90md\u001b[39m::\u001b[1mBigInt\u001b[22m)\n",
       "\u001b[90m     @\u001b[39m \u001b[90mBase.GMP\u001b[39m \u001b[90m\u001b[4mgmp.jl:531\u001b[24m\u001b[39m\n",
       " [161] +(\u001b[90ma\u001b[39m::\u001b[1mBigInt\u001b[22m, \u001b[90mb\u001b[39m::\u001b[1mBigInt\u001b[22m, \u001b[90mc\u001b[39m::\u001b[1mBigInt\u001b[22m, \u001b[90md\u001b[39m::\u001b[1mBigInt\u001b[22m, \u001b[90me\u001b[39m::\u001b[1mBigInt\u001b[22m)\n",
       "\u001b[90m     @\u001b[39m \u001b[90mBase.GMP\u001b[39m \u001b[90m\u001b[4mgmp.jl:532\u001b[24m\u001b[39m\n",
       " [162] +(\u001b[90mx\u001b[39m::\u001b[1mBigInt\u001b[22m, \u001b[90my\u001b[39m::\u001b[1mBigInt\u001b[22m, \u001b[90mrest\u001b[39m::\u001b[1mBigInt...\u001b[22m)\n",
       "\u001b[90m     @\u001b[39m \u001b[90mBase.GMP\u001b[39m \u001b[90m\u001b[4mgmp.jl:666\u001b[24m\u001b[39m\n",
       " [163] +(\u001b[90mc\u001b[39m::\u001b[1mBigInt\u001b[22m, \u001b[90mx\u001b[39m::\u001b[1mBigFloat\u001b[22m)\n",
       "\u001b[90m     @\u001b[39m \u001b[90mBase.MPFR\u001b[39m \u001b[90m\u001b[4mmpfr.jl:431\u001b[24m\u001b[39m\n",
       " [164] +(\u001b[90ma\u001b[39m::\u001b[1mPkg.Resolve.FieldValue\u001b[22m, \u001b[90mb\u001b[39m::\u001b[1mPkg.Resolve.FieldValue\u001b[22m)\n",
       "\u001b[90m     @\u001b[39m \u001b[36mPkg.Resolve\u001b[39m \u001b[90mD:\\Programs\\Julia\\Julia-1.9.3\\share\\julia\\stdlib\\v1.9\\Pkg\\src\\Resolve\\\u001b[39m\u001b[90m\u001b[4mfieldvalues.jl:43\u001b[24m\u001b[39m\n",
       " [165] +(\u001b[90mx\u001b[39m::\u001b[1mBool\u001b[22m)\n",
       "\u001b[90m     @\u001b[39m \u001b[90m\u001b[4mbool.jl:163\u001b[24m\u001b[39m\n",
       " [166] +(\u001b[90mx\u001b[39m::\u001b[1mInteger\u001b[22m, \u001b[90my\u001b[39m::\u001b[1mPtr\u001b[22m)\n",
       "\u001b[90m     @\u001b[39m \u001b[90m\u001b[4mpointer.jl:169\u001b[24m\u001b[39m\n",
       " [167] +(\u001b[90my\u001b[39m::\u001b[1mInteger\u001b[22m, \u001b[90mx\u001b[39m::\u001b[1mRational\u001b[22m)\n",
       "\u001b[90m     @\u001b[39m \u001b[90m\u001b[4mrational.jl:334\u001b[24m\u001b[39m\n",
       " [168] +(\u001b[90mx\u001b[39m::\u001b[1mInteger\u001b[22m, \u001b[90my\u001b[39m::\u001b[1mAbstractChar\u001b[22m)\n",
       "\u001b[90m     @\u001b[39m \u001b[90m\u001b[4mchar.jl:247\u001b[24m\u001b[39m\n",
       " [169] +(\u001b[90mx\u001b[39m::\u001b[1mBool\u001b[22m, \u001b[90my\u001b[39m::\u001b[1mT\u001b[22m) where T<:AbstractFloat\n",
       "\u001b[90m     @\u001b[39m \u001b[90m\u001b[4mbool.jl:173\u001b[24m\u001b[39m\n",
       " [170] +(\u001b[90mx\u001b[39m::\u001b[1mBool\u001b[22m, \u001b[90my\u001b[39m::\u001b[1mBool\u001b[22m)\n",
       "\u001b[90m     @\u001b[39m \u001b[90m\u001b[4mbool.jl:166\u001b[24m\u001b[39m\n",
       " [171] +(\u001b[90ma\u001b[39m::\u001b[1mInteger\u001b[22m, \u001b[90mb\u001b[39m::\u001b[1mInteger\u001b[22m)\n",
       "\u001b[90m     @\u001b[39m \u001b[90m\u001b[4mint.jl:1038\u001b[24m\u001b[39m\n",
       " [172] +(\u001b[90mx\u001b[39m::\u001b[1mBool\u001b[22m, \u001b[90mz\u001b[39m::\u001b[1mComplex\u001b[22m\u001b[0m{Bool})\n",
       "\u001b[90m     @\u001b[39m \u001b[90m\u001b[4mcomplex.jl:302\u001b[24m\u001b[39m\n",
       " [173] +(\u001b[90mx\u001b[39m::\u001b[1mReal\u001b[22m, \u001b[90mz\u001b[39m::\u001b[1mComplex\u001b[22m\u001b[0m{Bool})\n",
       "\u001b[90m     @\u001b[39m \u001b[90m\u001b[4mcomplex.jl:316\u001b[24m\u001b[39m\n",
       " [174] +(\u001b[90mx\u001b[39m::\u001b[1mBool\u001b[22m, \u001b[90mz\u001b[39m::\u001b[1mComplex\u001b[22m)\n",
       "\u001b[90m     @\u001b[39m \u001b[90m\u001b[4mcomplex.jl:309\u001b[24m\u001b[39m\n",
       " [175] +(\u001b[90mx\u001b[39m::\u001b[1mReal\u001b[22m, \u001b[90mz\u001b[39m::\u001b[1mComplex\u001b[22m)\n",
       "\u001b[90m     @\u001b[39m \u001b[90m\u001b[4mcomplex.jl:328\u001b[24m\u001b[39m\n",
       " [176] +(\u001b[90ma\u001b[39m::\u001b[1mPkg.Resolve.VersionWeight\u001b[22m, \u001b[90mb\u001b[39m::\u001b[1mPkg.Resolve.VersionWeight\u001b[22m)\n",
       "\u001b[90m     @\u001b[39m \u001b[36mPkg.Resolve\u001b[39m \u001b[90mD:\\Programs\\Julia\\Julia-1.9.3\\share\\julia\\stdlib\\v1.9\\Pkg\\src\\Resolve\\\u001b[39m\u001b[90m\u001b[4mversionweights.jl:22\u001b[24m\u001b[39m\n",
       " [177] +(\u001b[90mx\u001b[39m::\u001b[1mRational\u001b[22m\u001b[0m{BigInt}, \u001b[90my\u001b[39m::\u001b[1mRational\u001b[22m\u001b[0m{BigInt})\n",
       "\u001b[90m     @\u001b[39m \u001b[90mBase.GMP.MPQ\u001b[39m \u001b[90m\u001b[4mgmp.jl:1027\u001b[24m\u001b[39m\n",
       " [178] +(\u001b[90mx\u001b[39m::\u001b[1mRational\u001b[22m)\n",
       "\u001b[90m     @\u001b[39m \u001b[90m\u001b[4mrational.jl:284\u001b[24m\u001b[39m\n",
       " [179] +(\u001b[90mx\u001b[39m::\u001b[1mRational\u001b[22m, \u001b[90my\u001b[39m::\u001b[1mRational\u001b[22m)\n",
       "\u001b[90m     @\u001b[39m \u001b[90m\u001b[4mrational.jl:298\u001b[24m\u001b[39m\n",
       " [180] +(\u001b[90mz\u001b[39m::\u001b[1mComplex\u001b[22m\u001b[0m{Bool}, \u001b[90mx\u001b[39m::\u001b[1mBool\u001b[22m)\n",
       "\u001b[90m     @\u001b[39m \u001b[90m\u001b[4mcomplex.jl:303\u001b[24m\u001b[39m\n",
       " [181] +(\u001b[90mz\u001b[39m::\u001b[1mComplex\u001b[22m, \u001b[90mx\u001b[39m::\u001b[1mBool\u001b[22m)\n",
       "\u001b[90m     @\u001b[39m \u001b[90m\u001b[4mcomplex.jl:310\u001b[24m\u001b[39m\n",
       " [182] +(\u001b[90mz\u001b[39m::\u001b[1mComplex\u001b[22m\u001b[0m{Bool}, \u001b[90mx\u001b[39m::\u001b[1mReal\u001b[22m)\n",
       "\u001b[90m     @\u001b[39m \u001b[90m\u001b[4mcomplex.jl:317\u001b[24m\u001b[39m\n",
       " [183] +(\u001b[90mz\u001b[39m::\u001b[1mComplex\u001b[22m)\n",
       "\u001b[90m     @\u001b[39m \u001b[90m\u001b[4mcomplex.jl:289\u001b[24m\u001b[39m\n",
       " [184] +(\u001b[90mx\u001b[39m::\u001b[1mNumber\u001b[22m, \u001b[90my\u001b[39m::\u001b[1mBase.TwicePrecision\u001b[22m)\n",
       "\u001b[90m     @\u001b[39m \u001b[90m\u001b[4mtwiceprecision.jl:294\u001b[24m\u001b[39m\n",
       " [185] +(::\u001b[1mNumber\u001b[22m, ::\u001b[1mMissing\u001b[22m)\n",
       "\u001b[90m     @\u001b[39m \u001b[90m\u001b[4mmissing.jl:124\u001b[24m\u001b[39m\n",
       " [186] +(\u001b[90mx\u001b[39m::\u001b[1mNumber\u001b[22m, \u001b[90mJ\u001b[39m::\u001b[1mLinearAlgebra.UniformScaling\u001b[22m)\n",
       "\u001b[90m     @\u001b[39m \u001b[32mLinearAlgebra\u001b[39m \u001b[90mD:\\Programs\\Julia\\Julia-1.9.3\\share\\julia\\stdlib\\v1.9\\LinearAlgebra\\src\\\u001b[39m\u001b[90m\u001b[4muniformscaling.jl:145\u001b[24m\u001b[39m\n",
       " [187] +(\u001b[90ma\u001b[39m::\u001b[1mNumber\u001b[22m, \u001b[90mb\u001b[39m::\u001b[1mAbstractGray\u001b[22m)\n",
       "\u001b[90m     @\u001b[39m \u001b[32mColorVectorSpace\u001b[39m \u001b[90mC:\\Users\\ADMIN\\.julia\\packages\\ColorVectorSpace\\tLy1N\\src\\\u001b[39m\u001b[90m\u001b[4mColorVectorSpace.jl:323\u001b[24m\u001b[39m\n",
       " [188] +(\u001b[90mz\u001b[39m::\u001b[1mComplex\u001b[22m, \u001b[90mx\u001b[39m::\u001b[1mReal\u001b[22m)\n",
       "\u001b[90m     @\u001b[39m \u001b[90m\u001b[4mcomplex.jl:329\u001b[24m\u001b[39m\n",
       " [189] +(\u001b[90mdt\u001b[39m::\u001b[1mDates.Date\u001b[22m, \u001b[90mt\u001b[39m::\u001b[1mDates.Time\u001b[22m)\n",
       "\u001b[90m     @\u001b[39m \u001b[35mDates\u001b[39m \u001b[90mD:\\Programs\\Julia\\Julia-1.9.3\\share\\julia\\stdlib\\v1.9\\Dates\\src\\\u001b[39m\u001b[90m\u001b[4marithmetic.jl:19\u001b[24m\u001b[39m\n",
       " [190] +(\u001b[90mdt\u001b[39m::\u001b[1mDates.Date\u001b[22m, \u001b[90my\u001b[39m::\u001b[1mDates.Year\u001b[22m)\n",
       "\u001b[90m     @\u001b[39m \u001b[35mDates\u001b[39m \u001b[90mD:\\Programs\\Julia\\Julia-1.9.3\\share\\julia\\stdlib\\v1.9\\Dates\\src\\\u001b[39m\u001b[90m\u001b[4marithmetic.jl:27\u001b[24m\u001b[39m\n",
       " [191] +(\u001b[90mdt\u001b[39m::\u001b[1mDates.Date\u001b[22m, \u001b[90mz\u001b[39m::\u001b[1mDates.Month\u001b[22m)\n",
       "\u001b[90m     @\u001b[39m \u001b[35mDates\u001b[39m \u001b[90mD:\\Programs\\Julia\\Julia-1.9.3\\share\\julia\\stdlib\\v1.9\\Dates\\src\\\u001b[39m\u001b[90m\u001b[4marithmetic.jl:54\u001b[24m\u001b[39m\n",
       " [192] +(\u001b[90mx\u001b[39m::\u001b[1mDates.Date\u001b[22m, \u001b[90my\u001b[39m::\u001b[1mDates.Quarter\u001b[22m)\n",
       "\u001b[90m     @\u001b[39m \u001b[35mDates\u001b[39m \u001b[90mD:\\Programs\\Julia\\Julia-1.9.3\\share\\julia\\stdlib\\v1.9\\Dates\\src\\\u001b[39m\u001b[90m\u001b[4marithmetic.jl:73\u001b[24m\u001b[39m\n",
       " [193] +(\u001b[90mx\u001b[39m::\u001b[1mDates.Date\u001b[22m, \u001b[90my\u001b[39m::\u001b[1mDates.Week\u001b[22m)\n",
       "\u001b[90m     @\u001b[39m \u001b[35mDates\u001b[39m \u001b[90mD:\\Programs\\Julia\\Julia-1.9.3\\share\\julia\\stdlib\\v1.9\\Dates\\src\\\u001b[39m\u001b[90m\u001b[4marithmetic.jl:77\u001b[24m\u001b[39m\n",
       " [194] +(\u001b[90mx\u001b[39m::\u001b[1mDates.Date\u001b[22m, \u001b[90my\u001b[39m::\u001b[1mDates.Day\u001b[22m)\n",
       "\u001b[90m     @\u001b[39m \u001b[35mDates\u001b[39m \u001b[90mD:\\Programs\\Julia\\Julia-1.9.3\\share\\julia\\stdlib\\v1.9\\Dates\\src\\\u001b[39m\u001b[90m\u001b[4marithmetic.jl:79\u001b[24m\u001b[39m\n",
       " [195] +(::\u001b[1mMissing\u001b[22m)\n",
       "\u001b[90m     @\u001b[39m \u001b[90m\u001b[4mmissing.jl:101\u001b[24m\u001b[39m\n",
       " [196] +(::\u001b[1mMissing\u001b[22m, ::\u001b[1mNumber\u001b[22m)\n",
       "\u001b[90m     @\u001b[39m \u001b[90m\u001b[4mmissing.jl:123\u001b[24m\u001b[39m\n",
       " [197] +(\u001b[90mx\u001b[39m::\u001b[1mMissing\u001b[22m, \u001b[90my\u001b[39m::\u001b[1mDates.AbstractTime\u001b[22m)\n",
       "\u001b[90m     @\u001b[39m \u001b[35mDates\u001b[39m \u001b[90mD:\\Programs\\Julia\\Julia-1.9.3\\share\\julia\\stdlib\\v1.9\\Dates\\src\\\u001b[39m\u001b[90m\u001b[4marithmetic.jl:89\u001b[24m\u001b[39m\n",
       " [198] +(::\u001b[1mMissing\u001b[22m, ::\u001b[1mMissing\u001b[22m)\n",
       "\u001b[90m     @\u001b[39m \u001b[90m\u001b[4mmissing.jl:122\u001b[24m\u001b[39m\n",
       " [199] +(\u001b[90mlevel\u001b[39m::\u001b[1mBase.CoreLogging.LogLevel\u001b[22m, \u001b[90minc\u001b[39m::\u001b[1mInteger\u001b[22m)\n",
       "\u001b[90m     @\u001b[39m \u001b[90mBase.CoreLogging\u001b[39m \u001b[90m\u001b[4mlogging.jl:131\u001b[24m\u001b[39m\n",
       " [200] +(\u001b[90mdt\u001b[39m::\u001b[1mDates.DateTime\u001b[22m, \u001b[90my\u001b[39m::\u001b[1mDates.Year\u001b[22m)\n",
       "\u001b[90m     @\u001b[39m \u001b[35mDates\u001b[39m \u001b[90mD:\\Programs\\Julia\\Julia-1.9.3\\share\\julia\\stdlib\\v1.9\\Dates\\src\\\u001b[39m\u001b[90m\u001b[4marithmetic.jl:23\u001b[24m\u001b[39m\n",
       " [201] +(\u001b[90mdt\u001b[39m::\u001b[1mDates.DateTime\u001b[22m, \u001b[90mz\u001b[39m::\u001b[1mDates.Month\u001b[22m)\n",
       "\u001b[90m     @\u001b[39m \u001b[35mDates\u001b[39m \u001b[90mD:\\Programs\\Julia\\Julia-1.9.3\\share\\julia\\stdlib\\v1.9\\Dates\\src\\\u001b[39m\u001b[90m\u001b[4marithmetic.jl:47\u001b[24m\u001b[39m\n",
       " [202] +(\u001b[90mx\u001b[39m::\u001b[1mDates.DateTime\u001b[22m, \u001b[90my\u001b[39m::\u001b[1mDates.Quarter\u001b[22m)\n",
       "\u001b[90m     @\u001b[39m \u001b[35mDates\u001b[39m \u001b[90mD:\\Programs\\Julia\\Julia-1.9.3\\share\\julia\\stdlib\\v1.9\\Dates\\src\\\u001b[39m\u001b[90m\u001b[4marithmetic.jl:75\u001b[24m\u001b[39m\n",
       " [203] +(\u001b[90mx\u001b[39m::\u001b[1mDates.DateTime\u001b[22m, \u001b[90my\u001b[39m::\u001b[1mDates.Period\u001b[22m)\n",
       "\u001b[90m     @\u001b[39m \u001b[35mDates\u001b[39m \u001b[90mD:\\Programs\\Julia\\Julia-1.9.3\\share\\julia\\stdlib\\v1.9\\Dates\\src\\\u001b[39m\u001b[90m\u001b[4marithmetic.jl:81\u001b[24m\u001b[39m\n",
       " [204] +(\u001b[90mx\u001b[39m::\u001b[1mDates.Time\u001b[22m, \u001b[90my\u001b[39m::\u001b[1mDates.TimePeriod\u001b[22m)\n",
       "\u001b[90m     @\u001b[39m \u001b[35mDates\u001b[39m \u001b[90mD:\\Programs\\Julia\\Julia-1.9.3\\share\\julia\\stdlib\\v1.9\\Dates\\src\\\u001b[39m\u001b[90m\u001b[4marithmetic.jl:83\u001b[24m\u001b[39m\n",
       " [205] +(\u001b[90mt\u001b[39m::\u001b[1mDates.Time\u001b[22m, \u001b[90mdt\u001b[39m::\u001b[1mDates.Date\u001b[22m)\n",
       "\u001b[90m     @\u001b[39m \u001b[35mDates\u001b[39m \u001b[90mD:\\Programs\\Julia\\Julia-1.9.3\\share\\julia\\stdlib\\v1.9\\Dates\\src\\\u001b[39m\u001b[90m\u001b[4marithmetic.jl:20\u001b[24m\u001b[39m\n",
       " [206] +(\u001b[90mx\u001b[39m::\u001b[1mDates.TimeType\u001b[22m)\n",
       "\u001b[90m     @\u001b[39m \u001b[35mDates\u001b[39m \u001b[90mD:\\Programs\\Julia\\Julia-1.9.3\\share\\julia\\stdlib\\v1.9\\Dates\\src\\\u001b[39m\u001b[90m\u001b[4marithmetic.jl:8\u001b[24m\u001b[39m\n",
       " [207] +(\u001b[90mx\u001b[39m::\u001b[1mDates.AbstractTime\u001b[22m, \u001b[90my\u001b[39m::\u001b[1mMissing\u001b[22m)\n",
       "\u001b[90m     @\u001b[39m \u001b[35mDates\u001b[39m \u001b[90mD:\\Programs\\Julia\\Julia-1.9.3\\share\\julia\\stdlib\\v1.9\\Dates\\src\\\u001b[39m\u001b[90m\u001b[4marithmetic.jl:88\u001b[24m\u001b[39m\n",
       " [208] +(\u001b[90ma\u001b[39m::\u001b[1mDates.TimeType\u001b[22m, \u001b[90mb\u001b[39m::\u001b[1mDates.Period\u001b[22m, \u001b[90mc\u001b[39m::\u001b[1mDates.Period\u001b[22m)\n",
       "\u001b[90m     @\u001b[39m \u001b[35mDates\u001b[39m \u001b[90mD:\\Programs\\Julia\\Julia-1.9.3\\share\\julia\\stdlib\\v1.9\\Dates\\src\\\u001b[39m\u001b[90m\u001b[4mperiods.jl:353\u001b[24m\u001b[39m\n",
       " [209] +(\u001b[90ma\u001b[39m::\u001b[1mDates.TimeType\u001b[22m, \u001b[90mb\u001b[39m::\u001b[1mDates.Period\u001b[22m, \u001b[90mc\u001b[39m::\u001b[1mDates.Period\u001b[22m, \u001b[90md\u001b[39m::\u001b[1mDates.Period...\u001b[22m)\n",
       "\u001b[90m     @\u001b[39m \u001b[35mDates\u001b[39m \u001b[90mD:\\Programs\\Julia\\Julia-1.9.3\\share\\julia\\stdlib\\v1.9\\Dates\\src\\\u001b[39m\u001b[90m\u001b[4mperiods.jl:354\u001b[24m\u001b[39m\n",
       " [210] +(\u001b[90mx\u001b[39m::\u001b[1mDates.TimeType\u001b[22m, \u001b[90my\u001b[39m::\u001b[1mDates.CompoundPeriod\u001b[22m)\n",
       "\u001b[90m     @\u001b[39m \u001b[35mDates\u001b[39m \u001b[90mD:\\Programs\\Julia\\Julia-1.9.3\\share\\julia\\stdlib\\v1.9\\Dates\\src\\\u001b[39m\u001b[90m\u001b[4mperiods.jl:356\u001b[24m\u001b[39m\n",
       " [211] +(\u001b[90mB\u001b[39m::\u001b[1mBitMatrix\u001b[22m, \u001b[90mJ\u001b[39m::\u001b[1mLinearAlgebra.UniformScaling\u001b[22m)\n",
       "\u001b[90m     @\u001b[39m \u001b[32mLinearAlgebra\u001b[39m \u001b[90mD:\\Programs\\Julia\\Julia-1.9.3\\share\\julia\\stdlib\\v1.9\\LinearAlgebra\\src\\\u001b[39m\u001b[90m\u001b[4muniformscaling.jl:151\u001b[24m\u001b[39m\n",
       " [212] +(\u001b[90mA\u001b[39m::\u001b[1mAbstractMatrix\u001b[22m, \u001b[90mJ\u001b[39m::\u001b[1mLinearAlgebra.UniformScaling\u001b[22m)\n",
       "\u001b[90m     @\u001b[39m \u001b[32mLinearAlgebra\u001b[39m \u001b[90mD:\\Programs\\Julia\\Julia-1.9.3\\share\\julia\\stdlib\\v1.9\\LinearAlgebra\\src\\\u001b[39m\u001b[90m\u001b[4muniformscaling.jl:214\u001b[24m\u001b[39m\n",
       " [213] +(\u001b[90mx\u001b[39m::\u001b[1mAbstractArray\u001b[22m\u001b[0m{<:Number})\n",
       "\u001b[90m     @\u001b[39m \u001b[90m\u001b[4mabstractarraymath.jl:220\u001b[24m\u001b[39m\n",
       " [214] +(\u001b[90mx\u001b[39m::\u001b[1mDates.CompoundPeriod\u001b[22m, \u001b[90my\u001b[39m::\u001b[1mDates.Period\u001b[22m)\n",
       "\u001b[90m     @\u001b[39m \u001b[35mDates\u001b[39m \u001b[90mD:\\Programs\\Julia\\Julia-1.9.3\\share\\julia\\stdlib\\v1.9\\Dates\\src\\\u001b[39m\u001b[90m\u001b[4mperiods.jl:332\u001b[24m\u001b[39m\n",
       " [215] +(\u001b[90mx\u001b[39m::\u001b[1mDates.CompoundPeriod\u001b[22m, \u001b[90my\u001b[39m::\u001b[1mDates.TimeType\u001b[22m)\n",
       "\u001b[90m     @\u001b[39m \u001b[35mDates\u001b[39m \u001b[90mD:\\Programs\\Julia\\Julia-1.9.3\\share\\julia\\stdlib\\v1.9\\Dates\\src\\\u001b[39m\u001b[90m\u001b[4mperiods.jl:362\u001b[24m\u001b[39m\n",
       " [216] +(\u001b[90mx\u001b[39m::\u001b[1mDates.CompoundPeriod\u001b[22m, \u001b[90my\u001b[39m::\u001b[1mDates.CompoundPeriod\u001b[22m)\n",
       "\u001b[90m     @\u001b[39m \u001b[35mDates\u001b[39m \u001b[90mD:\\Programs\\Julia\\Julia-1.9.3\\share\\julia\\stdlib\\v1.9\\Dates\\src\\\u001b[39m\u001b[90m\u001b[4mperiods.jl:334\u001b[24m\u001b[39m\n",
       " [217] +(\u001b[90mx\u001b[39m::\u001b[1mBigFloat\u001b[22m, \u001b[90mc\u001b[39m::\u001b[1mUnion\u001b[22m\u001b[0m{UInt16, UInt32, UInt8})\n",
       "\u001b[90m     @\u001b[39m \u001b[90mBase.MPFR\u001b[39m \u001b[90m\u001b[4mmpfr.jl:402\u001b[24m\u001b[39m\n",
       " [218] +(\u001b[90mx\u001b[39m::\u001b[1mBigFloat\u001b[22m, \u001b[90mc\u001b[39m::\u001b[1mUnion\u001b[22m\u001b[0m{Int16, Int32, Int8})\n",
       "\u001b[90m     @\u001b[39m \u001b[90mBase.MPFR\u001b[39m \u001b[90m\u001b[4mmpfr.jl:410\u001b[24m\u001b[39m\n",
       " [219] +(\u001b[90mx\u001b[39m::\u001b[1mBigFloat\u001b[22m, \u001b[90mc\u001b[39m::\u001b[1mUnion\u001b[22m\u001b[0m{Float16, Float32, Float64})\n",
       "\u001b[90m     @\u001b[39m \u001b[90mBase.MPFR\u001b[39m \u001b[90m\u001b[4mmpfr.jl:418\u001b[24m\u001b[39m\n",
       " [220] +(\u001b[90mx\u001b[39m::\u001b[1mBigFloat\u001b[22m, \u001b[90my\u001b[39m::\u001b[1mBigFloat\u001b[22m)\n",
       "\u001b[90m     @\u001b[39m \u001b[90mBase.MPFR\u001b[39m \u001b[90m\u001b[4mmpfr.jl:395\u001b[24m\u001b[39m\n",
       " [221] +(\u001b[90mx\u001b[39m::\u001b[1mBigFloat\u001b[22m, \u001b[90mc\u001b[39m::\u001b[1mBigInt\u001b[22m)\n",
       "\u001b[90m     @\u001b[39m \u001b[90mBase.MPFR\u001b[39m \u001b[90m\u001b[4mmpfr.jl:426\u001b[24m\u001b[39m\n",
       " [222] +(\u001b[90ma\u001b[39m::\u001b[1mBigFloat\u001b[22m, \u001b[90mb\u001b[39m::\u001b[1mBigFloat\u001b[22m, \u001b[90mc\u001b[39m::\u001b[1mBigFloat\u001b[22m)\n",
       "\u001b[90m     @\u001b[39m \u001b[90mBase.MPFR\u001b[39m \u001b[90m\u001b[4mmpfr.jl:567\u001b[24m\u001b[39m\n",
       " [223] +(\u001b[90ma\u001b[39m::\u001b[1mBigFloat\u001b[22m, \u001b[90mb\u001b[39m::\u001b[1mBigFloat\u001b[22m, \u001b[90mc\u001b[39m::\u001b[1mBigFloat\u001b[22m, \u001b[90md\u001b[39m::\u001b[1mBigFloat\u001b[22m)\n",
       "\u001b[90m     @\u001b[39m \u001b[90mBase.MPFR\u001b[39m \u001b[90m\u001b[4mmpfr.jl:573\u001b[24m\u001b[39m\n",
       " [224] +(\u001b[90ma\u001b[39m::\u001b[1mBigFloat\u001b[22m, \u001b[90mb\u001b[39m::\u001b[1mBigFloat\u001b[22m, \u001b[90mc\u001b[39m::\u001b[1mBigFloat\u001b[22m, \u001b[90md\u001b[39m::\u001b[1mBigFloat\u001b[22m, \u001b[90me\u001b[39m::\u001b[1mBigFloat\u001b[22m)\n",
       "\u001b[90m     @\u001b[39m \u001b[90mBase.MPFR\u001b[39m \u001b[90m\u001b[4mmpfr.jl:580\u001b[24m\u001b[39m\n",
       " [225] +(\u001b[90mx\u001b[39m::\u001b[1mNumber\u001b[22m)\n",
       "\u001b[90m     @\u001b[39m \u001b[90m\u001b[4moperators.jl:515\u001b[24m\u001b[39m\n",
       " [226] +(\u001b[90mx\u001b[39m::\u001b[1mT\u001b[22m, \u001b[90my\u001b[39m::\u001b[1mT\u001b[22m) where T<:Number\n",
       "\u001b[90m     @\u001b[39m \u001b[90m\u001b[4mpromotion.jl:485\u001b[24m\u001b[39m\n",
       " [227] +(\u001b[90mx\u001b[39m::\u001b[1mNumber\u001b[22m, \u001b[90my\u001b[39m::\u001b[1mNumber\u001b[22m)\n",
       "\u001b[90m     @\u001b[39m \u001b[90m\u001b[4mpromotion.jl:410\u001b[24m\u001b[39m\n",
       " [228] +(\u001b[90ma\u001b[39m, \u001b[90mb\u001b[39m, \u001b[90mc\u001b[39m, \u001b[90mxs...\u001b[39m)\n",
       "\u001b[90m     @\u001b[39m \u001b[90m\u001b[4moperators.jl:578\u001b[24m\u001b[39m"
      ]
     },
     "metadata": {},
     "output_type": "display_data"
    }
   ],
   "source": [
    "#By calling methods(), we can see how many existing mthods we have +\n",
    "methods(+) "
   ]
  },
  {
   "cell_type": "code",
   "execution_count": 137,
   "metadata": {},
   "outputs": [
    {
     "data": {
      "text/html": [
       "+(x::<b>T</b>, y::<b>T</b>)<i> where T<:Union{Int128, Int16, Int32, Int64, Int8, UInt128, UInt16, UInt32, UInt64, UInt8}</i> in Base at <a href=\"https://github.com/JuliaLang/julia/tree/bed2cd540a11544ed4be381d471bbf590f0b745e/base/int.jl#L87\" target=\"_blank\">int.jl:87</a>"
      ],
      "text/plain": [
       "+(\u001b[90mx\u001b[39m::\u001b[1mT\u001b[22m, \u001b[90my\u001b[39m::\u001b[1mT\u001b[22m) where T<:Union{Int128, Int16, Int32, Int64, Int8, UInt128, UInt16, UInt32, UInt64, UInt8}\n",
       "\u001b[90m     @\u001b[39m \u001b[90mBase\u001b[39m \u001b[90m\u001b[4mint.jl:87\u001b[24m\u001b[39m"
      ]
     },
     "metadata": {},
     "output_type": "display_data"
    }
   ],
   "source": [
    "@which 3+3 #type of the method."
   ]
  },
  {
   "cell_type": "code",
   "execution_count": 142,
   "metadata": {},
   "outputs": [
    {
     "data": {
      "text/plain": [
       "\"helloworld\""
      ]
     },
     "metadata": {},
     "output_type": "display_data"
    }
   ],
   "source": [
    "#further more, we can define new method for it\n",
    "import Base.+ #this must be done before defining new method.\n",
    "+(x::String, y:: String) = string(x, y)\n",
    "\"hello\"+\"world\""
   ]
  },
  {
   "cell_type": "markdown",
   "metadata": {},
   "source": [
    "Basic algebra in Julia: Similar to mathlab\n",
    "A\\b solve linear equation, with smallest norm if it is singular\n",
    "' tranpose\n",
    "matrix multiplication\n",
    "\n"
   ]
  },
  {
   "cell_type": "code",
   "execution_count": 144,
   "metadata": {},
   "outputs": [
    {
     "data": {
      "text/plain": [
       "3×6 Matrix{Int64}:\n",
       " 2  4  2  2  4  2\n",
       " 1  1  4  1  1  4\n",
       " 3  4  2  3  4  2"
      ]
     },
     "metadata": {},
     "output_type": "display_data"
    }
   ],
   "source": [
    "A = rand(1:4,3,3)\n",
    "B = A\n",
    "C =copy(A)\n",
    "[B C]"
   ]
  },
  {
   "cell_type": "code",
   "execution_count": null,
   "metadata": {},
   "outputs": [],
   "source": []
  }
 ],
 "metadata": {
  "kernelspec": {
   "display_name": "Julia 1.9.3",
   "language": "julia",
   "name": "julia-1.9"
  },
  "language_info": {
   "file_extension": ".jl",
   "mimetype": "application/julia",
   "name": "julia",
   "version": "1.9.3"
  }
 },
 "nbformat": 4,
 "nbformat_minor": 2
}
